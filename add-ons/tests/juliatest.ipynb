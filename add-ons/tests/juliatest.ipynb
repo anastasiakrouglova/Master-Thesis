{
 "cells": [
  {
   "cell_type": "code",
   "execution_count": 1,
   "metadata": {},
   "outputs": [
    {
     "data": {
      "text/plain": [
       "PyObject <module 'numpy' from '/Users/nastysushi/.julia/conda/3/x86_64/lib/python3.10/site-packages/numpy/__init__.py'>"
      ]
     },
     "metadata": {},
     "output_type": "display_data"
    }
   ],
   "source": [
    "using PyCall\n",
    "np = pyimport(\"numpy\")\n",
    "#utilities = pyimport(\"utilities_store\")"
   ]
  },
  {
   "cell_type": "code",
   "execution_count": 5,
   "metadata": {},
   "outputs": [
    {
     "name": "stderr",
     "output_type": "stream",
     "text": [
      "\u001b[32m\u001b[1m    Building\u001b[22m\u001b[39m Conda ─→ `~/.julia/scratchspaces/44cfe95a-1eb2-52ea-b672-e2afdf69b78f/e32a90da027ca45d84678b826fffd3110bb3fc90/build.log`\n"
     ]
    },
    {
     "name": "stderr",
     "output_type": "stream",
     "text": [
      "\u001b[32m\u001b[1m    Building\u001b[22m\u001b[39m PyCall → `~/.julia/scratchspaces/44cfe95a-1eb2-52ea-b672-e2afdf69b78f/62f417f6ad727987c755549e9cd88c46578da562/build.log`\n"
     ]
    },
    {
     "name": "stderr",
     "output_type": "stream",
     "text": [
      "\u001b[32m\u001b[1mPrecompiling\u001b[22m\u001b[39m "
     ]
    },
    {
     "name": "stderr",
     "output_type": "stream",
     "text": [
      "project...\n"
     ]
    },
    {
     "name": "stderr",
     "output_type": "stream",
     "text": [
      "\u001b[33m  ✓ \u001b[39mPyCall\n"
     ]
    },
    {
     "name": "stderr",
     "output_type": "stream",
     "text": [
      "\u001b[32m  ✓ \u001b[39mIPython\n"
     ]
    },
    {
     "name": "stderr",
     "output_type": "stream",
     "text": [
      "\u001b[32m  ✓ \u001b[39mPyPlot\n"
     ]
    },
    {
     "name": "stderr",
     "output_type": "stream",
     "text": [
      "\u001b[32m  ✓ \u001b[39mScikitLearn\n",
      "  4 dependencies successfully precompiled in 19 seconds. 313 already precompiled.\n",
      "  \u001b[33m1\u001b[39m dependency precompiled but a different version is currently loaded. Restart julia to access the new version\n"
     ]
    },
    {
     "ename": "PyCall.PyError",
     "evalue": "PyError (PyImport_ImportModule\n\nThe Python package utilities_store.get_spectrogram could not be imported by pyimport. Usually this means\nthat you did not install utilities_store.get_spectrogram in the Python version being used by PyCall.\n\nPyCall is currently configured to use the Python version at:\n\n/Users/nastysushi/opt/miniconda3/bin/python\n\nand you should use whatever mechanism you usually use (apt-get, pip, conda,\netcetera) to install the Python package containing the utilities_store.get_spectrogram module.\n\nOne alternative is to re-configure PyCall to use a different Python\nversion on your system: set ENV[\"PYTHON\"] to the path/name of the python\nexecutable you want to use, run Pkg.build(\"PyCall\"), and re-launch Julia.\n\nAnother alternative is to configure PyCall to use a Julia-specific Python\ndistribution via the Conda.jl package (which installs a private Anaconda\nPython distribution), which has the advantage that packages can be installed\nand kept up-to-date via Julia.  As explained in the PyCall documentation,\nset ENV[\"PYTHON\"]=\"\", run Pkg.build(\"PyCall\"), and re-launch Julia. Then,\nTo install the utilities_store.get_spectrogram module, you can use `pyimport_conda(\"utilities_store.get_spectrogram\", PKG)`,\nwhere PKG is the Anaconda package that contains the module utilities_store.get_spectrogram,\nor alternatively you can use the Conda package directly (via\n`using Conda` followed by `Conda.add` etcetera).\n\n) <class 'ModuleNotFoundError'>\nModuleNotFoundError(\"No module named 'utilities_store'\")\n",
     "output_type": "error",
     "traceback": [
      "PyError (PyImport_ImportModule\n",
      "\n",
      "The Python package utilities_store.get_spectrogram could not be imported by pyimport. Usually this means\n",
      "that you did not install utilities_store.get_spectrogram in the Python version being used by PyCall.\n",
      "\n",
      "PyCall is currently configured to use the Python version at:\n",
      "\n",
      "/Users/nastysushi/opt/miniconda3/bin/python\n",
      "\n",
      "and you should use whatever mechanism you usually use (apt-get, pip, conda,\n",
      "etcetera) to install the Python package containing the utilities_store.get_spectrogram module.\n",
      "\n",
      "One alternative is to re-configure PyCall to use a different Python\n",
      "version on your system: set ENV[\"PYTHON\"] to the path/name of the python\n",
      "executable you want to use, run Pkg.build(\"PyCall\"), and re-launch Julia.\n",
      "\n",
      "Another alternative is to configure PyCall to use a Julia-specific Python\n",
      "distribution via the Conda.jl package (which installs a private Anaconda\n",
      "Python distribution), which has the advantage that packages can be installed\n",
      "and kept up-to-date via Julia.  As explained in the PyCall documentation,\n",
      "set ENV[\"PYTHON\"]=\"\", run Pkg.build(\"PyCall\"), and re-launch Julia. Then,\n",
      "To install the utilities_store.get_spectrogram module, you can use `pyimport_conda(\"utilities_store.get_spectrogram\", PKG)`,\n",
      "where PKG is the Anaconda package that contains the module utilities_store.get_spectrogram,\n",
      "or alternatively you can use the Conda package directly (via\n",
      "`using Conda` followed by `Conda.add` etcetera).\n",
      "\n",
      ") <class 'ModuleNotFoundError'>\n",
      "ModuleNotFoundError(\"No module named 'utilities_store'\")\n",
      "\n",
      "\n",
      "Stacktrace:\n",
      " [1] pyimport(name::String)\n",
      "   @ PyCall ~/.julia/packages/PyCall/twYvK/src/PyCall.jl:558\n",
      " [2] top-level scope\n",
      "   @ ~/Mirror/_MULTIMEDIA/THESIS/thesis/github/tests/juliatest.ipynb:6"
     ]
    }
   ],
   "source": [
    "using PyCall\n",
    "ENV[\"PYTHON\"]=\"\"\n",
    "using Pkg\n",
    "Pkg.build(\"PyCall\")\n",
    "push!(pyimport(\"sys\").\"path\", \"/Users/nastysushi/Mirror/_MULTIMEDIA/THESIS/thesis/github/fpt/utilities_store\")\n",
    "mymodule = pyimport(\"utilities_store.get_spectrogram\")\n"
   ]
  },
  {
   "cell_type": "code",
   "execution_count": null,
   "metadata": {},
   "outputs": [],
   "source": [
    "np.arange(0, 10)"
   ]
  },
  {
   "cell_type": "code",
   "execution_count": 5,
   "metadata": {},
   "outputs": [
    {
     "name": "stdout",
     "output_type": "stream",
     "text": [
      "hello world"
     ]
    }
   ],
   "source": [
    "print(\"hello world\")"
   ]
  }
 ],
 "metadata": {
  "kernelspec": {
   "display_name": "Julia 1.8.5",
   "language": "julia",
   "name": "julia-1.8"
  },
  "language_info": {
   "file_extension": ".jl",
   "mimetype": "application/julia",
   "name": "julia",
   "version": "1.8.5"
  },
  "orig_nbformat": 4
 },
 "nbformat": 4,
 "nbformat_minor": 2
}
