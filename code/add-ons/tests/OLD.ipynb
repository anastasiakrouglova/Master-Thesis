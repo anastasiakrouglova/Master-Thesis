{
 "cells": [
  {
   "cell_type": "code",
   "execution_count": 8,
   "id": "ce277a8c",
   "metadata": {},
   "outputs": [
    {
     "name": "stdout",
     "output_type": "stream",
     "text": [
      "Note: Your dataset does not contain complex values, so you won't need the Pair in the Hierarchy."
     ]
    },
    {
     "name": "stderr",
     "output_type": "stream",
     "text": [
      "WARNING: replacing module Flute.\n"
     ]
    },
    {
     "data": {
      "text/plain": [
       "Main.Flute"
      ]
     },
     "metadata": {},
     "output_type": "display_data"
    }
   ],
   "source": [
    "using Chakra #, Charm\n",
    "push!(LOAD_PATH, \"./src/\")\n",
    "using Resonances\n",
    "include(\"./src/Flute.jl\")\n",
    "\n",
    "# Chakra.isdatasource(Flute)\n",
    "# typeof(Flute)"
   ]
  },
  {
   "cell_type": "code",
   "execution_count": 2,
   "id": "aed22180",
   "metadata": {},
   "outputs": [
    {
     "data": {
      "text/plain": [
       "Resonances.DRSId(1)"
      ]
     },
     "metadata": {},
     "output_type": "display_data"
    }
   ],
   "source": [
    "## inititialization resonance and slice id's\n",
    "res10 = Flute.Resonances.resId(10)\n",
    "res20 = Flute.Resonances.resId(20)\n",
    "res40 = Flute.Resonances.resId(40)\n",
    "\n",
    "# pair3 = Flute.Resonances.pairId(3)\n",
    "# pair2000 = Flute.Resonances.pairId(2000)\n",
    "\n",
    "# slice5 = Flute.Resonances.sliceId(5)\n",
    "# slice10 = Flute.Resonances.sliceId(10)\n",
    "\n",
    "# drs = Flute.Resonances.drsId(1)"
   ]
  },
  {
   "cell_type": "code",
   "execution_count": 3,
   "id": "117301f8",
   "metadata": {},
   "outputs": [
    {
     "data": {
      "text/plain": [
       "Resonances.DRS(Resonances.DRSId(1), \u001b[1m47419×13 DataFrame\u001b[0m\n",
       "\u001b[1m   Row \u001b[0m│\u001b[1m onset \u001b[0m\u001b[1m duration \u001b[0m\u001b[1m sample_rate \u001b[0m\u001b[1m amplitude  \u001b[0m\u001b[1m phase     \u001b[0m\u001b[1m frequency \u001b[0m\u001b[1m decay\u001b[0m ⋯\n",
       "\u001b[1m       \u001b[0m│\u001b[90m Int64 \u001b[0m\u001b[90m Int64    \u001b[0m\u001b[90m Int64       \u001b[0m\u001b[90m Float64    \u001b[0m\u001b[90m Float64   \u001b[0m\u001b[90m Float64   \u001b[0m\u001b[90m Float\u001b[0m ⋯\n",
       "───────┼────────────────────────────────────────────────────────────────────────\n",
       "     1 │     0       512        44100  1.44979e-5   0.744313   20853.1     -5. ⋯\n",
       "     2 │     0       512        44100  1.44979e-5  -0.744313  -20853.1     -5.\n",
       "     3 │     0       512        44100  6.32332e-5  -1.76691    20999.7    -67.\n",
       "     4 │     0       512        44100  6.32332e-5   1.76691   -20999.7    -67.\n",
       "     5 │     0       512        44100  1.66388e-5  -1.839      20408.3    -28. ⋯\n",
       "     6 │     0       512        44100  1.66388e-5   1.839     -20408.3    -28.\n",
       "     7 │     0       512        44100  5.207e-5    -0.452759   20667.0    -88.\n",
       "     8 │     0       512        44100  5.207e-5     0.452759  -20667.0    -88.\n",
       "   ⋮   │   ⋮       ⋮           ⋮           ⋮           ⋮          ⋮          ⋮ ⋱\n",
       " 47413 │ 94720        83        44100  1.17763     -1.08306     1788.73  -898. ⋯\n",
       " 47414 │ 94720        83        44100  1.17763      1.08306    -1788.73  -898.\n",
       " 47415 │ 94720        83        44100  1.39008      0.275239    1314.72  -925.\n",
       " 47416 │ 94720        83        44100  1.39008     -0.275239   -1314.72  -925.\n",
       " 47417 │ 94720        83        44100  0.969085     1.97884      859.36  -945. ⋯\n",
       " 47418 │ 94720        83        44100  0.969085    -1.97884     -859.36  -945.\n",
       " 47419 │ 94720        83        44100  0.466578    -3.14159       -0.0   -951.\n",
       "\u001b[36m                                                7 columns and 47404 rows omitted\u001b[0m)"
      ]
     },
     "metadata": {},
     "output_type": "display_data"
    }
   ],
   "source": [
    "fnd(drs, Flute)"
   ]
  },
  {
   "cell_type": "code",
   "execution_count": 18,
   "id": "2f81ef4f",
   "metadata": {},
   "outputs": [
    {
     "data": {
      "text/plain": [
       "6-element Vector{Resonances.Id}:\n",
       " Resonances.SliceId(5)\n",
       " Resonances.SliceId(6)\n",
       " Resonances.SliceId(7)\n",
       " Resonances.SliceId(8)\n",
       " Resonances.SliceId(9)\n",
       " Resonances.SliceId(10)"
      ]
     },
     "metadata": {},
     "output_type": "display_data"
    }
   ],
   "source": [
    "# Parts of one dimensional DRS structure in time\n",
    "res10pts = pts(res10, Flute)\n",
    "pair3pts = pts(pair3, Flute)\n",
    "slice5pts = pts(slice5, Flute)\n",
    "drs1pts = pts(drs, Flute)\n",
    "\n",
    "# Parts of groupings in time of DRS\n",
    "sliceSeqpts = pts(Resonances.getSlice(slice5, slice10, Flute))"
   ]
  },
  {
   "cell_type": "code",
   "execution_count": 20,
   "id": "e0726559",
   "metadata": {},
   "outputs": [
    {
     "data": {
      "text/plain": [
       "Resonances.Resonance(\u001b[1mDataFrameRow\u001b[0m\n",
       "\u001b[1m Row \u001b[0m│\u001b[1m onset \u001b[0m\u001b[1m duration \u001b[0m\u001b[1m sample_rate \u001b[0m\u001b[1m amplitude  \u001b[0m\u001b[1m phase     \u001b[0m\u001b[1m frequency \u001b[0m\u001b[1m decay  \u001b[0m ⋯\n",
       "\u001b[1m     \u001b[0m│\u001b[90m Int64 \u001b[0m\u001b[90m Int64    \u001b[0m\u001b[90m Int64       \u001b[0m\u001b[90m Float64    \u001b[0m\u001b[90m Float64   \u001b[0m\u001b[90m Float64   \u001b[0m\u001b[90m Float64\u001b[0m ⋯\n",
       "─────┼──────────────────────────────────────────────────────────────────────────\n",
       "  10 │     0       512        44100  8.45435e-5  -0.766382   -20398.8  -137.77 ⋯\n",
       "\u001b[36m                                                               7 columns omitted\u001b[0m)"
      ]
     },
     "metadata": {},
     "output_type": "display_data"
    }
   ],
   "source": [
    "# Find values of Constituents\n",
    "\n",
    "res10Val = fnd(res10, Flute)\n",
    "pair3Val = fnd(pair3, Flute) # is equal to Resonances.Pair(pair3, Flute.__data__)\n",
    "sliceVal = fnd(slice5, Flute) # .resonances.id to get id for example\n",
    "drsVal = fnd(drs, Flute)\n",
    "\n",
    "res10Val"
   ]
  },
  {
   "cell_type": "code",
   "execution_count": 22,
   "id": "7ef35b92",
   "metadata": {},
   "outputs": [
    {
     "data": {
      "text/plain": [
       "Resonances.FrequencyBand(100, 200, \u001b[1m68×13 DataFrame\u001b[0m\n",
       "\u001b[1m Row \u001b[0m│\u001b[1m onset \u001b[0m\u001b[1m duration \u001b[0m\u001b[1m sample_rate \u001b[0m\u001b[1m amplitude   \u001b[0m\u001b[1m phase      \u001b[0m\u001b[1m frequency \u001b[0m\u001b[1m decay\u001b[0m ⋯\n",
       "\u001b[1m     \u001b[0m│\u001b[90m Int64 \u001b[0m\u001b[90m Int64    \u001b[0m\u001b[90m Int64       \u001b[0m\u001b[90m Float64     \u001b[0m\u001b[90m Float64    \u001b[0m\u001b[90m Float64   \u001b[0m\u001b[90m Float\u001b[0m ⋯\n",
       "─────┼──────────────────────────────────────────────────────────────────────────\n",
       "   1 │     0       512        44100  0.000157744  -1.66473      153.28    -42. ⋯\n",
       "   2 │   512       512        44100  1.09362e-7   -2.95874      112.309   118.\n",
       "   3 │  2560       512        44100  0.00047368    0.607594     173.246   -83.\n",
       "   4 │  5632       512        44100  0.000117169   1.54471      145.212   -27.\n",
       "   5 │  9216       512        44100  5.10191e-5    3.10633      125.791     8. ⋯\n",
       "   6 │ 10752       512        44100  0.00011233    0.0923993    111.744   -12.\n",
       "   7 │ 11264       512        44100  2.42799e-5   -2.44395      179.728    20.\n",
       "   8 │ 16896       512        44100  1.17876e-5   -0.535523     179.505    37.\n",
       "  ⋮  │   ⋮       ⋮           ⋮            ⋮           ⋮           ⋮          ⋮ ⋱\n",
       "  62 │ 87552       512        44100  1.71114e-5   -0.567734     103.498    32. ⋯\n",
       "  63 │ 88576       512        44100  1.87555e-5    1.90575      118.07      1.\n",
       "  64 │ 89600       512        44100  0.000555799  -0.309008     142.173  -127.\n",
       "  65 │ 90624       512        44100  0.00012012    1.03463      144.028   -23.\n",
       "  66 │ 92672       512        44100  1.28962e-5    3.03903      161.08     30. ⋯\n",
       "  67 │ 93696       512        44100  2.97882e-5   -1.2628       112.313    22.\n",
       "  68 │ 94208       512        44100  0.000231092   1.99616      174.364  -105.\n",
       "\u001b[36m                                                   7 columns and 53 rows omitted\u001b[0m)"
      ]
     },
     "metadata": {},
     "output_type": "display_data"
    }
   ],
   "source": [
    "Resonances.getFrequencyBand(100, 200, Flute) #.resonances.id\n",
    "#Resonances.getFrequencyBand(\"pos\", Flute)"
   ]
  },
  {
   "cell_type": "code",
   "execution_count": 23,
   "id": "421d89d5",
   "metadata": {},
   "outputs": [
    {
     "ename": "UndefVarError",
     "evalue": "UndefVarError: x not defined",
     "output_type": "error",
     "traceback": [
      "UndefVarError: x not defined\n",
      "\n",
      "Stacktrace:\n",
      " [1] top-level scope\n",
      "   @ ~/Mirror/_MULTIMEDIA/THESIS/thesis/github/resonance-knowledge/Resonance.ipynb:1"
     ]
    }
   ],
   "source": [
    "#pts(Resonances.findResonancesByIds([x, y, s], Flute)) # To find multiple resonances, returns the x resonances found by id"
   ]
  },
  {
   "cell_type": "code",
   "execution_count": 27,
   "id": "a1738cce",
   "metadata": {},
   "outputs": [
    {
     "data": {
      "text/plain": [
       "256-element Vector{Float64}:\n",
       "  21401.297019454785\n",
       " -21401.297019454785\n",
       "  21638.50449886134\n",
       " -21638.50449886134\n",
       "  20957.43147981755\n",
       " -20957.43147981755\n",
       "  20202.883279015965\n",
       " -20202.883279015965\n",
       "  20689.492946503047\n",
       " -20689.492946503047\n",
       "      ⋮\n",
       "   -802.5393949048917\n",
       "    802.5393949048917\n",
       "   -876.7211080465008\n",
       "    876.7211080465008\n",
       "   -393.78066302724295\n",
       "    393.78066302724295\n",
       "   -437.95180686186666\n",
       "    437.95180686186666\n",
       "      0.0"
      ]
     },
     "metadata": {},
     "output_type": "display_data"
    }
   ],
   "source": [
    "#Resonances.getSlice(z, Flute).resonances.sliceId"
   ]
  },
  {
   "cell_type": "code",
   "execution_count": null,
   "id": "2560170c",
   "metadata": {},
   "outputs": [],
   "source": [
    "Resonances.getSlice(z, Flute)"
   ]
  },
  {
   "cell_type": "code",
   "execution_count": null,
   "id": "3ee08896",
   "metadata": {},
   "outputs": [],
   "source": [
    "## Get a slice in time, each slice = onset/duration or multiple slices between a range,  : means until the end (or from the beginning)\n",
    "\n",
    "Resonances.getSlice(z, Flute)\n",
    "#Resonances.getSlice(z, :, Flute) # Resonances.getSlice(<start>, <end>, Flute) \n",
    "#Resonances.getSlice(:, w, Flute)\n",
    "Resonances.getSlice(z, w, Flute) "
   ]
  },
  {
   "cell_type": "code",
   "execution_count": null,
   "id": "2897e796",
   "metadata": {},
   "outputs": [],
   "source": [
    "# Get frequencies in a certain bandwidth\n",
    "\n",
    "#Resonances.getFrequencyBand(-100, :, Flute)\n",
    "#Resonances.getFrequencyBand(:, 1000, Flute)\n",
    "Resonances.getFrequencyBand(3.54, 1000, Flute)\n",
    "Resonances.getFrequencyBand(\"pos\", Flute)"
   ]
  },
  {
   "cell_type": "code",
   "execution_count": null,
   "id": "d8cc86b0",
   "metadata": {},
   "outputs": [],
   "source": [
    "# Resonances are the smallest constituents, so they don't have any parts\n",
    "# Flute.Resonances.sliceSeqId(pts(fnd(x, Flute))) "
   ]
  },
  {
   "cell_type": "code",
   "execution_count": null,
   "id": "561293f5",
   "metadata": {},
   "outputs": [],
   "source": [
    "pts(Resonances.getSlice(w, Flute))"
   ]
  },
  {
   "cell_type": "code",
   "execution_count": null,
   "id": "3be56a55",
   "metadata": {},
   "outputs": [],
   "source": [
    "pts(Resonances.getSlice(w, Flute))"
   ]
  },
  {
   "cell_type": "code",
   "execution_count": null,
   "id": "02b00ab7",
   "metadata": {},
   "outputs": [],
   "source": [
    "using DataFrames\n",
    "using CSV "
   ]
  },
  {
   "cell_type": "code",
   "execution_count": null,
   "id": "be8dd95f",
   "metadata": {},
   "outputs": [],
   "source": [
    "df = DataFrame(CSV.File(\"./flute_a4.csv\"))\n",
    "first(df, 5)"
   ]
  },
  {
   "cell_type": "code",
   "execution_count": null,
   "id": "7dbee019",
   "metadata": {},
   "outputs": [],
   "source": [
    "typeof(df)"
   ]
  },
  {
   "cell_type": "code",
   "execution_count": null,
   "id": "7e1c28db",
   "metadata": {},
   "outputs": [],
   "source": [
    "Hierarchy(df)"
   ]
  },
  {
   "cell_type": "code",
   "execution_count": null,
   "id": "0b6f4cf0",
   "metadata": {},
   "outputs": [],
   "source": [
    "typeof(Hierarchy(df))"
   ]
  },
  {
   "cell_type": "code",
   "execution_count": null,
   "id": "0f1fd91b",
   "metadata": {},
   "outputs": [],
   "source": [
    "typeof(Id(1))"
   ]
  },
  {
   "cell_type": "code",
   "execution_count": null,
   "id": "1a41a4d8",
   "metadata": {},
   "outputs": [],
   "source": [
    "# Chakra.fnd(x::Id, h::Hierarchy)::Constituent = Constituent(h.value(x.value,:))\n",
    "# fnd(Id(1), Hierarchy(df))\n",
    "\n",
    "Chakra.fnd(x::Id,m::Hierarchy)::Constituent = fnd(m.value(x.value),:)\n",
    "\n",
    "fnd(Id(1), Hierarchy(df))"
   ]
  },
  {
   "cell_type": "code",
   "execution_count": null,
   "id": "dfdd36cf",
   "metadata": {},
   "outputs": [],
   "source": [
    "# Add df to hierarchy?\n",
    "__data__ = Charm.Resonance.DataSet\n",
    "\n",
    "peek(m::Module) = peek(m.__data__)\n"
   ]
  },
  {
   "cell_type": "code",
   "execution_count": null,
   "id": "fc1b05a1",
   "metadata": {},
   "outputs": [],
   "source": [
    "\n",
    "\n",
    "#Charm.getpitch()\n",
    "# resonance <: chakra.constituent\n",
    "\n",
    "\n",
    "\n",
    "# FREQ\n",
    "# struct FRQ <:Chakra.attribute(:req, Float64) end\n",
    "# Chakra.geta(:FREQ, c;;Constituent)::Float64 = c.value[\"<field in table\"]\n",
    "# Check\n",
    "# geta(FREQ(), fnd(Id(1), Hierarchy(df))))"
   ]
  },
  {
   "cell_type": "code",
   "execution_count": null,
   "id": "cfdc2513",
   "metadata": {},
   "outputs": [],
   "source": [
    "Chakra.isdatasource(Flute)  # moet true zijn!"
   ]
  },
  {
   "cell_type": "code",
   "execution_count": null,
   "id": "aa766415",
   "metadata": {},
   "outputs": [],
   "source": [
    "x = Charm.Resonance.id(\"flute_a4.csv\")"
   ]
  },
  {
   "cell_type": "code",
   "execution_count": null,
   "id": "c713a7b0",
   "metadata": {},
   "outputs": [],
   "source": [
    "x = Charm.Midi.id(\"syrinx.mid\")"
   ]
  },
  {
   "cell_type": "code",
   "execution_count": null,
   "id": "8aeb98c4",
   "metadata": {},
   "outputs": [],
   "source": [
    "syrinx = fnd(x,Syrinx)"
   ]
  },
  {
   "cell_type": "code",
   "execution_count": null,
   "id": "27bededf",
   "metadata": {},
   "outputs": [],
   "source": [
    "typeof(syrinx)"
   ]
  },
  {
   "cell_type": "code",
   "execution_count": null,
   "id": "2283d0b0",
   "metadata": {},
   "outputs": [],
   "source": [
    "tracks = pts(syrinx)"
   ]
  },
  {
   "cell_type": "code",
   "execution_count": null,
   "id": "5f098334",
   "metadata": {},
   "outputs": [],
   "source": [
    "track1 = tracks[1]"
   ]
  },
  {
   "cell_type": "code",
   "execution_count": null,
   "id": "b826bba3",
   "metadata": {},
   "outputs": [],
   "source": [
    "track1 = fnd(track1,Syrinx)"
   ]
  },
  {
   "cell_type": "code",
   "execution_count": null,
   "id": "2bf9bb18",
   "metadata": {},
   "outputs": [],
   "source": [
    "notes = pts(track1)"
   ]
  },
  {
   "cell_type": "code",
   "execution_count": null,
   "id": "76ffa51f",
   "metadata": {},
   "outputs": [],
   "source": [
    "note1 = fnd(Charm.Midi.id(\"syrinx.mid\",1,1),Syrinx)"
   ]
  },
  {
   "cell_type": "code",
   "execution_count": null,
   "id": "375e40d9",
   "metadata": {},
   "outputs": [],
   "source": [
    "getpitch(note1)"
   ]
  },
  {
   "cell_type": "code",
   "execution_count": null,
   "id": "472cc9ed",
   "metadata": {},
   "outputs": [],
   "source": [
    "getonset(note1)"
   ]
  },
  {
   "cell_type": "code",
   "execution_count": null,
   "id": "b55181f6",
   "metadata": {},
   "outputs": [],
   "source": [
    "getduration(note1)"
   ]
  },
  {
   "cell_type": "code",
   "execution_count": null,
   "id": "80864dac",
   "metadata": {},
   "outputs": [],
   "source": [
    "fnd(Charm.Midi.id(\"syrinx.mid\",2,1),Syrinx)"
   ]
  },
  {
   "cell_type": "code",
   "execution_count": null,
   "id": "4d0bb2f6",
   "metadata": {},
   "outputs": [],
   "source": [
    "@time notes = sequence(notes,Syrinx) #question"
   ]
  },
  {
   "cell_type": "code",
   "execution_count": null,
   "id": "d022407c",
   "metadata": {},
   "outputs": [],
   "source": [
    "pitchvp = vp(Charm.Attribute(:pitch))\n",
    "onsetvp = vp(Charm.Attribute(:onset))\n",
    "X = link(pitchvp,onsetvp)"
   ]
  },
  {
   "cell_type": "code",
   "execution_count": null,
   "id": "b53cd515",
   "metadata": {},
   "outputs": [],
   "source": [
    "typeof(pitchvp)"
   ]
  },
  {
   "cell_type": "code",
   "execution_count": null,
   "id": "f3d8cc2f",
   "metadata": {},
   "outputs": [],
   "source": [
    "vp_map(X,notes)"
   ]
  },
  {
   "cell_type": "code",
   "execution_count": null,
   "id": "933f2294",
   "metadata": {},
   "outputs": [],
   "source": [
    "p1 = geta(\"Charm.pitch\",note1)"
   ]
  },
  {
   "cell_type": "code",
   "execution_count": null,
   "id": "b5d24a03",
   "metadata": {},
   "outputs": [],
   "source": [
    "p2 = geta(\"Charm.pitch\",fnd(Syrinx.id(1,2),Syrinx))"
   ]
  },
  {
   "cell_type": "code",
   "execution_count": null,
   "id": "d114ca60",
   "metadata": {},
   "outputs": [],
   "source": [
    "Charm.diff(p1,p2)    # dit is interval"
   ]
  },
  {
   "cell_type": "code",
   "execution_count": null,
   "id": "b94fcbbc",
   "metadata": {},
   "outputs": [],
   "source": [
    "p2 <= p1"
   ]
  },
  {
   "cell_type": "code",
   "execution_count": null,
   "id": "905906d6",
   "metadata": {},
   "outputs": [],
   "source": [
    "# Charm.Midi.Pitch vervangen\n",
    "\n",
    "Base.:<=(x::Charm.Pitch,y::Charm.Pitch)::Bool = x.value <= y.value "
   ]
  },
  {
   "cell_type": "code",
   "execution_count": null,
   "id": "56ba1722",
   "metadata": {},
   "outputs": [],
   "source": [
    "p1 <= p2"
   ]
  }
 ],
 "metadata": {
  "kernelspec": {
   "display_name": "Julia 1.8.5",
   "language": "julia",
   "name": "julia-1.8"
  },
  "language_info": {
   "file_extension": ".jl",
   "mimetype": "application/julia",
   "name": "julia",
   "version": "1.8.5"
  }
 },
 "nbformat": 4,
 "nbformat_minor": 5
}
