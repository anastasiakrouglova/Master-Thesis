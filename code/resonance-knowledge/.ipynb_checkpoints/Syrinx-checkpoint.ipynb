{
 "cells": [
  {
   "cell_type": "code",
   "execution_count": 1,
   "id": "ce277a8c",
   "metadata": {},
   "outputs": [
    {
     "name": "stderr",
     "output_type": "stream",
     "text": [
      "┌ Info: Precompiling Syrinx [bbbfb96e-01f6-4f22-af6d-bfaecc3d456b]\n",
      "└ @ Base loading.jl:1423\n",
      "\u001b[33m\u001b[1m┌ \u001b[22m\u001b[39m\u001b[33m\u001b[1mWarning: \u001b[22m\u001b[39mPackage Charm does not have MIDI in its dependencies:\n",
      "\u001b[33m\u001b[1m│ \u001b[22m\u001b[39m- If you have Charm checked out for development and have\n",
      "\u001b[33m\u001b[1m│ \u001b[22m\u001b[39m  added MIDI as a dependency but haven't updated your primary\n",
      "\u001b[33m\u001b[1m│ \u001b[22m\u001b[39m  environment's manifest file, try `Pkg.resolve()`.\n",
      "\u001b[33m\u001b[1m│ \u001b[22m\u001b[39m- Otherwise you may need to report an issue with Charm\n",
      "\u001b[33m\u001b[1m└ \u001b[22m\u001b[39mLoading MIDI into Charm from project dependency, future warnings for Charm are suppressed.\n",
      "┌ Warning: The call to compilecache failed to create a usable precompiled cache file for Syrinx [bbbfb96e-01f6-4f22-af6d-bfaecc3d456b]\n",
      "│   exception = ErrorException(\"Required dependency Charm [e2273620-1c64-487a-88f9-b29e28f5a7be] failed to load from a cache file.\")\n",
      "└ @ Base loading.jl:1132\n",
      "┌ Info: Precompiling Charm [e2273620-1c64-487a-88f9-b29e28f5a7be]\n",
      "└ @ Base loading.jl:1423\n",
      "\u001b[33m\u001b[1m┌ \u001b[22m\u001b[39m\u001b[33m\u001b[1mWarning: \u001b[22m\u001b[39mPackage Charm does not have MIDI in its dependencies:\n",
      "\u001b[33m\u001b[1m│ \u001b[22m\u001b[39m- If you have Charm checked out for development and have\n",
      "\u001b[33m\u001b[1m│ \u001b[22m\u001b[39m  added MIDI as a dependency but haven't updated your primary\n",
      "\u001b[33m\u001b[1m│ \u001b[22m\u001b[39m  environment's manifest file, try `Pkg.resolve()`.\n",
      "\u001b[33m\u001b[1m│ \u001b[22m\u001b[39m- Otherwise you may need to report an issue with Charm\n",
      "\u001b[33m\u001b[1m└ \u001b[22m\u001b[39mLoading MIDI into Charm from project dependency, future warnings for Charm are suppressed.\n"
     ]
    }
   ],
   "source": [
    "using Syrinx"
   ]
  },
  {
   "cell_type": "code",
   "execution_count": 2,
   "id": "fd22da38",
   "metadata": {},
   "outputs": [],
   "source": [
    "using Chakra"
   ]
  },
  {
   "cell_type": "code",
   "execution_count": 3,
   "id": "90f992a8",
   "metadata": {},
   "outputs": [],
   "source": [
    "using Charm"
   ]
  },
  {
   "cell_type": "code",
   "execution_count": 4,
   "id": "c713a7b0",
   "metadata": {},
   "outputs": [
    {
     "data": {
      "text/plain": [
       "Charm.Midi.FileId{Symbol(\"syrinx.mid\")}()"
      ]
     },
     "execution_count": 4,
     "metadata": {},
     "output_type": "execute_result"
    }
   ],
   "source": [
    "x = Charm.Midi.FileId(\"syrinx.mid\")"
   ]
  },
  {
   "cell_type": "code",
   "execution_count": 5,
   "id": "8aeb98c4",
   "metadata": {},
   "outputs": [
    {
     "data": {
      "text/plain": [
       "Charm.Midi.File{Symbol(\"syrinx.mid\")}(OrderedCollections.OrderedDict{Charm.Midi.TrackId{Symbol(\"syrinx.mid\")}, Charm.Midi.Track{Symbol(\"syrinx.mid\")}}(Charm.Midi.TrackId{Symbol(\"syrinx.mid\"), 1}() => Charm.Midi.Track{Symbol(\"syrinx.mid\"), 1}(OrderedCollections.OrderedDict{Int64, Charm.Midi.Note{Symbol(\"syrinx.mid\"), 1}}(1 => Charm.Midi.Note{Symbol(\"syrinx.mid\"), 1, 1}(Charm.Midi.Pitch(68), 0x4d, Charm.Midi.Time(0), Charm.Midi.Duration(359), 0x00), 2 => Charm.Midi.Note{Symbol(\"syrinx.mid\"), 1, 2}(Charm.Midi.Pitch(67), 0x47, Charm.Midi.Time(360), Charm.Midi.Duration(59), 0x00), 3 => Charm.Midi.Note{Symbol(\"syrinx.mid\"), 1, 3}(Charm.Midi.Pitch(69), 0x50, Charm.Midi.Time(420), Charm.Midi.Duration(59), 0x00), 4 => Charm.Midi.Note{Symbol(\"syrinx.mid\"), 1, 4}(Charm.Midi.Pitch(66), 0x57, Charm.Midi.Time(480), Charm.Midi.Duration(359), 0x00), 5 => Charm.Midi.Note{Symbol(\"syrinx.mid\"), 1, 5}(Charm.Midi.Pitch(65), 0x4e, Charm.Midi.Time(840), Charm.Midi.Duration(59), 0x00), 6 => Charm.Midi.Note{Symbol(\"syrinx.mid\"), 1, 6}(Charm.Midi.Pitch(67), 0x52, Charm.Midi.Time(900), Charm.Midi.Duration(59), 0x00), 7 => Charm.Midi.Note{Symbol(\"syrinx.mid\"), 1, 7}(Charm.Midi.Pitch(64), 0x4b, Charm.Midi.Time(960), Charm.Midi.Duration(119), 0x00), 8 => Charm.Midi.Note{Symbol(\"syrinx.mid\"), 1, 8}(Charm.Midi.Pitch(63), 0x46, Charm.Midi.Time(1080), Charm.Midi.Duration(119), 0x00), 9 => Charm.Midi.Note{Symbol(\"syrinx.mid\"), 1, 9}(Charm.Midi.Pitch(62), 0x4e, Charm.Midi.Time(1200), Charm.Midi.Duration(119), 0x00), 10 => Charm.Midi.Note{Symbol(\"syrinx.mid\"), 1, 10}(Charm.Midi.Pitch(59), 0x4e, Charm.Midi.Time(1320), Charm.Midi.Duration(119), 0x00)…))))"
      ]
     },
     "execution_count": 5,
     "metadata": {},
     "output_type": "execute_result"
    }
   ],
   "source": [
    "syrinx = fnd(x,Syrinx)"
   ]
  },
  {
   "cell_type": "code",
   "execution_count": 6,
   "id": "2283d0b0",
   "metadata": {},
   "outputs": [
    {
     "data": {
      "text/plain": [
       "1-element Vector{Charm.Midi.TrackId{Symbol(\"syrinx.mid\")}}:\n",
       " Charm.Midi.TrackId{Symbol(\"syrinx.mid\"), 1}()"
      ]
     },
     "execution_count": 6,
     "metadata": {},
     "output_type": "execute_result"
    }
   ],
   "source": [
    "tracks = pts(syrinx)"
   ]
  },
  {
   "cell_type": "code",
   "execution_count": 7,
   "id": "5f098334",
   "metadata": {},
   "outputs": [
    {
     "data": {
      "text/plain": [
       "Charm.Midi.TrackId{Symbol(\"syrinx.mid\"), 1}()"
      ]
     },
     "execution_count": 7,
     "metadata": {},
     "output_type": "execute_result"
    }
   ],
   "source": [
    "t = tracks[1]"
   ]
  },
  {
   "cell_type": "code",
   "execution_count": 8,
   "id": "b826bba3",
   "metadata": {},
   "outputs": [
    {
     "data": {
      "text/plain": [
       "Charm.Midi.Track{Symbol(\"syrinx.mid\"), 1}(OrderedCollections.OrderedDict{Int64, Charm.Midi.Note{Symbol(\"syrinx.mid\"), 1}}(1 => Charm.Midi.Note{Symbol(\"syrinx.mid\"), 1, 1}(Charm.Midi.Pitch(68), 0x4d, Charm.Midi.Time(0), Charm.Midi.Duration(359), 0x00), 2 => Charm.Midi.Note{Symbol(\"syrinx.mid\"), 1, 2}(Charm.Midi.Pitch(67), 0x47, Charm.Midi.Time(360), Charm.Midi.Duration(59), 0x00), 3 => Charm.Midi.Note{Symbol(\"syrinx.mid\"), 1, 3}(Charm.Midi.Pitch(69), 0x50, Charm.Midi.Time(420), Charm.Midi.Duration(59), 0x00), 4 => Charm.Midi.Note{Symbol(\"syrinx.mid\"), 1, 4}(Charm.Midi.Pitch(66), 0x57, Charm.Midi.Time(480), Charm.Midi.Duration(359), 0x00), 5 => Charm.Midi.Note{Symbol(\"syrinx.mid\"), 1, 5}(Charm.Midi.Pitch(65), 0x4e, Charm.Midi.Time(840), Charm.Midi.Duration(59), 0x00), 6 => Charm.Midi.Note{Symbol(\"syrinx.mid\"), 1, 6}(Charm.Midi.Pitch(67), 0x52, Charm.Midi.Time(900), Charm.Midi.Duration(59), 0x00), 7 => Charm.Midi.Note{Symbol(\"syrinx.mid\"), 1, 7}(Charm.Midi.Pitch(64), 0x4b, Charm.Midi.Time(960), Charm.Midi.Duration(119), 0x00), 8 => Charm.Midi.Note{Symbol(\"syrinx.mid\"), 1, 8}(Charm.Midi.Pitch(63), 0x46, Charm.Midi.Time(1080), Charm.Midi.Duration(119), 0x00), 9 => Charm.Midi.Note{Symbol(\"syrinx.mid\"), 1, 9}(Charm.Midi.Pitch(62), 0x4e, Charm.Midi.Time(1200), Charm.Midi.Duration(119), 0x00), 10 => Charm.Midi.Note{Symbol(\"syrinx.mid\"), 1, 10}(Charm.Midi.Pitch(59), 0x4e, Charm.Midi.Time(1320), Charm.Midi.Duration(119), 0x00)…))"
      ]
     },
     "execution_count": 8,
     "metadata": {},
     "output_type": "execute_result"
    }
   ],
   "source": [
    "track = fnd(t,Syrinx)"
   ]
  },
  {
   "cell_type": "code",
   "execution_count": 9,
   "id": "2bf9bb18",
   "metadata": {},
   "outputs": [
    {
     "ename": "LoadError",
     "evalue": "type Track has no field particles",
     "output_type": "error",
     "traceback": [
      "type Track has no field particles",
      "",
      "Stacktrace:",
      " [1] getproperty",
      "   @ ./Base.jl:42 [inlined]",
      " [2] pts(c::Charm.Midi.Track{Symbol(\"syrinx.mid\"), 1})",
      "   @ Charm.Midi ~/.julia/packages/Charm/DA1hw/src/Midi.jl:149",
      " [3] top-level scope",
      "   @ In[9]:1",
      " [4] eval",
      "   @ ./boot.jl:373 [inlined]",
      " [5] include_string(mapexpr::typeof(REPL.softscope), mod::Module, code::String, filename::String)",
      "   @ Base ./loading.jl:1196"
     ]
    }
   ],
   "source": [
    "notes = pts(track)"
   ]
  }
 ],
 "metadata": {
  "kernelspec": {
   "display_name": "Julia 1.7.3",
   "language": "julia",
   "name": "julia-1.7"
  },
  "language_info": {
   "file_extension": ".jl",
   "mimetype": "application/julia",
   "name": "julia",
   "version": "1.7.3"
  }
 },
 "nbformat": 4,
 "nbformat_minor": 5
}
