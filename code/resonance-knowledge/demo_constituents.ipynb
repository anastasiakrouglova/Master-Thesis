{
 "cells": [
  {
   "cell_type": "code",
   "execution_count": 2,
   "metadata": {},
   "outputs": [
    {
     "name": "stdout",
     "output_type": "stream",
     "text": [
      "Note: Your dataset does not contain complex values, so you won't need the Pair in the Hierarchy."
     ]
    },
    {
     "data": {
      "text/plain": [
       "Main.Flute"
      ]
     },
     "metadata": {},
     "output_type": "display_data"
    }
   ],
   "source": [
    "using Chakra\n",
    "push!(LOAD_PATH, \"./src/\")\n",
    "using Resonances\n",
    "include(\"./src/Flute.jl\")"
   ]
  },
  {
   "attachments": {},
   "cell_type": "markdown",
   "metadata": {},
   "source": [
    "# Hierarchies demo"
   ]
  },
  {
   "attachments": {},
   "cell_type": "markdown",
   "metadata": {},
   "source": [
    "## DRS Hierarchy"
   ]
  },
  {
   "cell_type": "code",
   "execution_count": 3,
   "metadata": {},
   "outputs": [
    {
     "data": {
      "text/plain": [
       "Resonances.ResonanceId(40)"
      ]
     },
     "metadata": {},
     "output_type": "display_data"
    }
   ],
   "source": [
    "# Define a few constituents\n",
    "\n",
    "drs = Flute.Resonances.DRSid(1)\n",
    "\n",
    "slice5 = Flute.Resonances.sliceId(5)\n",
    "slice10 = Flute.Resonances.sliceId(10)\n",
    "\n",
    "# TODO: add pairs to df and hierarchy\n",
    "\n",
    "res10 = Flute.Resonances.resonanceId(10)\n",
    "res20 = Flute.Resonances.resonanceId(20)\n",
    "res40 = Flute.Resonances.resonanceId(40)"
   ]
  },
  {
   "cell_type": "code",
   "execution_count": 4,
   "metadata": {},
   "outputs": [
    {
     "data": {
      "text/plain": [
       "40-element Vector{Resonances.Id}:\n",
       " Resonances.ResonanceId(464)\n",
       " Resonances.ResonanceId(466)\n",
       " Resonances.ResonanceId(468)\n",
       " Resonances.ResonanceId(470)\n",
       " Resonances.ResonanceId(472)\n",
       " Resonances.ResonanceId(474)\n",
       " Resonances.ResonanceId(476)\n",
       " Resonances.ResonanceId(478)\n",
       " Resonances.ResonanceId(480)\n",
       " Resonances.ResonanceId(482)\n",
       " ⋮\n",
       " Resonances.ResonanceId(527)\n",
       " Resonances.ResonanceId(529)\n",
       " Resonances.ResonanceId(531)\n",
       " Resonances.ResonanceId(533)\n",
       " Resonances.ResonanceId(535)\n",
       " Resonances.ResonanceId(537)\n",
       " Resonances.ResonanceId(539)\n",
       " Resonances.ResonanceId(541)\n",
       " Resonances.ResonanceId(543)"
      ]
     },
     "metadata": {},
     "output_type": "display_data"
    }
   ],
   "source": [
    "# Check what the parts are of each constituent\n",
    "\n",
    "pts(drs, Flute)\n",
    "pts(slice5, Flute)\n",
    "# pts(res40, Flute) # a resonance Id is the lowest constituent in the hierarchy"
   ]
  },
  {
   "cell_type": "code",
   "execution_count": 5,
   "metadata": {},
   "outputs": [
    {
     "data": {
      "text/plain": [
       "Resonances.DRS(Resonances.DRSId(1), \u001b[1m120120×17 DataFrame\u001b[0m\n",
       "\u001b[1m    Row \u001b[0m│\u001b[1m Column1 \u001b[0m\u001b[1m onset  \u001b[0m\u001b[1m duration \u001b[0m\u001b[1m sample_rate \u001b[0m\u001b[1m amplitude   \u001b[0m\u001b[1m phase      \u001b[0m\u001b[1m fre\u001b[0m ⋯\n",
       "\u001b[1m        \u001b[0m│\u001b[90m Int64   \u001b[0m\u001b[90m Int64  \u001b[0m\u001b[90m Int64    \u001b[0m\u001b[90m Int64       \u001b[0m\u001b[90m Float64     \u001b[0m\u001b[90m Float64    \u001b[0m\u001b[90m Flo\u001b[0m ⋯\n",
       "────────┼───────────────────────────────────────────────────────────────────────\n",
       "      1 │       0       0       250        44100  4.98642e-5   -2.24265    111 ⋯\n",
       "      2 │       2       0       250        44100  5.45099e-5    0.0412219   98\n",
       "      3 │       4       0       250        44100  6.83713e-5    0.230505    95\n",
       "      4 │       6       0       250        44100  8.42515e-5   -2.7854      81\n",
       "      5 │       8       0       250        44100  7.42543e-5    2.02778     80 ⋯\n",
       "      6 │      10       0       250        44100  4.09901e-5    0.0598753   64\n",
       "      7 │      12       0       250        44100  7.5094e-5    -0.867191    63\n",
       "      8 │      14       0       250        44100  5.68885e-5   -1.53583     58\n",
       "   ⋮    │    ⋮       ⋮        ⋮           ⋮            ⋮           ⋮           ⋱\n",
       " 120114 │  240441  418000       250        44100  0.000173326  -2.65387     16 ⋯\n",
       " 120115 │  240443  418000       250        44100  0.000225962   0.367598    10\n",
       " 120116 │  240445  418000       250        44100  0.000285287   0.139005     8\n",
       " 120117 │  240447  418000       250        44100  0.000236346  -0.271664     6\n",
       " 120118 │  240449  418000       250        44100  0.00018165   -0.950236     4 ⋯\n",
       " 120119 │  240451  418000       250        44100  0.000150636  -1.78705      2\n",
       " 120120 │  240453  418000       250        44100  0.000137906  -2.6849\n",
       "\u001b[36m                                              11 columns and 120105 rows omitted\u001b[0m)"
      ]
     },
     "metadata": {},
     "output_type": "display_data"
    }
   ],
   "source": [
    "# Find the dataframe values of a constituent\n",
    "\n",
    "fnd(drs, Flute)\n",
    "# fnd(slice5, Flute)\n",
    "# fnd(res40, Flute)"
   ]
  },
  {
   "cell_type": "code",
   "execution_count": null,
   "metadata": {},
   "outputs": [],
   "source": []
  },
  {
   "attachments": {},
   "cell_type": "markdown",
   "metadata": {},
   "source": [
    "## FUND Hierarchy"
   ]
  },
  {
   "cell_type": "code",
   "execution_count": 9,
   "metadata": {},
   "outputs": [
    {
     "data": {
      "text/plain": [
       "Resonances.FundamentalId(2)"
      ]
     },
     "metadata": {},
     "output_type": "display_data"
    }
   ],
   "source": [
    "fund = Flute.Resonances.FUNDid(1)\n",
    "f2 = Flute.Resonances.fundamentalId(2)"
   ]
  },
  {
   "cell_type": "code",
   "execution_count": 5,
   "metadata": {},
   "outputs": [
    {
     "data": {
      "text/plain": [
       "108-element Vector{Resonances.Id}:\n",
       " Resonances.ResonanceId(368)\n",
       " Resonances.ResonanceId(1209)\n",
       " Resonances.ResonanceId(2907)\n",
       " Resonances.ResonanceId(3924)\n",
       " Resonances.ResonanceId(4072)\n",
       " Resonances.ResonanceId(4208)\n",
       " Resonances.ResonanceId(4344)\n",
       " Resonances.ResonanceId(4500)\n",
       " Resonances.ResonanceId(4632)\n",
       " Resonances.ResonanceId(4782)\n",
       " ⋮\n",
       " Resonances.ResonanceId(39880)\n",
       " Resonances.ResonanceId(40300)\n",
       " Resonances.ResonanceId(40682)\n",
       " Resonances.ResonanceId(41023)\n",
       " Resonances.ResonanceId(41564)\n",
       " Resonances.ResonanceId(41865)\n",
       " Resonances.ResonanceId(41954)\n",
       " Resonances.ResonanceId(42275)\n",
       " Resonances.ResonanceId(42964)"
      ]
     },
     "metadata": {},
     "output_type": "display_data"
    }
   ],
   "source": [
    "pts(fund, Flute)\n",
    "#pts(f2, Flute)"
   ]
  },
  {
   "cell_type": "code",
   "execution_count": 10,
   "metadata": {},
   "outputs": [
    {
     "data": {
      "text/plain": [
       "Resonances.Fundamental(Resonances.FundamentalId(2), \u001b[1m108×2 DataFrame\u001b[0m\n",
       "\u001b[1m Row \u001b[0m│\u001b[1m id    \u001b[0m\u001b[1m f0    \u001b[0m\n",
       "\u001b[1m     \u001b[0m│\u001b[90m Int64 \u001b[0m\u001b[90m Int64 \u001b[0m\n",
       "─────┼──────────────\n",
       "   1 │   368      2\n",
       "   2 │  1209      2\n",
       "   3 │  2907      2\n",
       "   4 │  3924      2\n",
       "   5 │  4072      2\n",
       "   6 │  4208      2\n",
       "   7 │  4344      2\n",
       "   8 │  4500      2\n",
       "  ⋮  │   ⋮      ⋮\n",
       " 102 │ 40682      2\n",
       " 103 │ 41023      2\n",
       " 104 │ 41564      2\n",
       " 105 │ 41865      2\n",
       " 106 │ 41954      2\n",
       " 107 │ 42275      2\n",
       " 108 │ 42964      2\n",
       "\u001b[36m     93 rows omitted\u001b[0m)"
      ]
     },
     "metadata": {},
     "output_type": "display_data"
    }
   ],
   "source": [
    "fnd(fund, Flute)\n",
    "fnd(f2, Flute)"
   ]
  },
  {
   "attachments": {},
   "cell_type": "markdown",
   "metadata": {},
   "source": [
    "## HARM hierarchy"
   ]
  },
  {
   "cell_type": "code",
   "execution_count": 5,
   "metadata": {},
   "outputs": [
    {
     "data": {
      "text/plain": [
       "Resonances.HarmonicId(2)"
      ]
     },
     "metadata": {},
     "output_type": "display_data"
    }
   ],
   "source": [
    "harm = Flute.Resonances.HARMid(1)\n",
    "h2 = Flute.Resonances.harmonicId(2)"
   ]
  },
  {
   "cell_type": "code",
   "execution_count": 6,
   "metadata": {},
   "outputs": [
    {
     "data": {
      "text/plain": [
       "789-element Vector{Resonances.Id}:\n",
       " Resonances.ResonanceId(311)\n",
       " Resonances.ResonanceId(603)\n",
       " Resonances.ResonanceId(646)\n",
       " Resonances.ResonanceId(796)\n",
       " Resonances.ResonanceId(1153)\n",
       " Resonances.ResonanceId(1161)\n",
       " Resonances.ResonanceId(1179)\n",
       " Resonances.ResonanceId(1187)\n",
       " Resonances.ResonanceId(1261)\n",
       " Resonances.ResonanceId(1350)\n",
       " ⋮\n",
       " Resonances.ResonanceId(42473)\n",
       " Resonances.ResonanceId(42542)\n",
       " Resonances.ResonanceId(42590)\n",
       " Resonances.ResonanceId(42694)\n",
       " Resonances.ResonanceId(42700)\n",
       " Resonances.ResonanceId(42778)\n",
       " Resonances.ResonanceId(42853)\n",
       " Resonances.ResonanceId(42878)\n",
       " Resonances.ResonanceId(43003)"
      ]
     },
     "metadata": {},
     "output_type": "display_data"
    }
   ],
   "source": [
    "pts(harm, Flute)\n",
    "pts(h2, Flute)"
   ]
  },
  {
   "cell_type": "code",
   "execution_count": 7,
   "metadata": {},
   "outputs": [
    {
     "data": {
      "text/plain": [
       "Resonances.Harmonic(Resonances.HarmonicId(2), \u001b[1m789×2 DataFrame\u001b[0m\n",
       "\u001b[1m Row \u001b[0m│\u001b[1m id    \u001b[0m\u001b[1m harmonic \u001b[0m\n",
       "\u001b[1m     \u001b[0m│\u001b[90m Int64 \u001b[0m\u001b[90m Int64    \u001b[0m\n",
       "─────┼─────────────────\n",
       "   1 │   311         2\n",
       "   2 │   603         2\n",
       "   3 │   646         2\n",
       "   4 │   796         2\n",
       "   5 │  1153         2\n",
       "   6 │  1161         2\n",
       "   7 │  1179         2\n",
       "   8 │  1187         2\n",
       "  ⋮  │   ⋮       ⋮\n",
       " 783 │ 42590         2\n",
       " 784 │ 42694         2\n",
       " 785 │ 42700         2\n",
       " 786 │ 42778         2\n",
       " 787 │ 42853         2\n",
       " 788 │ 42878         2\n",
       " 789 │ 43003         2\n",
       "\u001b[36m       774 rows omitted\u001b[0m)"
      ]
     },
     "metadata": {},
     "output_type": "display_data"
    }
   ],
   "source": [
    "fnd(harm, Flute)\n",
    "fnd(h2, Flute)"
   ]
  },
  {
   "attachments": {},
   "cell_type": "markdown",
   "metadata": {},
   "source": [
    "## REAL Hierarchy"
   ]
  },
  {
   "cell_type": "code",
   "execution_count": 6,
   "metadata": {},
   "outputs": [
    {
     "data": {
      "text/plain": [
       "Resonances.REALId(1)"
      ]
     },
     "metadata": {},
     "output_type": "display_data"
    }
   ],
   "source": [
    "real = Flute.Resonances.REALid(1)"
   ]
  },
  {
   "cell_type": "code",
   "execution_count": 7,
   "metadata": {},
   "outputs": [
    {
     "data": {
      "text/plain": [
       "120120-element Vector{Resonances.Id}:\n",
       " Resonances.ResonanceId(1)\n",
       " Resonances.ResonanceId(3)\n",
       " Resonances.ResonanceId(5)\n",
       " Resonances.ResonanceId(7)\n",
       " Resonances.ResonanceId(9)\n",
       " Resonances.ResonanceId(11)\n",
       " Resonances.ResonanceId(13)\n",
       " Resonances.ResonanceId(15)\n",
       " Resonances.ResonanceId(17)\n",
       " Resonances.ResonanceId(19)\n",
       " ⋮\n",
       " Resonances.ResonanceId(240438)\n",
       " Resonances.ResonanceId(240440)\n",
       " Resonances.ResonanceId(240442)\n",
       " Resonances.ResonanceId(240444)\n",
       " Resonances.ResonanceId(240446)\n",
       " Resonances.ResonanceId(240448)\n",
       " Resonances.ResonanceId(240450)\n",
       " Resonances.ResonanceId(240452)\n",
       " Resonances.ResonanceId(240454)"
      ]
     },
     "metadata": {},
     "output_type": "display_data"
    }
   ],
   "source": [
    "pts(real, Flute)"
   ]
  },
  {
   "cell_type": "code",
   "execution_count": 8,
   "metadata": {},
   "outputs": [
    {
     "data": {
      "text/plain": [
       "Resonances.REAL(Resonances.REALId(1), \u001b[1m120120×16 DataFrame\u001b[0m\n",
       "\u001b[1m    Row \u001b[0m│\u001b[1m Column1 \u001b[0m\u001b[1m onset  \u001b[0m\u001b[1m duration \u001b[0m\u001b[1m sample_rate \u001b[0m\u001b[1m amplitude   \u001b[0m\u001b[1m phase      \u001b[0m\u001b[1m fre\u001b[0m ⋯\n",
       "\u001b[1m        \u001b[0m│\u001b[90m Int64   \u001b[0m\u001b[90m Int64  \u001b[0m\u001b[90m Int64    \u001b[0m\u001b[90m Int64       \u001b[0m\u001b[90m Float64     \u001b[0m\u001b[90m Float64    \u001b[0m\u001b[90m Flo\u001b[0m ⋯\n",
       "────────┼───────────────────────────────────────────────────────────────────────\n",
       "      1 │       0       0       250        44100  4.98642e-5   -2.24265    111 ⋯\n",
       "      2 │       2       0       250        44100  5.45099e-5    0.0412219   98\n",
       "      3 │       4       0       250        44100  6.83713e-5    0.230505    95\n",
       "      4 │       6       0       250        44100  8.42515e-5   -2.7854      81\n",
       "      5 │       8       0       250        44100  7.42543e-5    2.02778     80 ⋯\n",
       "      6 │      10       0       250        44100  4.09901e-5    0.0598753   64\n",
       "      7 │      12       0       250        44100  7.5094e-5    -0.867191    63\n",
       "      8 │      14       0       250        44100  5.68885e-5   -1.53583     58\n",
       "   ⋮    │    ⋮       ⋮        ⋮           ⋮            ⋮           ⋮           ⋱\n",
       " 120114 │  240441  418000       250        44100  0.000173326  -2.65387     16 ⋯\n",
       " 120115 │  240443  418000       250        44100  0.000225962   0.367598    10\n",
       " 120116 │  240445  418000       250        44100  0.000285287   0.139005     8\n",
       " 120117 │  240447  418000       250        44100  0.000236346  -0.271664     6\n",
       " 120118 │  240449  418000       250        44100  0.00018165   -0.950236     4 ⋯\n",
       " 120119 │  240451  418000       250        44100  0.000150636  -1.78705      2\n",
       " 120120 │  240453  418000       250        44100  0.000137906  -2.6849\n",
       "\u001b[36m                                              10 columns and 120105 rows omitted\u001b[0m)"
      ]
     },
     "metadata": {},
     "output_type": "display_data"
    }
   ],
   "source": [
    "fnd(real, Flute)"
   ]
  }
 ],
 "metadata": {
  "kernelspec": {
   "display_name": "Julia 1.8.5",
   "language": "julia",
   "name": "julia-1.8"
  },
  "language_info": {
   "file_extension": ".jl",
   "mimetype": "application/julia",
   "name": "julia",
   "version": "1.8.5"
  },
  "orig_nbformat": 4
 },
 "nbformat": 4,
 "nbformat_minor": 2
}
