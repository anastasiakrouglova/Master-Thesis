{
 "cells": [
  {
   "cell_type": "markdown",
   "metadata": {
    "pycharm": {
     "name": "#%% md\n"
    }
   },
   "source": [
    "# Additional utilities and plots\n",
    "\n",
    "In this notebook we show some additional utilities and plots for manipulation of spectrograms.\n"
   ]
  },
  {
   "cell_type": "markdown",
   "metadata": {
    "pycharm": {
     "name": "#%% md\n"
    }
   },
   "source": [
    "## 1. Imports\n",
    "\n",
    "First we import the library of functions."
   ]
  },
  {
   "cell_type": "code",
   "execution_count": 1,
   "metadata": {
    "pycharm": {
     "name": "#%%\n"
    }
   },
   "outputs": [],
   "source": [
    "from utilities_store import *"
   ]
  },
  {
   "cell_type": "markdown",
   "metadata": {
    "pycharm": {
     "name": "#%% md\n"
    }
   },
   "source": [
    "## 2. Obtain spectrogram of the signal\n",
    "\n",
    "First we obtain the spectrogram of the signal."
   ]
  },
  {
   "cell_type": "code",
   "execution_count": 2,
   "metadata": {
    "pycharm": {
     "name": "#%%\n"
    },
    "scrolled": true
   },
   "outputs": [
    {
     "name": "stdout",
     "output_type": "stream",
     "text": [
      "Progress: 0.00%\n",
      "Progress: 0.26%\n",
      "Progress: 0.53%\n",
      "Progress: 0.79%\n",
      "Progress: 1.05%\n",
      "Progress: 1.32%\n",
      "Progress: 1.58%\n",
      "Progress: 1.85%\n",
      "Progress: 2.11%\n",
      "Progress: 2.37%\n",
      "Progress: 2.64%\n",
      "Progress: 2.90%\n"
     ]
    },
    {
     "name": "stderr",
     "output_type": "stream",
     "text": [
      "/Users/nastysushi/Mirror/_MULTIMEDIA/THESIS/thesis/github/fpt/resonance.py:216: RuntimeWarning: overflow encountered in cdouble_scalars\n",
      "  d_ = self.d * self.z ** (self.N - 1)\n",
      "/Users/nastysushi/Mirror/_MULTIMEDIA/THESIS/thesis/github/fpt/resonance.py:216: RuntimeWarning: invalid value encountered in cdouble_scalars\n",
      "  d_ = self.d * self.z ** (self.N - 1)\n"
     ]
    },
    {
     "name": "stdout",
     "output_type": "stream",
     "text": [
      "Progress: 3.16%\n",
      "Progress: 3.43%\n",
      "Progress: 3.69%\n",
      "Progress: 3.96%\n",
      "Progress: 4.22%\n",
      "Progress: 4.48%\n",
      "Progress: 4.75%\n",
      "Progress: 5.01%\n",
      "Progress: 5.27%\n",
      "Progress: 5.54%\n"
     ]
    },
    {
     "name": "stderr",
     "output_type": "stream",
     "text": [
      "/Users/nastysushi/Mirror/_MULTIMEDIA/THESIS/thesis/github/fpt/fpt.py:234: RuntimeWarning: invalid value encountered in divide\n",
      "  d = np.divide(Z @ ps[1:].reshape(-1, 1),\n"
     ]
    },
    {
     "name": "stdout",
     "output_type": "stream",
     "text": [
      "Progress: 5.80%\n"
     ]
    },
    {
     "name": "stderr",
     "output_type": "stream",
     "text": [
      "/Users/nastysushi/Mirror/_MULTIMEDIA/THESIS/thesis/github/fpt/resonance.py:266: RuntimeWarning: invalid value encountered in cdouble_scalars\n",
      "  return replace(self, d=self.d * self.z ** offset)\n"
     ]
    },
    {
     "name": "stdout",
     "output_type": "stream",
     "text": [
      "Progress: 6.07%\n",
      "Progress: 6.33%\n",
      "Progress: 6.59%\n",
      "Progress: 6.86%\n",
      "Progress: 7.12%\n",
      "Progress: 7.38%\n",
      "Progress: 7.65%\n",
      "Progress: 7.91%\n",
      "Progress: 8.17%\n",
      "Progress: 8.44%\n",
      "Progress: 8.70%\n",
      "Progress: 8.97%\n",
      "Progress: 9.23%\n",
      "Progress: 9.49%\n",
      "Progress: 9.76%\n",
      "Progress: 10.02%\n",
      "Progress: 10.28%\n",
      "Progress: 10.55%\n",
      "Progress: 10.81%\n",
      "Progress: 11.08%\n",
      "Progress: 11.34%\n",
      "Progress: 11.60%\n",
      "Progress: 11.87%\n",
      "Progress: 12.13%\n",
      "Progress: 12.39%\n",
      "Progress: 12.66%\n"
     ]
    },
    {
     "name": "stderr",
     "output_type": "stream",
     "text": [
      "/Users/nastysushi/Mirror/_MULTIMEDIA/THESIS/thesis/github/fpt/fpt.py:224: RuntimeWarning: overflow encountered in power\n",
      "  Z = np.power(self.zs.reshape(-1, 1), exponent)\n"
     ]
    },
    {
     "name": "stdout",
     "output_type": "stream",
     "text": [
      "Progress: 12.92%\n",
      "Progress: 13.19%\n",
      "Progress: 13.45%\n",
      "Progress: 13.71%\n",
      "Progress: 13.98%\n",
      "Progress: 14.24%\n"
     ]
    },
    {
     "name": "stderr",
     "output_type": "stream",
     "text": [
      "/Users/nastysushi/Mirror/_MULTIMEDIA/THESIS/thesis/github/fpt/fpt.py:234: RuntimeWarning: invalid value encountered in matmul\n",
      "  d = np.divide(Z @ ps[1:].reshape(-1, 1),\n",
      "/Users/nastysushi/Mirror/_MULTIMEDIA/THESIS/thesis/github/fpt/fpt.py:235: RuntimeWarning: overflow encountered in matmul\n",
      "  Z @ (qs[1:] * i).reshape(-1, 1))\n",
      "/Users/nastysushi/Mirror/_MULTIMEDIA/THESIS/thesis/github/fpt/fpt.py:235: RuntimeWarning: invalid value encountered in matmul\n",
      "  Z @ (qs[1:] * i).reshape(-1, 1))\n"
     ]
    },
    {
     "name": "stdout",
     "output_type": "stream",
     "text": [
      "Progress: 14.50%\n",
      "Progress: 14.77%\n",
      "Progress: 15.03%\n",
      "Progress: 15.29%\n"
     ]
    },
    {
     "name": "stderr",
     "output_type": "stream",
     "text": [
      "/Users/nastysushi/Mirror/_MULTIMEDIA/THESIS/thesis/github/fpt/fpt.py:234: RuntimeWarning: overflow encountered in matmul\n",
      "  d = np.divide(Z @ ps[1:].reshape(-1, 1),\n"
     ]
    },
    {
     "name": "stdout",
     "output_type": "stream",
     "text": [
      "Progress: 15.56%\n",
      "Progress: 15.82%\n",
      "Progress: 16.09%\n",
      "Progress: 16.35%\n",
      "Progress: 16.61%\n",
      "Progress: 16.88%\n",
      "Progress: 17.14%\n",
      "Progress: 17.40%\n",
      "Progress: 17.67%\n",
      "Progress: 17.93%\n",
      "Progress: 18.20%\n",
      "Progress: 18.46%\n",
      "Progress: 18.72%\n",
      "Progress: 18.99%\n",
      "Progress: 19.25%\n",
      "Progress: 19.51%\n",
      "Progress: 19.78%\n",
      "Progress: 20.04%\n",
      "Progress: 20.31%\n",
      "Progress: 20.57%\n",
      "Progress: 20.83%\n",
      "Progress: 21.10%\n",
      "Progress: 21.36%\n",
      "Progress: 21.62%\n",
      "Progress: 21.89%\n",
      "Progress: 22.15%\n",
      "Progress: 22.41%\n",
      "Progress: 22.68%\n",
      "Progress: 22.94%\n",
      "Progress: 23.21%\n",
      "Progress: 23.47%\n",
      "Progress: 23.73%\n",
      "Progress: 24.00%\n",
      "Progress: 24.26%\n",
      "Progress: 24.52%\n",
      "Progress: 24.79%\n",
      "Progress: 25.05%\n",
      "Progress: 25.32%\n",
      "Progress: 25.58%\n",
      "Progress: 25.84%\n",
      "Progress: 26.11%\n",
      "Progress: 26.37%\n",
      "Progress: 26.63%\n",
      "Progress: 26.90%\n",
      "Progress: 27.16%\n",
      "Progress: 27.43%\n",
      "Progress: 27.69%\n",
      "Progress: 27.95%\n",
      "Progress: 28.22%\n",
      "Progress: 28.48%\n",
      "Progress: 28.74%\n",
      "Progress: 29.01%\n",
      "Progress: 29.27%\n",
      "Progress: 29.53%\n",
      "Progress: 29.80%\n",
      "Progress: 30.06%\n",
      "Progress: 30.33%\n",
      "Progress: 30.59%\n",
      "Progress: 30.85%\n",
      "Progress: 31.12%\n",
      "Progress: 31.38%\n",
      "Progress: 31.64%\n",
      "Progress: 31.91%\n",
      "Progress: 32.17%\n",
      "Progress: 32.44%\n",
      "Progress: 32.70%\n",
      "Progress: 32.96%\n",
      "Progress: 33.23%\n",
      "Progress: 33.49%\n",
      "Progress: 33.75%\n",
      "Progress: 34.02%\n",
      "Progress: 34.28%\n",
      "Progress: 34.55%\n",
      "Progress: 34.81%\n",
      "Progress: 35.07%\n",
      "Progress: 35.34%\n",
      "Progress: 35.60%\n",
      "Progress: 35.86%\n",
      "Progress: 36.13%\n",
      "Progress: 36.39%\n",
      "Progress: 36.65%\n",
      "Progress: 36.92%\n",
      "Progress: 37.18%\n",
      "Progress: 37.45%\n",
      "Progress: 37.71%\n",
      "Progress: 37.97%\n",
      "Progress: 38.24%\n",
      "Progress: 38.50%\n",
      "Progress: 38.76%\n",
      "Progress: 39.03%\n",
      "Progress: 39.29%\n",
      "Progress: 39.56%\n",
      "Progress: 39.82%\n",
      "Progress: 40.08%\n",
      "Progress: 40.35%\n",
      "Progress: 40.61%\n",
      "Progress: 40.87%\n",
      "Progress: 41.14%\n",
      "Progress: 41.40%\n",
      "Progress: 41.67%\n",
      "Progress: 41.93%\n",
      "Progress: 42.19%\n",
      "Progress: 42.46%\n",
      "Progress: 42.72%\n",
      "Progress: 42.98%\n",
      "Progress: 43.25%\n",
      "Progress: 43.51%\n",
      "Progress: 43.77%\n",
      "Progress: 44.04%\n",
      "Progress: 44.30%\n",
      "Progress: 44.57%\n",
      "Progress: 44.83%\n",
      "Progress: 45.09%\n",
      "Progress: 45.36%\n",
      "Progress: 45.62%\n",
      "Progress: 45.88%\n",
      "Progress: 46.15%\n",
      "Progress: 46.41%\n",
      "Progress: 46.68%\n",
      "Progress: 46.94%\n",
      "Progress: 47.20%\n",
      "Progress: 47.47%\n",
      "Progress: 47.73%\n",
      "Progress: 47.99%\n",
      "Progress: 48.26%\n",
      "Progress: 48.52%\n",
      "Progress: 48.79%\n",
      "Progress: 49.05%\n",
      "Progress: 49.31%\n",
      "Progress: 49.58%\n",
      "Progress: 49.84%\n",
      "Progress: 50.10%\n",
      "Progress: 50.37%\n",
      "Progress: 50.63%\n",
      "Progress: 50.90%\n",
      "Progress: 51.16%\n",
      "Progress: 51.42%\n",
      "Progress: 51.69%\n",
      "Progress: 51.95%\n",
      "Progress: 52.21%\n",
      "Progress: 52.48%\n",
      "Progress: 52.74%\n",
      "Progress: 53.00%\n",
      "Progress: 53.27%\n",
      "Progress: 53.53%\n",
      "Progress: 53.80%\n",
      "Progress: 54.06%\n",
      "Progress: 54.32%\n",
      "Progress: 54.59%\n",
      "Progress: 54.85%\n",
      "Progress: 55.11%\n",
      "Progress: 55.38%\n",
      "Progress: 55.64%\n",
      "Progress: 55.91%\n",
      "Progress: 56.17%\n",
      "Progress: 56.43%\n",
      "Progress: 56.70%\n",
      "Progress: 56.96%\n",
      "Progress: 57.22%\n",
      "Progress: 57.49%\n",
      "Progress: 57.75%\n",
      "Progress: 58.02%\n",
      "Progress: 58.28%\n",
      "Progress: 58.54%\n",
      "Progress: 58.81%\n",
      "Progress: 59.07%\n",
      "Progress: 59.33%\n",
      "Progress: 59.60%\n",
      "Progress: 59.86%\n",
      "Progress: 60.12%\n",
      "Progress: 60.39%\n",
      "Progress: 60.65%\n",
      "Progress: 60.92%\n",
      "Progress: 61.18%\n",
      "Progress: 61.44%\n",
      "Progress: 61.71%\n",
      "Progress: 61.97%\n",
      "Progress: 62.23%\n",
      "Progress: 62.50%\n",
      "Progress: 62.76%\n",
      "Progress: 63.03%\n",
      "Progress: 63.29%\n",
      "Progress: 63.55%\n",
      "Progress: 63.82%\n",
      "Progress: 64.08%\n",
      "Progress: 64.34%\n",
      "Progress: 64.61%\n",
      "Progress: 64.87%\n",
      "Progress: 65.14%\n",
      "Progress: 65.40%\n",
      "Progress: 65.66%\n",
      "Progress: 65.93%\n",
      "Progress: 66.19%\n",
      "Progress: 66.45%\n",
      "Progress: 66.72%\n",
      "Progress: 66.98%\n",
      "Progress: 67.24%\n",
      "Progress: 67.51%\n",
      "Progress: 67.77%\n",
      "Progress: 68.04%\n",
      "Progress: 68.30%\n",
      "Progress: 68.56%\n",
      "Progress: 68.83%\n",
      "Progress: 69.09%\n",
      "Progress: 69.35%\n",
      "Progress: 69.62%\n",
      "Progress: 69.88%\n",
      "Progress: 70.15%\n",
      "Progress: 70.41%\n",
      "Progress: 70.67%\n",
      "Progress: 70.94%\n",
      "Progress: 71.20%\n",
      "Progress: 71.46%\n",
      "Progress: 71.73%\n",
      "Progress: 71.99%\n",
      "Progress: 72.26%\n",
      "Progress: 72.52%\n",
      "Progress: 72.78%\n",
      "Progress: 73.05%\n",
      "Progress: 73.31%\n",
      "Progress: 73.57%\n",
      "Progress: 73.84%\n",
      "Progress: 74.10%\n",
      "Progress: 74.36%\n",
      "Progress: 74.63%\n",
      "Progress: 74.89%\n",
      "Progress: 75.16%\n",
      "Progress: 75.42%\n",
      "Progress: 75.68%\n",
      "Progress: 75.95%\n",
      "Progress: 76.21%\n",
      "Progress: 76.47%\n",
      "Progress: 76.74%\n",
      "Progress: 77.00%\n",
      "Progress: 77.27%\n",
      "Progress: 77.53%\n",
      "Progress: 77.79%\n",
      "Progress: 78.06%\n",
      "Progress: 78.32%\n",
      "Progress: 78.58%\n",
      "Progress: 78.85%\n",
      "Progress: 79.11%\n",
      "Progress: 79.38%\n",
      "Progress: 79.64%\n",
      "Progress: 79.90%\n",
      "Progress: 80.17%\n",
      "Progress: 80.43%\n",
      "Progress: 80.69%\n",
      "Progress: 80.96%\n",
      "Progress: 81.22%\n",
      "Progress: 81.48%\n",
      "Progress: 81.75%\n",
      "Progress: 82.01%\n",
      "Progress: 82.28%\n",
      "Progress: 82.54%\n",
      "Progress: 82.80%\n",
      "Progress: 83.07%\n",
      "Progress: 83.33%\n",
      "Progress: 83.59%\n",
      "Progress: 83.86%\n",
      "Progress: 84.12%\n",
      "Progress: 84.39%\n",
      "Progress: 84.65%\n",
      "Progress: 84.91%\n",
      "Progress: 85.18%\n",
      "Progress: 85.44%\n",
      "Progress: 85.70%\n",
      "Progress: 85.97%\n",
      "Progress: 86.23%\n",
      "Progress: 86.50%\n",
      "Progress: 86.76%\n",
      "Progress: 87.02%\n",
      "Progress: 87.29%\n",
      "Progress: 87.55%\n",
      "Progress: 87.81%\n",
      "Progress: 88.08%\n",
      "Progress: 88.34%\n",
      "Progress: 88.60%\n",
      "Progress: 88.87%\n",
      "Progress: 89.13%\n",
      "Progress: 89.40%\n",
      "Progress: 89.66%\n",
      "Progress: 89.92%\n",
      "Progress: 90.19%\n",
      "Progress: 90.45%\n",
      "Progress: 90.71%\n",
      "Progress: 90.98%\n",
      "Progress: 91.24%\n",
      "Progress: 91.51%\n",
      "Progress: 91.77%\n",
      "Progress: 92.03%\n",
      "Progress: 92.30%\n",
      "Progress: 92.56%\n",
      "Progress: 92.82%\n",
      "Progress: 93.09%\n",
      "Progress: 93.35%\n",
      "Progress: 93.62%\n",
      "Progress: 93.88%\n",
      "Progress: 94.14%\n",
      "Progress: 94.41%\n",
      "Progress: 94.67%\n",
      "Progress: 94.93%\n",
      "Progress: 95.20%\n",
      "Progress: 95.46%\n",
      "Progress: 95.72%\n",
      "Progress: 95.99%\n",
      "Progress: 96.25%\n",
      "Progress: 96.52%\n",
      "Progress: 96.78%\n",
      "Progress: 97.04%\n",
      "Progress: 97.31%\n",
      "Progress: 97.57%\n",
      "Progress: 97.83%\n",
      "Progress: 98.10%\n",
      "Progress: 98.36%\n",
      "Progress: 98.63%\n",
      "Progress: 98.89%\n",
      "Progress: 99.15%\n",
      "Progress: 99.42%\n",
      "Progress: 99.68%\n",
      "Progress: 99.94%\n"
     ]
    }
   ],
   "source": [
    "spectrogram, signal = get_spectrogram('flute-a4.wav', N = 500, step_size = 250, \n",
    "                                          power_threshold = 1e-9, amp_threshold = 1e-8)"
   ]
  },
  {
   "cell_type": "code",
   "execution_count": 3,
   "id": "49f3bb53",
   "metadata": {},
   "outputs": [
    {
     "name": "stdout",
     "output_type": "stream",
     "text": [
      "Writing csv...Done.\n"
     ]
    }
   ],
   "source": [
    "import serialization as ser\n",
    "\n",
    "ser.to_csv(spectrogram)"
   ]
  },
  {
   "cell_type": "code",
   "execution_count": null,
   "id": "3eafe6b5",
   "metadata": {},
   "outputs": [],
   "source": [
    "plot_spectrogram(spectrogram, max_freq = 2000, scale=100)"
   ]
  },
  {
   "cell_type": "markdown",
   "metadata": {
    "pycharm": {
     "name": "#%% md\n"
    }
   },
   "source": [
    "## 3. Fundamental frequency estimation\n",
    "\n",
    "Obtain the fundamental frequency of a signal and plot it in the orginal resonance spectrogram."
   ]
  },
  {
   "cell_type": "markdown",
   "metadata": {
    "pycharm": {
     "name": "#%% md\n"
    }
   },
   "source": [
    "The fundamental frequency of a signal is estimated by calculating the 'harmonicity' of each resonance and selecting the resonance with the highest harmonicity of each spectrum. The harmonicty of a resonance is calculated by summing the power of all the resonances that are close (defined ratio) to an integer multiple of the resonance for which we calculate the harmonicity."
   ]
  },
  {
   "cell_type": "code",
   "execution_count": null,
   "metadata": {
    "pycharm": {
     "name": "#%%\n"
    }
   },
   "outputs": [],
   "source": [
    "f0 = get_f0(spectrogram)\n"
   ]
  },
  {
   "cell_type": "markdown",
   "metadata": {
    "pycharm": {
     "name": "#%% md\n"
    }
   },
   "source": [
    "Plot the fundamental frequency."
   ]
  },
  {
   "cell_type": "code",
   "execution_count": null,
   "metadata": {
    "pycharm": {
     "name": "#%%\n"
    }
   },
   "outputs": [],
   "source": [
    "plot_f0(spectrogram, f0, max_freq = 2000)"
   ]
  },
  {
   "cell_type": "code",
   "execution_count": null,
   "id": "6243642c",
   "metadata": {},
   "outputs": [],
   "source": [
    "#f1 = get_f1(spectrogram) # TODO: Write a function to get first overtone maybe?"
   ]
  },
  {
   "cell_type": "markdown",
   "metadata": {
    "pycharm": {
     "name": "#%% md\n"
    }
   },
   "source": [
    "## 4. Arrows plot\n",
    "\n",
    "Function to plot the original spectrogram using symbols to represent positive (triangle), negative (inverted triangle) and 'constant' (circle) decays.\n",
    "\n",
    "- Circle: - 5 < Decay < 5\n",
    "- Triangle: Decay > 5\n",
    "- Inverted triangle: Decay < - 5"
   ]
  },
  {
   "cell_type": "code",
   "execution_count": null,
   "metadata": {
    "pycharm": {
     "name": "#%%\n"
    },
    "scrolled": true
   },
   "outputs": [],
   "source": [
    "plot_spectrogram_arrows(spectrogram, min_freq = 0, max_freq = 2000)"
   ]
  },
  {
   "cell_type": "markdown",
   "metadata": {
    "pycharm": {
     "name": "#%% md\n"
    }
   },
   "source": [
    "## 5. Densities\n",
    "\n",
    "Finally we show the use of the density functions to obtain the continuous and discrete density spectrograms."
   ]
  },
  {
   "attachments": {},
   "cell_type": "markdown",
   "metadata": {
    "pycharm": {
     "name": "#%% md\n"
    }
   },
   "source": [
    "The density is calculated using the next formula:\n",
    "<br>\n",
    "<br>\n",
    "$\\large\\sum_{n = 1}^{N} G(n) \\cdot  \\sum_{k = 1}^{K} \\frac{\\pi |d_{k}|^{2}}{\\gamma_{k}} \\cdot V (\\eta - \\phi{_k}; \\gamma{_k}, \\sigma ) $\n",
    "<br>\n",
    "\n",
    "Where:\n",
    "\n",
    "- $ n $ indexes the contiguous slices (spectra) with center in the slice (spectrum) where we want to obtain the density.\n",
    "- $ G(x) $ is the Gaussian window.\n",
    "- $ k $ indexes the resonances of the corresponding slice (spectrum)\n",
    "- $ d_{k}$ is the decay of the k resonance\n",
    "- $ \\gamma_{k}$ is the imaginary part of the complex frequency of the k resonance\n",
    "- $ V(x; \\sigma, \\gamma) $ is the Voigt profile.\n",
    "- $ \\eta $ is the angular frequency of the evaluation point\n",
    "- $ \\phi_{k} $ is the angular frequency of the k resonance\n",
    "- $ \\sigma $ is the standard deviation of the Voigt profile (inner Gaussian window)\n",
    "\n",
    "This density formula can be applied to obtain the density of any point in the spectrgram."
   ]
  },
  {
   "cell_type": "markdown",
   "metadata": {
    "pycharm": {
     "name": "#%% md\n"
    }
   },
   "source": [
    "### 5.1 Continuous density spectrogram\n",
    "\n",
    "The continuous density is calculated for each evenly spaced point in frequency (determined by the precision argument) for each window (slice) of the spectrogram."
   ]
  },
  {
   "cell_type": "code",
   "execution_count": null,
   "metadata": {
    "pycharm": {
     "name": "#%%\n"
    }
   },
   "outputs": [],
   "source": [
    "cont_density = continuous_density_spectrogram(spectrogram, min_freq = 0, max_freq = 5000, slices_overlap = 7, \n",
    "                                              freq_overlap = 200, precision = 500)"
   ]
  },
  {
   "cell_type": "code",
   "execution_count": null,
   "metadata": {
    "pycharm": {
     "name": "#%%\n"
    }
   },
   "outputs": [],
   "source": [
    "plot_continuous_density_spectrogram(cont_density, spectrogram, precision = 500, min_freq = 0, \n",
    "                                    max_freq = 5000, threshold = 0)"
   ]
  },
  {
   "cell_type": "markdown",
   "metadata": {
    "pycharm": {
     "name": "#%% md\n"
    }
   },
   "source": [
    "### 5.2 Discrete density spectrogram\n",
    "\n",
    "The discrete density is calculated for each resonance of the spectrogram."
   ]
  },
  {
   "cell_type": "code",
   "execution_count": null,
   "metadata": {
    "pycharm": {
     "name": "#%%\n"
    }
   },
   "outputs": [],
   "source": [
    "discrete_density = discrete_density_spectrogram(spectrogram, slices_overlap = 7, freq_overlap = 200)"
   ]
  },
  {
   "cell_type": "code",
   "execution_count": null,
   "metadata": {
    "pycharm": {
     "name": "#%%\n"
    }
   },
   "outputs": [],
   "source": [
    "plot_discrete_density_spectrogram(discrete_density, spectrogram, max_freq = 5000, threshold = 0)"
   ]
  },
  {
   "cell_type": "code",
   "execution_count": null,
   "metadata": {
    "pycharm": {
     "name": "#%%\n"
    }
   },
   "outputs": [],
   "source": []
  }
 ],
 "metadata": {
  "kernelspec": {
   "display_name": "Python 3",
   "language": "python",
   "name": "python3"
  },
  "language_info": {
   "codemirror_mode": {
    "name": "ipython",
    "version": 3
   },
   "file_extension": ".py",
   "mimetype": "text/x-python",
   "name": "python",
   "nbconvert_exporter": "python",
   "pygments_lexer": "ipython3",
   "version": "3.9.12"
  }
 },
 "nbformat": 4,
 "nbformat_minor": 5
}
