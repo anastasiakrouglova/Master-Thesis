{
 "cells": [
  {
   "cell_type": "code",
   "execution_count": 1,
   "metadata": {},
   "outputs": [
    {
     "data": {
      "text/plain": [
       "PyObject <module 'numpy' from '/Users/nastysushi/.julia/conda/3/x86_64/lib/python3.10/site-packages/numpy/__init__.py'>"
      ]
     },
     "metadata": {},
     "output_type": "display_data"
    }
   ],
   "source": [
    "using PyCall\n",
    "np = pyimport(\"numpy\")\n",
    "#utilities = pyimport(\"utilities_store\")"
   ]
  },
  {
   "cell_type": "code",
   "execution_count": 4,
   "metadata": {},
   "outputs": [
    {
     "ename": "UndefVarError",
     "evalue": "UndefVarError: unshift! not defined",
     "output_type": "error",
     "traceback": [
      "UndefVarError: unshift! not defined\n",
      "\n",
      "Stacktrace:\n",
      " [1] top-level scope\n",
      "   @ ~/Mirror/_MULTIMEDIA/THESIS/thesis/github/fpt/juliatest.ipynb:2"
     ]
    }
   ],
   "source": [
    "#using PyCall\n",
    "push!(pyimport(\"sys\").\"path\", \"/Users/nastysushi/Mirror/_MULTIMEDIA/THESIS/thesis/github/fpt/utilities_store\")\n",
    "mymodule = pyimport(\"utilities_store.get_spectrogram\")\n"
   ]
  },
  {
   "cell_type": "code",
   "execution_count": null,
   "metadata": {},
   "outputs": [],
   "source": [
    "np.arange(0, 10)"
   ]
  },
  {
   "cell_type": "code",
   "execution_count": 5,
   "metadata": {},
   "outputs": [
    {
     "name": "stdout",
     "output_type": "stream",
     "text": [
      "hello world"
     ]
    }
   ],
   "source": [
    "print(\"hello world\")"
   ]
  }
 ],
 "metadata": {
  "kernelspec": {
   "display_name": "Julia 1.8.5",
   "language": "julia",
   "name": "julia-1.8"
  },
  "language_info": {
   "file_extension": ".jl",
   "mimetype": "application/julia",
   "name": "julia",
   "version": "1.8.5"
  },
  "orig_nbformat": 4
 },
 "nbformat": 4,
 "nbformat_minor": 2
}
