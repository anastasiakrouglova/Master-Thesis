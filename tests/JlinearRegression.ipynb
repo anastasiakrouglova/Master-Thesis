{
 "cells": [
  {
   "cell_type": "code",
   "execution_count": 1,
   "metadata": {},
   "outputs": [],
   "source": [
    "# Code written in Julia\n",
    "using PyCall # call python functions in julia\n",
    "using Conda\n",
    "# using PyPlot\n",
    "# using Conda\n",
    "\n",
    "# pushfirst!(PyVector(pyimport(\"sys\").\"path\"), \"./../fpt/\")\n",
    "# pushfirst!(PyVector(pyimport(\"sys\").\"path\"), \"./../feature-extraction/\")\n",
    "\n",
    "# prop = pyimport(\"cached_property\")\n",
    "# res = pyimport(\"resonance\")\n",
    "# us = pyimport(\"utilities_store\")\n",
    "# frequencies = pyimport(\"extractFrequencies\")"
   ]
  },
  {
   "cell_type": "code",
   "execution_count": 23,
   "metadata": {},
   "outputs": [
    {
     "data": {
      "text/plain": [
       "PyObject <module 'networkx' from '/Users/nastysushi/opt/miniconda3/lib/python3.9/site-packages/networkx/__init__.py'>"
      ]
     },
     "metadata": {},
     "output_type": "display_data"
    }
   ],
   "source": [
    "net = pyimport(\"pyvis\")\n",
    "nx = pyimport(\"networkx\")"
   ]
  },
  {
   "cell_type": "code",
   "execution_count": 37,
   "metadata": {},
   "outputs": [
    {
     "data": {
      "text/plain": [
       "86-element Vector{Tuple{String, Any}}:\n",
       " (\"__class__\", PyObject <class 'pyvis.network.Network'>)\n",
       " (\"__delattr__\", PyObject <method-wrapper '__delattr__' of Network object at 0x7fd00f0679d0>)\n",
       " (\"__dict__\", Dict{Any, Any}(\"directed\" => false, \"cdn_resources\" => \"local\", \"path\" => \"template.html\", \"height\" => \"600px\", \"shape\" => \"dot\", \"filter_menu\" => false, \"use_DOT\" => false, \"templateEnv\" => PyObject <jinja2.environment.Environment object at 0x7fd00f067d60>, \"edges\" => Any[], \"node_map\" => Dict{Any, Any}()…))\n",
       " (\"__dir__\", PyObject <built-in method __dir__ of Network object at 0x7fd00f0679d0>)\n",
       " (\"__doc__\", \"\\n    The Network class is the focus of this library. All viz functionality\\n    should be implemented off of a Network instance.\\n\\n    To instantiate:\\n\\n    >>> nt = Network()\\n    \")\n",
       " (\"__eq__\", PyObject <method-wrapper '__eq__' of Network object at 0x7fd00f0679d0>)\n",
       " (\"__format__\", PyObject <built-in method __format__ of Network object at 0x7fd00f0679d0>)\n",
       " (\"__ge__\", PyObject <method-wrapper '__ge__' of Network object at 0x7fd00f0679d0>)\n",
       " (\"__getattribute__\", PyObject <method-wrapper '__getattribute__' of Network object at 0x7fd00f0679d0>)\n",
       " (\"__gt__\", PyObject <method-wrapper '__gt__' of Network object at 0x7fd00f0679d0>)\n",
       " ⋮\n",
       " (\"toggle_drag_nodes\", PyObject <bound method Network.toggle_drag_nodes of <class 'pyvis.network.Network'> |N|=0 |E|=0>)\n",
       " (\"toggle_hide_edges_on_drag\", PyObject <bound method Network.toggle_hide_edges_on_drag of <class 'pyvis.network.Network'> |N|=0 |E|=0>)\n",
       " (\"toggle_hide_nodes_on_drag\", PyObject <bound method Network.toggle_hide_nodes_on_drag of <class 'pyvis.network.Network'> |N|=0 |E|=0>)\n",
       " (\"toggle_physics\", PyObject <bound method Network.toggle_physics of <class 'pyvis.network.Network'> |N|=0 |E|=0>)\n",
       " (\"toggle_stabilization\", PyObject <bound method Network.toggle_stabilization of <class 'pyvis.network.Network'> |N|=0 |E|=0>)\n",
       " (\"use_DOT\", false)\n",
       " (\"widget\", false)\n",
       " (\"width\", \"100%\")\n",
       " (\"write_html\", PyObject <bound method Network.write_html of <class 'pyvis.network.Network'> |N|=0 |E|=0>)"
      ]
     },
     "metadata": {},
     "output_type": "display_data"
    }
   ],
   "source": [
    "PyCall.inspect[:getmembers](net.network.Network())"
   ]
  },
  {
   "cell_type": "code",
   "execution_count": 42,
   "metadata": {},
   "outputs": [
    {
     "data": {
      "text/html": [
       "\n",
       "        <iframe\n",
       "            width=\"100%\"\n",
       "            height=\"600px\"\n",
       "            src=\"aaaa.html\"\n",
       "            frameborder=\"0\"\n",
       "            allowfullscreen\n",
       "            \n",
       "        ></iframe>\n",
       "        "
      ],
      "text/plain": [
       "PyObject <IPython.lib.display.IFrame object at 0x7fd00f05bc10>"
      ]
     },
     "metadata": {},
     "output_type": "display_data"
    }
   ],
   "source": [
    "g = net.network.Network(notebook=true, cdn_resources=\"remote\")\n",
    "nxg = nx.complete_graph(5)\n",
    "g.from_nx(nxg)\n",
    "g.show(\"aaaa.html\")"
   ]
  },
  {
   "cell_type": "code",
   "execution_count": 8,
   "metadata": {},
   "outputs": [
    {
     "ename": "KeyError",
     "evalue": "KeyError: key :Network not found",
     "output_type": "error",
     "traceback": [
      "KeyError: key :Network not found\n",
      "\n",
      "Stacktrace:\n",
      " [1] __getproperty\n",
      "   @ ~/.julia/packages/PyCall/twYvK/src/PyCall.jl:313 [inlined]\n",
      " [2] getproperty(o::PyObject, s::Symbol)\n",
      "   @ PyCall ~/.julia/packages/PyCall/twYvK/src/PyCall.jl:318\n",
      " [3] top-level scope\n",
      "   @ ~/Mirror/_MULTIMEDIA/THESIS/thesis/github/tests/JlinearRegression.ipynb:1"
     ]
    }
   ],
   "source": [
    "#g = net.Network(notebook=true, cdn_resources=\"remote\")\n",
    "# nxg = nx.complete_graph(5)\n",
    "# g.from_nx(nxg)\n",
    "# g.show(\"abcde.html\") # creates html file"
   ]
  },
  {
   "cell_type": "code",
   "execution_count": null,
   "metadata": {},
   "outputs": [],
   "source": [
    "# from pyvis import network as net\n",
    "# import networkx as nx\n",
    "\n"
   ]
  },
  {
   "cell_type": "code",
   "execution_count": null,
   "metadata": {},
   "outputs": [],
   "source": [
    "# frequencies.extractFrequencies()"
   ]
  }
 ],
 "metadata": {
  "kernelspec": {
   "display_name": "Julia 1.8.5",
   "language": "julia",
   "name": "julia-1.8"
  },
  "language_info": {
   "file_extension": ".jl",
   "mimetype": "application/julia",
   "name": "julia",
   "version": "1.8.5"
  },
  "orig_nbformat": 4
 },
 "nbformat": 4,
 "nbformat_minor": 2
}
