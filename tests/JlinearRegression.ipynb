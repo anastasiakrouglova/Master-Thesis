{
 "cells": [
  {
   "cell_type": "code",
   "execution_count": 1,
   "metadata": {},
   "outputs": [],
   "source": [
    "# Code written in Julia\n",
    "using PyCall # call python functions in julia\n",
    "using Conda\n",
    "# using PyPlot\n",
    "# using Conda\n",
    "\n",
    "# pushfirst!(PyVector(pyimport(\"sys\").\"path\"), \"./../fpt/\")\n",
    "# pushfirst!(PyVector(pyimport(\"sys\").\"path\"), \"./../feature-extraction/\")\n",
    "\n",
    "# prop = pyimport(\"cached_property\")\n",
    "# res = pyimport(\"resonance\")\n",
    "# us = pyimport(\"utilities_store\")\n",
    "# frequencies = pyimport(\"extractFrequencies\")"
   ]
  },
  {
   "cell_type": "code",
   "execution_count": 23,
   "metadata": {},
   "outputs": [
    {
     "data": {
      "text/plain": [
       "PyObject <module 'networkx' from '/Users/nastysushi/opt/miniconda3/lib/python3.9/site-packages/networkx/__init__.py'>"
      ]
     },
     "metadata": {},
     "output_type": "display_data"
    }
   ],
   "source": [
    "net = pyimport(\"pyvis\")\n",
    "nx = pyimport(\"networkx\")"
   ]
  },
  {
   "cell_type": "code",
   "execution_count": 43,
   "metadata": {},
   "outputs": [],
   "source": [
    "# To inspect the methods of the function\n",
    "#PyCall.inspect[:getmembers](net.network.Network())"
   ]
  },
  {
   "cell_type": "code",
   "execution_count": 45,
   "metadata": {},
   "outputs": [
    {
     "data": {
      "text/html": [
       "\n",
       "        <iframe\n",
       "            width=\"100%\"\n",
       "            height=\"600px\"\n",
       "            src=\"aaaa.html\"\n",
       "            frameborder=\"0\"\n",
       "            allowfullscreen\n",
       "            \n",
       "        ></iframe>\n",
       "        "
      ],
      "text/plain": [
       "PyObject <IPython.lib.display.IFrame object at 0x7fd00d7c4ca0>"
      ]
     },
     "metadata": {},
     "output_type": "display_data"
    }
   ],
   "source": [
    "g = net.network.Network(notebook=true, cdn_resources=\"remote\")\n",
    "\n",
    "g.add_nodes([\"DRS\"])\n",
    "g.add_nodes([\"sliceID(1)\", \"sliceID(2)\"])\n",
    "\n",
    "g.add_edge(\"DRS\", \"sliceID(1)\")\n",
    "g.add_edge(\"DRS\", \"sliceID(2)\")\n",
    "\n",
    "g.get_node(\"sliceID(2)\")\n",
    "\n",
    "g.show(\"aaaa.html\")"
   ]
  },
  {
   "cell_type": "code",
   "execution_count": 8,
   "metadata": {},
   "outputs": [
    {
     "ename": "KeyError",
     "evalue": "KeyError: key :Network not found",
     "output_type": "error",
     "traceback": [
      "KeyError: key :Network not found\n",
      "\n",
      "Stacktrace:\n",
      " [1] __getproperty\n",
      "   @ ~/.julia/packages/PyCall/twYvK/src/PyCall.jl:313 [inlined]\n",
      " [2] getproperty(o::PyObject, s::Symbol)\n",
      "   @ PyCall ~/.julia/packages/PyCall/twYvK/src/PyCall.jl:318\n",
      " [3] top-level scope\n",
      "   @ ~/Mirror/_MULTIMEDIA/THESIS/thesis/github/tests/JlinearRegression.ipynb:1"
     ]
    }
   ],
   "source": [
    "#g = net.Network(notebook=true, cdn_resources=\"remote\")\n",
    "# nxg = nx.complete_graph(5)\n",
    "# g.from_nx(nxg)\n",
    "# g.show(\"abcde.html\") # creates html file"
   ]
  },
  {
   "cell_type": "code",
   "execution_count": null,
   "metadata": {},
   "outputs": [],
   "source": [
    "# from pyvis import network as net\n",
    "# import networkx as nx\n",
    "\n"
   ]
  },
  {
   "cell_type": "code",
   "execution_count": null,
   "metadata": {},
   "outputs": [],
   "source": [
    "# frequencies.extractFrequencies()"
   ]
  }
 ],
 "metadata": {
  "kernelspec": {
   "display_name": "Julia 1.8.5",
   "language": "julia",
   "name": "julia-1.8"
  },
  "language_info": {
   "file_extension": ".jl",
   "mimetype": "application/julia",
   "name": "julia",
   "version": "1.8.5"
  },
  "orig_nbformat": 4
 },
 "nbformat": 4,
 "nbformat_minor": 2
}
