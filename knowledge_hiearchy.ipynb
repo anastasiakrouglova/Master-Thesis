{
 "cells": [
  {
   "cell_type": "code",
   "execution_count": 1,
   "metadata": {},
   "outputs": [],
   "source": [
    "# Code written in Julia\n",
    "using Chakra #, Charm\n",
    "push!(LOAD_PATH, \"./resonance-knowledge/src/\") # TODO: load preprocessed data\n",
    "using Resonances \n",
    "push!(LOAD_PATH, \".\") # TODO: load preprocessed data\n",
    "using DataSource\n",
    "# # include(\"./resonance-knowledge/src/Flute.jl\")\n",
    "# include(\"./clustering.jl\")\n",
    "\n",
    "# Code written in Julia\n",
    "using PyCall # call python functions in julia\n",
    "using Conda"
   ]
  },
  {
   "cell_type": "code",
   "execution_count": 2,
   "metadata": {},
   "outputs": [
    {
     "data": {
      "text/plain": [
       "Resonances.Resonance(\u001b[1mDataFrameRow\u001b[0m\n",
       "\u001b[1m Row \u001b[0m│\u001b[1m onset \u001b[0m\u001b[1m duration \u001b[0m\u001b[1m sample_rate \u001b[0m\u001b[1m amplitude  \u001b[0m\u001b[1m phase   \u001b[0m\u001b[1m frequency \u001b[0m\u001b[1m decay    \u001b[0m\u001b[1m\u001b[0m ⋯\n",
       "\u001b[1m     \u001b[0m│\u001b[90m Int64 \u001b[0m\u001b[90m Int64    \u001b[0m\u001b[90m Int64       \u001b[0m\u001b[90m Float64    \u001b[0m\u001b[90m Float64 \u001b[0m\u001b[90m Float64   \u001b[0m\u001b[90m Float64  \u001b[0m\u001b[90m\u001b[0m ⋯\n",
       "─────┼──────────────────────────────────────────────────────────────────────────\n",
       "   2 │     0       250        44100  5.46462e-5  1.75051   -21010.4  -1.43949  ⋯\n",
       "\u001b[36m                                                               7 columns omitted\u001b[0m)"
      ]
     },
     "metadata": {},
     "output_type": "display_data"
    }
   ],
   "source": [
    "drs = DataSource.Resonances.drsId(1)\n",
    "sliceIds = pts(drs, DataSource) # vector of slice Id's\n",
    "\n",
    "resonanceIds1 = pts(sliceIds[1], DataSource)\n",
    "\n",
    "a = pts(resonanceIds1[1], DataSource)\n",
    "\n",
    "fnd(a[2], DataSource)\n",
    "\n",
    "#fnd(sliceIds[1], DataSource)\n",
    "#sliceIds[8].resonances.pairId"
   ]
  },
  {
   "cell_type": "code",
   "execution_count": 3,
   "metadata": {},
   "outputs": [
    {
     "data": {
      "text/plain": [
       "348-element Vector{Resonances.Id}:\n",
       " Resonances.ResonanceId(789)\n",
       " Resonances.ResonanceId(905)\n",
       " Resonances.ResonanceId(1040)\n",
       " Resonances.ResonanceId(1168)\n",
       " Resonances.ResonanceId(1305)\n",
       " Resonances.ResonanceId(1443)\n",
       " Resonances.ResonanceId(1597)\n",
       " Resonances.ResonanceId(1743)\n",
       " Resonances.ResonanceId(1899)\n",
       " Resonances.ResonanceId(2060)\n",
       " ⋮\n",
       " Resonances.ResonanceId(66286)\n",
       " Resonances.ResonanceId(66392)\n",
       " Resonances.ResonanceId(66497)\n",
       " Resonances.ResonanceId(66589)\n",
       " Resonances.ResonanceId(66668)\n",
       " Resonances.ResonanceId(66764)\n",
       " Resonances.ResonanceId(66847)\n",
       " Resonances.ResonanceId(66930)\n",
       " Resonances.ResonanceId(66996)"
      ]
     },
     "metadata": {},
     "output_type": "display_data"
    }
   ],
   "source": [
    "# Create 1 bol: dynamic resonances, waarbij al die Id's een deel van zijn\n",
    "dynR = DataSource.Resonances.harmonicId(1)\n",
    "\n",
    "pts(dynR, DataSource)"
   ]
  },
  {
   "cell_type": "code",
   "execution_count": 4,
   "metadata": {},
   "outputs": [
    {
     "data": {
      "text/plain": [
       "348-element Vector{Resonances.Id}:\n",
       " Resonances.ResonanceId(789)\n",
       " Resonances.ResonanceId(905)\n",
       " Resonances.ResonanceId(1040)\n",
       " Resonances.ResonanceId(1168)\n",
       " Resonances.ResonanceId(1305)\n",
       " Resonances.ResonanceId(1443)\n",
       " Resonances.ResonanceId(1597)\n",
       " Resonances.ResonanceId(1743)\n",
       " Resonances.ResonanceId(1899)\n",
       " Resonances.ResonanceId(2060)\n",
       " ⋮\n",
       " Resonances.ResonanceId(66286)\n",
       " Resonances.ResonanceId(66392)\n",
       " Resonances.ResonanceId(66497)\n",
       " Resonances.ResonanceId(66589)\n",
       " Resonances.ResonanceId(66668)\n",
       " Resonances.ResonanceId(66764)\n",
       " Resonances.ResonanceId(66847)\n",
       " Resonances.ResonanceId(66930)\n",
       " Resonances.ResonanceId(66996)"
      ]
     },
     "metadata": {},
     "output_type": "display_data"
    }
   ],
   "source": [
    "# works only with data that contains that label\n",
    "harmonic1 = DataSource.Resonances.harmonicId(1) # noise, not needed in hierarchal structure\n",
    "# harmonic2 = DataSource.Resonances.harmonicId(2)\n",
    "# harmonic3 = DataSource.Resonances.harmonicId(3)\n",
    "# harmonic4 = DataSource.Resonances.harmonicId(4)\n",
    "# harmonic5 = DataSource.Resonances.harmonicId(5)\n",
    "# harmonic0 = DataSource.Resonances.harmonicId(0)\n",
    "# pair = DataSource.Resonances.pairId(2)\n",
    "\n",
    "# all clusters are extractable, noise ignored (-1)\n",
    "a = pts(harmonic1, DataSource) \n",
    "# b = pts(harmonic2, DataSource) \n",
    "# c = pts(harmonic3, DataSource) "
   ]
  },
  {
   "cell_type": "code",
   "execution_count": 7,
   "metadata": {},
   "outputs": [],
   "source": [
    "# pair = DataSource.Resonances.pairId(2)\n",
    "# fnd(pair, DataSource)"
   ]
  },
  {
   "cell_type": "code",
   "execution_count": 53,
   "metadata": {},
   "outputs": [
    {
     "data": {
      "text/plain": [
       "false"
      ]
     },
     "metadata": {},
     "output_type": "display_data"
    }
   ],
   "source": [
    "pairIdsi = pts(sliceIds[1], DataSource)\n",
    "\n",
    "typeof(pairIdsi[1]) == Resonances.PairId"
   ]
  },
  {
   "cell_type": "code",
   "execution_count": 63,
   "metadata": {},
   "outputs": [
    {
     "data": {
      "text/plain": [
       "true"
      ]
     },
     "metadata": {},
     "output_type": "display_data"
    }
   ],
   "source": [
    "pairIds_labels = Vector{Vector}()\n",
    "\n",
    "isempty(pairIds_labels)"
   ]
  },
  {
   "attachments": {},
   "cell_type": "markdown",
   "metadata": {},
   "source": [
    "# Graph"
   ]
  },
  {
   "cell_type": "code",
   "execution_count": 35,
   "metadata": {},
   "outputs": [
    {
     "ename": "MethodError",
     "evalue": "MethodError: no method matching pts(::String, ::Module)\nClosest candidates are:\n  pts(!Matched::Chakra.Id, ::Any) at /Users/nastysushi/.julia/packages/Chakra/WK58t/src/Chakra.jl:306",
     "output_type": "error",
     "traceback": [
      "MethodError: no method matching pts(::String, ::Module)\n",
      "Closest candidates are:\n",
      "  pts(!Matched::Chakra.Id, ::Any) at /Users/nastysushi/.julia/packages/Chakra/WK58t/src/Chakra.jl:306\n",
      "\n",
      "Stacktrace:\n",
      " [1] top-level scope\n",
      "   @ ~/Mirror/_MULTIMEDIA/THESIS/thesis/github/knowledge_hiearchy.ipynb:51"
     ]
    }
   ],
   "source": [
    "# Remove the class of resonances for the labeling\n",
    "# convert id to string\n",
    "t = repr(\"text/plain\", drs)\n",
    "r = r\"Resonances.\"\n",
    "drs_s = replace(t,r => \"\")\n",
    "# drs_s = drs_s * \"[0]\"\n",
    "\n",
    "drs_vec = Vector{String}()\n",
    "push!(drs_vec,drs_s)\n",
    "\n",
    "drs_vec\n",
    "#############################################################\n",
    "\n",
    "sliceIds_vec = map(slice -> \n",
    "    begin\n",
    "        t = repr(\"text/plain\", slice)\n",
    "        r = r\"Resonances.\"\n",
    "        slice = replace(t,r => \"\")\n",
    "        # slice = slice * \"[1]\"\n",
    "        \n",
    "    end, sliceIds)\n",
    "\n",
    "sliceIds_vec\n",
    "\n",
    "#############################################################\n",
    "\n",
    "# PairIds are actually just resonance id's since complex is negociated\n",
    "# TODO: rename it to id's and make just function for it \n",
    "PairIds = Vector{Vector}()\n",
    "\n",
    "for i in 1:length(sliceIds)\n",
    "    PairIdsi = pts(sliceIds[i], DataSource)\n",
    "    PairIdsi_vec =  map(pair -> \n",
    "    begin\n",
    "        t = repr(\"text/plain\", pair)\n",
    "        r = r\"Resonances.\"\n",
    "        pair = replace(t,r => \"\")\n",
    "        # pair = pair * \"[2]\"\n",
    "    end, PairIdsi)\n",
    "\n",
    "    push!(PairIds, PairIdsi_vec)\n",
    "\n",
    "    # append the vector\n",
    "end\n",
    "\n",
    "\n",
    "\n"
   ]
  },
  {
   "cell_type": "code",
   "execution_count": 42,
   "metadata": {},
   "outputs": [
    {
     "ename": "UndefVarError",
     "evalue": "UndefVarError: PairId not defined",
     "output_type": "error",
     "traceback": [
      "UndefVarError: PairId not defined\n",
      "\n",
      "Stacktrace:\n",
      " [1] top-level scope\n",
      "   @ ~/Mirror/_MULTIMEDIA/THESIS/thesis/github/knowledge_hiearchy.ipynb:3"
     ]
    }
   ],
   "source": [
    "slide1 = pts(sliceIds[1], DataSource)\n",
    "\n",
    "pts(PairId, DataSource)"
   ]
  },
  {
   "cell_type": "code",
   "execution_count": 48,
   "metadata": {},
   "outputs": [
    {
     "data": {
      "text/plain": [
       "converToLabels (generic function with 1 method)"
      ]
     },
     "metadata": {},
     "output_type": "display_data"
    }
   ],
   "source": [
    "function converToLabels()\n",
    "    drs = DataSource.Resonances.drsId(1)\n",
    "    sliceIds = pts(drs, DataSource)\n",
    "    PairIds = Vector{Vector}()\n",
    "    ResonanceIds = Vector{Vector}()\n",
    "\n",
    "    t = repr(\"text/plain\", drs)\n",
    "    r = r\"Resonances.\"\n",
    "    drs_s = replace(t,r => \"\")\n",
    "\n",
    "    drs_vec = Vector{String}()\n",
    "    push!(drs_vec,drs_s)\n",
    "\n",
    "\n",
    "    sliceIds_vec = map(slice -> \n",
    "        begin\n",
    "            t = repr(\"text/plain\", slice)\n",
    "            r = r\"Resonances.\"\n",
    "            slice = replace(t,r => \"\")\n",
    "            # slice = slice * \"[1]\"\n",
    "            \n",
    "        end, sliceIds)\n",
    "\n",
    "    sliceIds_vec\n",
    "\n",
    "    for i in 1:length(sliceIds)\n",
    "        PairIdsi = pts(sliceIds[i], DataSource)\n",
    "        PairIdsi_vec =  map(pair -> \n",
    "        begin\n",
    "            t = repr(\"text/plain\", pair)\n",
    "            r = r\"Resonances.\"\n",
    "            pair = replace(t,r => \"\")\n",
    "            # pair = pair * \"[2]\"\n",
    "        end, PairIdsi)\n",
    "\n",
    "        push!(PairIds, PairIdsi_vec)\n",
    "\n",
    "        for k in 1:length(PairIdsi)\n",
    "            ResIdsi = pts(PairIdsi[k], DataSource)\n",
    "            ResonanceIdsi_vec =  map(res -> \n",
    "            begin\n",
    "                    t = repr(\"text/plain\", res)\n",
    "                    r = r\"Resonances.\"\n",
    "                    res = replace(t,r => \"\")\n",
    "            end, ResIdsi)\n",
    "        \n",
    "            push!(ResonanceIds, ResonanceIdsi_vec)\n",
    "\n",
    "        end\n",
    "    end\n",
    "end\n",
    "\n",
    "converToLabels\n",
    "\n",
    "\n"
   ]
  },
  {
   "cell_type": "code",
   "execution_count": 25,
   "metadata": {},
   "outputs": [
    {
     "data": {
      "text/plain": [
       "10"
      ]
     },
     "metadata": {},
     "output_type": "display_data"
    }
   ],
   "source": [
    "# g = net.network.Network(notebook=true, cdn_resources=\"remote\")\n",
    "\n",
    "# g.add_nodes(drs_vec, color=[\"#00ff1e\"])\n",
    "# g.add_nodes(sliceIds_vec)\n",
    "\n",
    "# # add adges between drs and sliceIds\n",
    "# for i in 1:length(sliceIds_vec)\n",
    "#     g.add_edge(drs_vec[1], sliceIds_vec[i])\n",
    "# end\n",
    "\n",
    "# g.show(\"aa.html\") "
   ]
  },
  {
   "cell_type": "code",
   "execution_count": 34,
   "metadata": {},
   "outputs": [
    {
     "data": {
      "text/plain": [
       "\"nodes.csv\""
      ]
     },
     "metadata": {},
     "output_type": "display_data"
    }
   ],
   "source": [
    "# Create NODELIST with nodes for export to Gephi\n",
    "\n",
    "using DataFrames, CSV\n",
    "\n",
    "k = DataFrame(Id=drs_vec[1], Level=3)\n",
    "\n",
    "for i in 1:length(sliceIds_vec)\n",
    "    push!(k, (sliceIds_vec[i], 2))\n",
    "    for j in 1:length(PairIds[i][:])\n",
    "       push!(k, (PairIds[i][j], 1))\n",
    "    end\n",
    "end\n",
    "\n",
    "CSV.write(\"nodes.csv\", k)\n"
   ]
  },
  {
   "cell_type": "code",
   "execution_count": 31,
   "metadata": {},
   "outputs": [
    {
     "data": {
      "text/plain": [
       "\"./edges.csv\""
      ]
     },
     "metadata": {},
     "output_type": "display_data"
    }
   ],
   "source": [
    "# Create csv with nodes for export to Gephi\n",
    "\n",
    "\n",
    "k = DataFrame(Source=drs_vec[1], Target=sliceIds_vec)\n",
    "\n",
    "for i in 1:length(sliceIds_vec)\n",
    "    for j in 1:length(PairIds[i][:])\n",
    "        push!(k, (sliceIds_vec[i], PairIds[i][j]))\n",
    "    end\n",
    "end\n",
    "# g.add_edge(drs_vec[1], sliceIds_vec[i])\n",
    "\n",
    "CSV.write(\"./edges.csv\", k)"
   ]
  },
  {
   "cell_type": "code",
   "execution_count": 6,
   "metadata": {},
   "outputs": [],
   "source": [
    "# problem: too much data, no good graph representation\n",
    "# only use filtered data for representation\n",
    "net = pyimport(\"pyvis\")\n",
    "# nx = pyimport(\"networkx\")\n",
    "g = net.network.Network(notebook=true, cdn_resources=\"remote\", bgcolor=\"#ffffff\", font_color=\"white\")\n",
    "\n",
    "# 1. Add weigths to nodes\n",
    "\n",
    "#g.add_nodes(drs_vec, color=[\"#00ff1e\"], group=[1], mass=[1] )\n",
    "g.add_node(drs_vec[1], color=\"#0000A6\", size=12, level=1, x=0, y=0)\n",
    "\n",
    "# add edges between drs and sliceIds\n",
    "for i in 1:length(sliceIds_vec)\n",
    "\n",
    "    g.add_node(sliceIds_vec[i], color=\"#00CC96\", size=10, level=2, y=100)\n",
    "    g.add_edge(drs_vec[1], sliceIds_vec[i])\n",
    "    \n",
    "    for j in 1:length(PairIds[i][:])\n",
    "        g.add_node(PairIds[i][j], color=\"#AB63FA\", size=8, level=3, y=1000)\n",
    "        g.add_edge(sliceIds_vec[i], PairIds[i][j])\n",
    "    end\n",
    "\n",
    "    # for j in 1:length(PairIds[i])\n",
    "    #             # print(i)\n",
    "    #     g.add_edge(sliceIds_vec[i], PairIds[i][j])\n",
    "    # end\n",
    "\n",
    "    # g.add_edge(drs_vec[1], sliceIds_vec[i])\n",
    "end\n",
    "\n",
    "# for j in 1:length(sliceIds_vec)\n",
    "#     # println(j)\n",
    "#     g.add_nodes(PairIds[j][:])\n",
    "#     for i in 1:length(PairIds[j])\n",
    "#         # print(i)\n",
    "#         g.add_edge(sliceIds_vec[j], PairIds[j][i])\n",
    "#     end\n",
    "# end\n",
    "\n",
    "\n",
    "# save html\n",
    "# g.show_buttons()\n",
    "g.toggle_physics(false) # if false, faster rendering, just wrong placement/clustering\n",
    "g.show(\"bb.html\") "
   ]
  },
  {
   "cell_type": "code",
   "execution_count": 11,
   "metadata": {},
   "outputs": [
    {
     "data": {
      "text/html": [
       "\n",
       "        <iframe\n",
       "            width=\"100%\"\n",
       "            height=\"600px\"\n",
       "            src=\"aaa.html\"\n",
       "            frameborder=\"0\"\n",
       "            allowfullscreen\n",
       "            \n",
       "        ></iframe>\n",
       "        "
      ],
      "text/plain": [
       "PyObject <IPython.lib.display.IFrame object at 0x7f9f69f77c10>"
      ]
     },
     "metadata": {},
     "output_type": "display_data"
    }
   ],
   "source": [
    "g.show(\"aaa.html\") "
   ]
  },
  {
   "cell_type": "code",
   "execution_count": 12,
   "metadata": {},
   "outputs": [],
   "source": []
  },
  {
   "cell_type": "code",
   "execution_count": 13,
   "metadata": {},
   "outputs": [
    {
     "data": {
      "text/plain": [
       "Resonances.DRSHierarchy(\u001b[1m68767×14 DataFrame\u001b[0m\n",
       "\u001b[1m   Row \u001b[0m│\u001b[1m onset \u001b[0m\u001b[1m duration \u001b[0m\u001b[1m sample_rate \u001b[0m\u001b[1m amplitude  \u001b[0m\u001b[1m phase     \u001b[0m\u001b[1m frequency  \u001b[0m\u001b[1m deca\u001b[0m ⋯\n",
       "\u001b[1m       \u001b[0m│\u001b[90m Int64 \u001b[0m\u001b[90m Int64    \u001b[0m\u001b[90m Int64       \u001b[0m\u001b[90m Float64    \u001b[0m\u001b[90m Float64   \u001b[0m\u001b[90m Float64    \u001b[0m\u001b[90m Floa\u001b[0m ⋯\n",
       "───────┼────────────────────────────────────────────────────────────────────────\n",
       "     1 │     0       250        44100  5.46462e-5  -1.75051    21010.4      -1 ⋯\n",
       "     2 │     0       250        44100  5.46462e-5   1.75051   -21010.4      -1\n",
       "     3 │     0       250        44100  5.72443e-5   1.94371    20877.5      -0\n",
       "     4 │     0       250        44100  5.72443e-5  -1.94371   -20877.5      -0\n",
       "     5 │     0       250        44100  3.93256e-5  -0.154051   17701.8     -11 ⋯\n",
       "     6 │     0       250        44100  3.93256e-5   0.154051  -17701.8     -11\n",
       "     7 │     0       250        44100  5.71008e-5  -0.977787    7035.41    -21\n",
       "     8 │     0       250        44100  5.71008e-5   0.977787   -7035.41    -21\n",
       "   ⋮   │   ⋮       ⋮           ⋮           ⋮           ⋮          ⋮            ⋱\n",
       " 68761 │ 94750        53        44100  0.0372581   -1.6848       872.666  -960 ⋯\n",
       " 68762 │ 94750        53        44100  0.0372581    1.6848      -872.666  -960\n",
       " 68763 │ 94750        53        44100  0.0179077   -2.9376       646.368  -958\n",
       " 68764 │ 94750        53        44100  0.0179077    2.9376      -646.368  -958\n",
       " 68765 │ 94750        53        44100  0.0108995   -2.11704      208.417  -943 ⋯\n",
       " 68766 │ 94750        53        44100  0.0108995    2.11704     -208.417  -943\n",
       " 68767 │ 94750        53        44100  0.0139409   -3.14159       -0.0    -938\n",
       "\u001b[36m                                                8 columns and 68752 rows omitted\u001b[0m)"
      ]
     },
     "metadata": {},
     "output_type": "display_data"
    }
   ],
   "source": [
    "# retrieve all the data\n",
    "DataSource.__data__"
   ]
  },
  {
   "cell_type": "code",
   "execution_count": 14,
   "metadata": {},
   "outputs": [
    {
     "data": {
      "text/plain": [
       "Resonances.DRSId(1)"
      ]
     },
     "metadata": {},
     "output_type": "display_data"
    }
   ],
   "source": [
    "# create drs object\n",
    "## inititialization resonance and slice id's\n",
    "res10 = DataSource.Resonances.resId(10)\n",
    "res20 = DataSource.Resonances.resId(20)\n",
    "res40 = DataSource.Resonances.resId(40)\n",
    "\n",
    "pair3 = DataSource.Resonances.pairId(3)\n",
    "pair2000 = DataSource.Resonances.pairId(2000)\n",
    "\n",
    "slice5 = DataSource.Resonances.sliceId(5)\n",
    "slice10 = DataSource.Resonances.sliceId(10)\n",
    "\n",
    "drs = DataSource.Resonances.drsId(1)"
   ]
  },
  {
   "cell_type": "code",
   "execution_count": 15,
   "metadata": {},
   "outputs": [],
   "source": [
    "# using CairoMakie\n",
    "# using GraphMakie\n",
    "# using Graphs\n",
    "\n",
    "# g = wheel_graph(10)\n",
    "# f, ax, p = graphplot(g)\n",
    "# hidedecorations!(ax); hidespines!(ax)\n",
    "# ax.aspect = DataAspect()\n",
    "\n",
    "# graphplot(g)"
   ]
  },
  {
   "cell_type": "code",
   "execution_count": 16,
   "metadata": {},
   "outputs": [
    {
     "data": {
      "text/plain": [
       "380-element Vector{Resonances.Id}:\n",
       " Resonances.SliceId(0)\n",
       " Resonances.SliceId(1)\n",
       " Resonances.SliceId(2)\n",
       " Resonances.SliceId(3)\n",
       " Resonances.SliceId(4)\n",
       " Resonances.SliceId(5)\n",
       " Resonances.SliceId(6)\n",
       " Resonances.SliceId(7)\n",
       " Resonances.SliceId(8)\n",
       " Resonances.SliceId(9)\n",
       " ⋮\n",
       " Resonances.SliceId(371)\n",
       " Resonances.SliceId(372)\n",
       " Resonances.SliceId(373)\n",
       " Resonances.SliceId(374)\n",
       " Resonances.SliceId(375)\n",
       " Resonances.SliceId(376)\n",
       " Resonances.SliceId(377)\n",
       " Resonances.SliceId(378)\n",
       " Resonances.SliceId(1787)"
      ]
     },
     "metadata": {},
     "output_type": "display_data"
    }
   ],
   "source": [
    "sliceIDs = pts(drs, DataSource)\n",
    "\n",
    "#typeof(sliceIDs)"
   ]
  },
  {
   "cell_type": "code",
   "execution_count": 17,
   "metadata": {},
   "outputs": [
    {
     "data": {
      "text/plain": [
       "53-element Vector{Resonances.Id}:\n",
       " Resonances.PairId(230)\n",
       " Resonances.PairId(231)\n",
       " Resonances.PairId(232)\n",
       " Resonances.PairId(233)\n",
       " Resonances.PairId(234)\n",
       " Resonances.PairId(235)\n",
       " Resonances.PairId(236)\n",
       " Resonances.PairId(237)\n",
       " Resonances.PairId(238)\n",
       " Resonances.PairId(239)\n",
       " ⋮\n",
       " Resonances.PairId(274)\n",
       " Resonances.PairId(275)\n",
       " Resonances.PairId(276)\n",
       " Resonances.PairId(277)\n",
       " Resonances.PairId(278)\n",
       " Resonances.PairId(279)\n",
       " Resonances.PairId(280)\n",
       " Resonances.PairId(281)\n",
       " Resonances.PairId(282)"
      ]
     },
     "metadata": {},
     "output_type": "display_data"
    }
   ],
   "source": [
    "pts(slice5, DataSource)"
   ]
  },
  {
   "cell_type": "code",
   "execution_count": 18,
   "metadata": {},
   "outputs": [
    {
     "data": {
      "text/plain": [
       "2-element Vector{Resonances.Id}:\n",
       " Resonances.ResonanceId(5)\n",
       " Resonances.ResonanceId(6)"
      ]
     },
     "metadata": {},
     "output_type": "display_data"
    }
   ],
   "source": [
    "pts(pair3, DataSource)"
   ]
  },
  {
   "cell_type": "code",
   "execution_count": 19,
   "metadata": {},
   "outputs": [
    {
     "ename": "UndefVarError",
     "evalue": "UndefVarError: __data__ not defined",
     "output_type": "error",
     "traceback": [
      "UndefVarError: __data__ not defined\n",
      "\n",
      "Stacktrace:\n",
      " [1] top-level scope\n",
      "   @ ~/Mirror/_MULTIMEDIA/THESIS/thesis/github/knowledge_hiearchy.ipynb:1"
     ]
    }
   ],
   "source": [
    "drs = __data__.Resonances.drsId(1)"
   ]
  },
  {
   "cell_type": "code",
   "execution_count": 20,
   "metadata": {},
   "outputs": [
    {
     "ename": "UndefVarError",
     "evalue": "UndefVarError: __data__ not defined",
     "output_type": "error",
     "traceback": [
      "UndefVarError: __data__ not defined\n",
      "\n",
      "Stacktrace:\n",
      " [1] top-level scope\n",
      "   @ ~/Mirror/_MULTIMEDIA/THESIS/thesis/github/knowledge_hiearchy.ipynb:2"
     ]
    }
   ],
   "source": [
    "# 1. Run julia code to add clusters to dataHierarchy\n",
    "df = findClusters(__data__, 0.5, 5, 0.001, 2000)"
   ]
  },
  {
   "cell_type": "code",
   "execution_count": 21,
   "metadata": {},
   "outputs": [],
   "source": [
    "\n",
    "# 2. Take every cluster out as a resonance (classify)\n",
    "# 3. use machine learning for classifying it (eg f_0 is ground etc)"
   ]
  },
  {
   "cell_type": "code",
   "execution_count": 22,
   "metadata": {},
   "outputs": [],
   "source": [
    "\n",
    "\n",
    "# create resonance groups for hierarchical structure\n",
    "#f_0 = Resonances.getFrequencyBand(PRED-MARGE, PRED+MARGE, Sine).resonances # with marge"
   ]
  },
  {
   "cell_type": "code",
   "execution_count": 23,
   "metadata": {},
   "outputs": [
    {
     "ename": "UndefVarError",
     "evalue": "UndefVarError: predictions not defined",
     "output_type": "error",
     "traceback": [
      "UndefVarError: predictions not defined\n",
      "\n",
      "Stacktrace:\n",
      " [1] top-level scope\n",
      "   @ ~/Mirror/_MULTIMEDIA/THESIS/thesis/github/knowledge_hiearchy.ipynb:2"
     ]
    }
   ],
   "source": [
    "MARGE = 5 # TODO: dependent on how much noise detected \n",
    "PRED = predictions\n",
    "\n",
    "# TODO: moet van pairs zijn!!\n",
    "f_0 = Resonances.getFrequencyBand(PRED-MARGE, PRED+MARGE, Sine).resonances # with marge"
   ]
  }
 ],
 "metadata": {
  "kernelspec": {
   "display_name": "Julia 1.6.2",
   "language": "julia",
   "name": "julia-1.6"
  },
  "language_info": {
   "file_extension": ".jl",
   "mimetype": "application/julia",
   "name": "julia",
   "version": "1.6.2"
  },
  "orig_nbformat": 4
 },
 "nbformat": 4,
 "nbformat_minor": 2
}
