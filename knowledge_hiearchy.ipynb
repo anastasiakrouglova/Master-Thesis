{
 "cells": [
  {
   "cell_type": "code",
   "execution_count": 3,
   "metadata": {},
   "outputs": [
    {
     "data": {
      "text/plain": [
       "plotCluster (generic function with 1 method)"
      ]
     },
     "metadata": {},
     "output_type": "display_data"
    }
   ],
   "source": [
    "# Code written in Julia\n",
    "using Chakra #, Charm\n",
    "push!(LOAD_PATH, \"./resonance-knowledge/src/\") # TODO: load preprocessed data\n",
    "using Resonances\n",
    "push!(LOAD_PATH, \".\") # TODO: load preprocessed data\n",
    "using DataSource\n",
    "# include(\"./resonance-knowledge/src/Flute.jl\")\n",
    "include(\"./clustering.jl\")"
   ]
  },
  {
   "cell_type": "code",
   "execution_count": 21,
   "metadata": {},
   "outputs": [],
   "source": [
    "# Code written in Julia\n",
    "using PyCall # call python functions in julia\n",
    "using PyPlot\n",
    "using Conda"
   ]
  },
  {
   "cell_type": "code",
   "execution_count": null,
   "metadata": {},
   "outputs": [],
   "source": [
    "#pyimport(\"pyvis\")"
   ]
  },
  {
   "cell_type": "code",
   "execution_count": null,
   "metadata": {},
   "outputs": [],
   "source": [
    "# import python libraries\n",
    "from pyvis.network import Network\n",
    "\n",
    "\n",
    "#net = Network()"
   ]
  },
  {
   "cell_type": "code",
   "execution_count": 5,
   "metadata": {},
   "outputs": [
    {
     "data": {
      "text/plain": [
       "Resonances.DRSHierarchy(\u001b[1m68767×14 DataFrame\u001b[0m\n",
       "\u001b[1m   Row \u001b[0m│\u001b[1m onset \u001b[0m\u001b[1m duration \u001b[0m\u001b[1m sample_rate \u001b[0m\u001b[1m amplitude  \u001b[0m\u001b[1m phase     \u001b[0m\u001b[1m frequency  \u001b[0m\u001b[1m deca\u001b[0m ⋯\n",
       "\u001b[1m       \u001b[0m│\u001b[90m Int64 \u001b[0m\u001b[90m Int64    \u001b[0m\u001b[90m Int64       \u001b[0m\u001b[90m Float64    \u001b[0m\u001b[90m Float64   \u001b[0m\u001b[90m Float64    \u001b[0m\u001b[90m Floa\u001b[0m ⋯\n",
       "───────┼────────────────────────────────────────────────────────────────────────\n",
       "     1 │     0       250        44100  5.46462e-5  -1.75051    21010.4      -1 ⋯\n",
       "     2 │     0       250        44100  5.46462e-5   1.75051   -21010.4      -1\n",
       "     3 │     0       250        44100  5.72443e-5   1.94371    20877.5      -0\n",
       "     4 │     0       250        44100  5.72443e-5  -1.94371   -20877.5      -0\n",
       "     5 │     0       250        44100  3.93256e-5  -0.154051   17701.8     -11 ⋯\n",
       "     6 │     0       250        44100  3.93256e-5   0.154051  -17701.8     -11\n",
       "     7 │     0       250        44100  5.71008e-5  -0.977787    7035.41    -21\n",
       "     8 │     0       250        44100  5.71008e-5   0.977787   -7035.41    -21\n",
       "   ⋮   │   ⋮       ⋮           ⋮           ⋮           ⋮          ⋮            ⋱\n",
       " 68761 │ 94750        53        44100  0.0372581   -1.6848       872.666  -960 ⋯\n",
       " 68762 │ 94750        53        44100  0.0372581    1.6848      -872.666  -960\n",
       " 68763 │ 94750        53        44100  0.0179077   -2.9376       646.368  -958\n",
       " 68764 │ 94750        53        44100  0.0179077    2.9376      -646.368  -958\n",
       " 68765 │ 94750        53        44100  0.0108995   -2.11704      208.417  -943 ⋯\n",
       " 68766 │ 94750        53        44100  0.0108995    2.11704     -208.417  -943\n",
       " 68767 │ 94750        53        44100  0.0139409   -3.14159       -0.0    -938\n",
       "\u001b[36m                                                8 columns and 68752 rows omitted\u001b[0m)"
      ]
     },
     "metadata": {},
     "output_type": "display_data"
    }
   ],
   "source": [
    "# retrieve all the data\n",
    "DataSource.__data__"
   ]
  },
  {
   "cell_type": "code",
   "execution_count": 11,
   "metadata": {},
   "outputs": [
    {
     "data": {
      "text/plain": [
       "Resonances.DRSId(1)"
      ]
     },
     "metadata": {},
     "output_type": "display_data"
    }
   ],
   "source": [
    "# create drs object\n",
    "## inititialization resonance and slice id's\n",
    "res10 = DataSource.Resonances.resId(10)\n",
    "res20 = DataSource.Resonances.resId(20)\n",
    "res40 = DataSource.Resonances.resId(40)\n",
    "\n",
    "pair3 = DataSource.Resonances.pairId(3)\n",
    "pair2000 = DataSource.Resonances.pairId(2000)\n",
    "\n",
    "slice5 = DataSource.Resonances.sliceId(5)\n",
    "slice10 = DataSource.Resonances.sliceId(10)\n",
    "\n",
    "drs = DataSource.Resonances.drsId(1)"
   ]
  },
  {
   "cell_type": "code",
   "execution_count": 20,
   "metadata": {},
   "outputs": [],
   "source": [
    "# using CairoMakie\n",
    "# using GraphMakie\n",
    "# using Graphs\n",
    "\n",
    "# g = wheel_graph(10)\n",
    "# f, ax, p = graphplot(g)\n",
    "# hidedecorations!(ax); hidespines!(ax)\n",
    "# ax.aspect = DataAspect()\n",
    "\n",
    "# graphplot(g)"
   ]
  },
  {
   "cell_type": "code",
   "execution_count": 18,
   "metadata": {},
   "outputs": [
    {
     "data": {
      "text/plain": [
       "380-element Vector{Resonances.Id}:\n",
       " Resonances.SliceId(0)\n",
       " Resonances.SliceId(1)\n",
       " Resonances.SliceId(2)\n",
       " Resonances.SliceId(3)\n",
       " Resonances.SliceId(4)\n",
       " Resonances.SliceId(5)\n",
       " Resonances.SliceId(6)\n",
       " Resonances.SliceId(7)\n",
       " Resonances.SliceId(8)\n",
       " Resonances.SliceId(9)\n",
       " ⋮\n",
       " Resonances.SliceId(371)\n",
       " Resonances.SliceId(372)\n",
       " Resonances.SliceId(373)\n",
       " Resonances.SliceId(374)\n",
       " Resonances.SliceId(375)\n",
       " Resonances.SliceId(376)\n",
       " Resonances.SliceId(377)\n",
       " Resonances.SliceId(378)\n",
       " Resonances.SliceId(1787)"
      ]
     },
     "metadata": {},
     "output_type": "display_data"
    }
   ],
   "source": [
    "sliceIDs = pts(drs, DataSource)\n",
    "\n",
    "#typeof(sliceIDs)"
   ]
  },
  {
   "cell_type": "code",
   "execution_count": 12,
   "metadata": {},
   "outputs": [
    {
     "data": {
      "text/plain": [
       "53-element Vector{Resonances.Id}:\n",
       " Resonances.PairId(230)\n",
       " Resonances.PairId(231)\n",
       " Resonances.PairId(232)\n",
       " Resonances.PairId(233)\n",
       " Resonances.PairId(234)\n",
       " Resonances.PairId(235)\n",
       " Resonances.PairId(236)\n",
       " Resonances.PairId(237)\n",
       " Resonances.PairId(238)\n",
       " Resonances.PairId(239)\n",
       " ⋮\n",
       " Resonances.PairId(274)\n",
       " Resonances.PairId(275)\n",
       " Resonances.PairId(276)\n",
       " Resonances.PairId(277)\n",
       " Resonances.PairId(278)\n",
       " Resonances.PairId(279)\n",
       " Resonances.PairId(280)\n",
       " Resonances.PairId(281)\n",
       " Resonances.PairId(282)"
      ]
     },
     "metadata": {},
     "output_type": "display_data"
    }
   ],
   "source": [
    "pts(slice5, DataSource)"
   ]
  },
  {
   "cell_type": "code",
   "execution_count": 15,
   "metadata": {},
   "outputs": [
    {
     "data": {
      "text/plain": [
       "2-element Vector{Resonances.Id}:\n",
       " Resonances.ResonanceId(5)\n",
       " Resonances.ResonanceId(6)"
      ]
     },
     "metadata": {},
     "output_type": "display_data"
    }
   ],
   "source": [
    "pts(pair3, DataSource)"
   ]
  },
  {
   "cell_type": "code",
   "execution_count": 15,
   "metadata": {},
   "outputs": [
    {
     "ename": "ErrorException",
     "evalue": "type DRSHierarchy has no field Resonances",
     "output_type": "error",
     "traceback": [
      "type DRSHierarchy has no field Resonances\n",
      "\n",
      "Stacktrace:\n",
      " [1] getproperty(x::Resonances.DRSHierarchy, f::Symbol)\n",
      "   @ Base ./Base.jl:38\n",
      " [2] top-level scope\n",
      "   @ ~/Mirror/_MULTIMEDIA/THESIS/thesis/github/knowledge_hiearchy.ipynb:1"
     ]
    }
   ],
   "source": [
    "drs = __data__.Resonances.drsId(1)"
   ]
  },
  {
   "cell_type": "code",
   "execution_count": 10,
   "metadata": {},
   "outputs": [
    {
     "ename": "ErrorException",
     "evalue": "type DRSHierarchy has no field onset",
     "output_type": "error",
     "traceback": [
      "type DRSHierarchy has no field onset\n",
      "\n",
      "Stacktrace:\n",
      " [1] getproperty\n",
      "   @ ./Base.jl:38 [inlined]\n",
      " [2] remove_noise(data::Resonances.DRSHierarchy, min_power::Float64, max_frequency::Int64)\n",
      "   @ Main ~/Mirror/_MULTIMEDIA/THESIS/thesis/github/clustering.jl:7\n",
      " [3] findClusters(raw::Resonances.DRSHierarchy, ϵ::Float64, min_pts::Int64, min_power::Float64, max_frequency::Int64)\n",
      "   @ Main ~/Mirror/_MULTIMEDIA/THESIS/thesis/github/clustering.jl:23\n",
      " [4] top-level scope\n",
      "   @ ~/Mirror/_MULTIMEDIA/THESIS/thesis/github/knowledge_hiearchy.ipynb:2"
     ]
    }
   ],
   "source": [
    "# 1. Run julia code to add clusters to dataHierarchy\n",
    "df = findClusters(__data__, 0.5, 5, 0.001, 2000)"
   ]
  },
  {
   "cell_type": "code",
   "execution_count": null,
   "metadata": {},
   "outputs": [],
   "source": [
    "\n",
    "# 2. Take every cluster out as a resonance (classify)\n",
    "# 3. use machine learning for classifying it (eg f_0 is ground etc)"
   ]
  },
  {
   "cell_type": "code",
   "execution_count": 9,
   "metadata": {},
   "outputs": [
    {
     "ename": "UndefVarError",
     "evalue": "UndefVarError: PRED not defined",
     "output_type": "error",
     "traceback": [
      "UndefVarError: PRED not defined\n",
      "\n",
      "Stacktrace:\n",
      " [1] top-level scope\n",
      "   @ ~/Mirror/_MULTIMEDIA/THESIS/thesis/github/knowledge_hiearchy.ipynb:2"
     ]
    }
   ],
   "source": [
    "\n",
    "\n",
    "# create resonance groups for hierarchical structure\n",
    "#f_0 = Resonances.getFrequencyBand(PRED-MARGE, PRED+MARGE, Sine).resonances # with marge"
   ]
  },
  {
   "cell_type": "code",
   "execution_count": null,
   "metadata": {},
   "outputs": [],
   "source": [
    "MARGE = 5 # TODO: dependent on how much noise detected \n",
    "PRED = predictions\n",
    "\n",
    "# TODO: moet van pairs zijn!!\n",
    "f_0 = Resonances.getFrequencyBand(PRED-MARGE, PRED+MARGE, Sine).resonances # with marge"
   ]
  }
 ],
 "metadata": {
  "kernelspec": {
   "display_name": "Julia 1.8.5",
   "language": "julia",
   "name": "julia-1.8"
  },
  "language_info": {
   "file_extension": ".jl",
   "mimetype": "application/julia",
   "name": "julia",
   "version": "1.8.5"
  },
  "orig_nbformat": 4
 },
 "nbformat": 4,
 "nbformat_minor": 2
}
