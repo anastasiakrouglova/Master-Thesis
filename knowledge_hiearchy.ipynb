{
 "cells": [
  {
   "cell_type": "code",
   "execution_count": 1,
   "metadata": {},
   "outputs": [
    {
     "data": {
      "text/plain": [
       "Main.Sine"
      ]
     },
     "metadata": {},
     "output_type": "display_data"
    }
   ],
   "source": [
    "# Code written in Julia\n",
    "using Chakra #, Charm\n",
    "push!(LOAD_PATH, \"./resonance-knowledge/src/\") # TODO: load preprocessed data\n",
    "using Resonances\n",
    "include(\"./resonance-knowledge/src/Sine.jl\")"
   ]
  },
  {
   "cell_type": "code",
   "execution_count": null,
   "metadata": {},
   "outputs": [],
   "source": []
  },
  {
   "cell_type": "code",
   "execution_count": null,
   "metadata": {},
   "outputs": [],
   "source": [
    "MARGE = 5 # TODO: dependent on how much noise detected \n",
    "PRED = predictions\n",
    "\n",
    "# TODO: moet van pairs zijn!!\n",
    "f_0 = Resonances.getFrequencyBand(PRED-MARGE, PRED+MARGE, Sine).resonances # with marge"
   ]
  }
 ],
 "metadata": {
  "kernelspec": {
   "display_name": "Julia 1.8.5",
   "language": "julia",
   "name": "julia-1.8"
  },
  "language_info": {
   "file_extension": ".jl",
   "mimetype": "application/julia",
   "name": "julia",
   "version": "1.8.5"
  },
  "orig_nbformat": 4
 },
 "nbformat": 4,
 "nbformat_minor": 2
}
