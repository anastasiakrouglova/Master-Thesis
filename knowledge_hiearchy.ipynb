{
 "cells": [
  {
   "cell_type": "code",
   "execution_count": 2,
   "metadata": {},
   "outputs": [],
   "source": [
    "# Code written in Julia\n",
    "using Chakra #, Charm\n",
    "push!(LOAD_PATH, \"./resonance-knowledge/src/\") # TODO: load preprocessed data\n",
    "using Resonances \n",
    "push!(LOAD_PATH, \".\") # TODO: load preprocessed data\n",
    "using DataSource\n",
    "# # include(\"./resonance-knowledge/src/Flute.jl\")\n",
    "# include(\"./clustering.jl\")\n",
    "\n",
    "# Code written in Julia\n",
    "using PyCall # call python functions in julia\n",
    "using Conda"
   ]
  },
  {
   "cell_type": "code",
   "execution_count": 3,
   "metadata": {},
   "outputs": [
    {
     "data": {
      "text/plain": [
       "58-element Vector{Resonances.Id}:\n",
       " Resonances.PairId(338)\n",
       " Resonances.PairId(339)\n",
       " Resonances.PairId(340)\n",
       " Resonances.PairId(341)\n",
       " Resonances.PairId(342)\n",
       " Resonances.PairId(343)\n",
       " Resonances.PairId(344)\n",
       " Resonances.PairId(345)\n",
       " Resonances.PairId(346)\n",
       " Resonances.PairId(347)\n",
       " ⋮\n",
       " Resonances.PairId(387)\n",
       " Resonances.PairId(388)\n",
       " Resonances.PairId(389)\n",
       " Resonances.PairId(390)\n",
       " Resonances.PairId(391)\n",
       " Resonances.PairId(392)\n",
       " Resonances.PairId(393)\n",
       " Resonances.PairId(394)\n",
       " Resonances.PairId(395)"
      ]
     },
     "metadata": {},
     "output_type": "display_data"
    }
   ],
   "source": [
    "drs = DataSource.Resonances.drsId(1)\n",
    "sliceIds = pts(drs, DataSource) # vector of slice Id's\n",
    "\n",
    "resonanceIds1 = pts(sliceIds[8], DataSource)\n",
    "\n",
    "#fnd(sliceIds[1], DataSource)\n",
    "#sliceIds[8].resonances.pairId\n"
   ]
  },
  {
   "cell_type": "code",
   "execution_count": 4,
   "metadata": {},
   "outputs": [
    {
     "data": {
      "text/plain": [
       "184-element Vector{Resonances.Id}:\n",
       " Resonances.ResonanceId(124)\n",
       " Resonances.ResonanceId(128)\n",
       " Resonances.ResonanceId(186)\n",
       " Resonances.ResonanceId(190)\n",
       " Resonances.ResonanceId(194)\n",
       " Resonances.ResonanceId(199)\n",
       " Resonances.ResonanceId(202)\n",
       " Resonances.ResonanceId(206)\n",
       " Resonances.ResonanceId(210)\n",
       " Resonances.ResonanceId(212)\n",
       " ⋮\n",
       " Resonances.ResonanceId(1102)\n",
       " Resonances.ResonanceId(1104)\n",
       " Resonances.ResonanceId(1108)\n",
       " Resonances.ResonanceId(1112)\n",
       " Resonances.ResonanceId(1115)\n",
       " Resonances.ResonanceId(1118)\n",
       " Resonances.ResonanceId(1122)\n",
       " Resonances.ResonanceId(1157)\n",
       " Resonances.ResonanceId(1158)"
      ]
     },
     "metadata": {},
     "output_type": "display_data"
    }
   ],
   "source": [
    "# works only with data that contains that label\n",
    "dynRes1 = DataSource.Resonances.dynamicResId(1)\n",
    "dynRes2 = DataSource.Resonances.dynamicResId(2)\n",
    "dynRes3 = DataSource.Resonances.dynamicResId(3)\n",
    "dynRes4 = DataSource.Resonances.dynamicResId(4)\n",
    "dynRes5 = DataSource.Resonances.dynamicResId(5)\n",
    "dynRes0 = DataSource.Resonances.dynamicResId(0)\n",
    "# pair = DataSource.Resonances.pairId(2)\n",
    "\n",
    "# all clusters are extractable, noise ignored (-1)\n",
    "a = pts(dynRes1, DataSource) \n",
    "b = pts(dynRes2, DataSource) \n",
    "c = pts(dynRes3, DataSource) \n",
    "d =  pts(dynRes4, DataSource) \n",
    "# e =  pts(dynRes5, DataSource) "
   ]
  },
  {
   "cell_type": "code",
   "execution_count": 7,
   "metadata": {},
   "outputs": [],
   "source": [
    "# pair = DataSource.Resonances.pairId(2)\n",
    "# fnd(pair, DataSource)"
   ]
  },
  {
   "attachments": {},
   "cell_type": "markdown",
   "metadata": {},
   "source": [
    "# Graph"
   ]
  },
  {
   "cell_type": "code",
   "execution_count": 15,
   "metadata": {},
   "outputs": [
    {
     "data": {
      "text/plain": [
       "380-element Vector{Vector{T} where T}:\n",
       " [\"PairId(1)\", \"PairId(2)\", \"PairId(3)\", \"PairId(4)\", \"PairId(5)\", \"PairId(6)\", \"PairId(7)\", \"PairId(8)\", \"PairId(9)\", \"PairId(10)\"  …  \"PairId(35)\", \"PairId(36)\", \"PairId(37)\", \"PairId(38)\", \"PairId(39)\", \"PairId(40)\", \"PairId(41)\", \"PairId(42)\", \"PairId(43)\", \"PairId(44)\"]\n",
       " [\"PairId(45)\", \"PairId(46)\", \"PairId(47)\", \"PairId(48)\", \"PairId(49)\", \"PairId(50)\", \"PairId(51)\", \"PairId(52)\", \"PairId(53)\", \"PairId(54)\"  …  \"PairId(79)\", \"PairId(80)\", \"PairId(81)\", \"PairId(82)\", \"PairId(83)\", \"PairId(84)\", \"PairId(85)\", \"PairId(86)\", \"PairId(87)\", \"PairId(88)\"]\n",
       " [\"PairId(88)\", \"PairId(89)\", \"PairId(90)\", \"PairId(91)\", \"PairId(92)\", \"PairId(93)\", \"PairId(94)\", \"PairId(95)\", \"PairId(96)\", \"PairId(97)\"  …  \"PairId(119)\", \"PairId(120)\", \"PairId(121)\", \"PairId(122)\", \"PairId(123)\", \"PairId(124)\", \"PairId(125)\", \"PairId(126)\", \"PairId(127)\", \"PairId(128)\"]\n",
       " [\"PairId(129)\", \"PairId(130)\", \"PairId(131)\", \"PairId(132)\", \"PairId(133)\", \"PairId(134)\", \"PairId(135)\", \"PairId(136)\", \"PairId(137)\", \"PairId(138)\"  …  \"PairId(166)\", \"PairId(167)\", \"PairId(168)\", \"PairId(169)\", \"PairId(170)\", \"PairId(171)\", \"PairId(172)\", \"PairId(173)\", \"PairId(174)\", \"PairId(175)\"]\n",
       " [\"PairId(175)\", \"PairId(176)\", \"PairId(177)\", \"PairId(178)\", \"PairId(179)\", \"PairId(180)\", \"PairId(181)\", \"PairId(182)\", \"PairId(183)\", \"PairId(184)\"  …  \"PairId(220)\", \"PairId(221)\", \"PairId(222)\", \"PairId(223)\", \"PairId(224)\", \"PairId(225)\", \"PairId(226)\", \"PairId(227)\", \"PairId(228)\", \"PairId(229)\"]\n",
       " [\"PairId(230)\", \"PairId(231)\", \"PairId(232)\", \"PairId(233)\", \"PairId(234)\", \"PairId(235)\", \"PairId(236)\", \"PairId(237)\", \"PairId(238)\", \"PairId(239)\"  …  \"PairId(273)\", \"PairId(274)\", \"PairId(275)\", \"PairId(276)\", \"PairId(277)\", \"PairId(278)\", \"PairId(279)\", \"PairId(280)\", \"PairId(281)\", \"PairId(282)\"]\n",
       " [\"PairId(282)\", \"PairId(283)\", \"PairId(284)\", \"PairId(285)\", \"PairId(286)\", \"PairId(287)\", \"PairId(288)\", \"PairId(289)\", \"PairId(290)\", \"PairId(291)\"  …  \"PairId(328)\", \"PairId(329)\", \"PairId(330)\", \"PairId(331)\", \"PairId(332)\", \"PairId(333)\", \"PairId(334)\", \"PairId(335)\", \"PairId(336)\", \"PairId(337)\"]\n",
       " [\"PairId(338)\", \"PairId(339)\", \"PairId(340)\", \"PairId(341)\", \"PairId(342)\", \"PairId(343)\", \"PairId(344)\", \"PairId(345)\", \"PairId(346)\", \"PairId(347)\"  …  \"PairId(386)\", \"PairId(387)\", \"PairId(388)\", \"PairId(389)\", \"PairId(390)\", \"PairId(391)\", \"PairId(392)\", \"PairId(393)\", \"PairId(394)\", \"PairId(395)\"]\n",
       " [\"PairId(395)\", \"PairId(396)\", \"PairId(397)\", \"PairId(398)\", \"PairId(399)\", \"PairId(400)\", \"PairId(401)\", \"PairId(402)\", \"PairId(403)\", \"PairId(404)\"  …  \"PairId(444)\", \"PairId(445)\", \"PairId(446)\", \"PairId(447)\", \"PairId(448)\", \"PairId(449)\", \"PairId(450)\", \"PairId(451)\", \"PairId(452)\", \"PairId(453)\"]\n",
       " [\"PairId(453)\", \"PairId(454)\", \"PairId(455)\", \"PairId(456)\", \"PairId(457)\", \"PairId(458)\", \"PairId(459)\", \"PairId(460)\", \"PairId(461)\", \"PairId(462)\"  …  \"PairId(511)\", \"PairId(512)\", \"PairId(513)\", \"PairId(514)\", \"PairId(515)\", \"PairId(516)\", \"PairId(517)\", \"PairId(518)\", \"PairId(519)\", \"PairId(520)\"]\n",
       " ⋮\n",
       " [\"PairId(34047)\", \"PairId(34048)\", \"PairId(34049)\", \"PairId(34050)\", \"PairId(34051)\", \"PairId(34052)\", \"PairId(34053)\", \"PairId(34054)\", \"PairId(34055)\", \"PairId(34056)\"  …  \"PairId(34071)\", \"PairId(34072)\", \"PairId(34073)\", \"PairId(34074)\", \"PairId(34075)\", \"PairId(34076)\", \"PairId(34077)\", \"PairId(34078)\", \"PairId(34079)\", \"PairId(34080)\"]\n",
       " [\"PairId(34080)\", \"PairId(34081)\", \"PairId(34082)\", \"PairId(34083)\", \"PairId(34084)\", \"PairId(34085)\", \"PairId(34086)\", \"PairId(34087)\", \"PairId(34088)\", \"PairId(34089)\"  …  \"PairId(34102)\", \"PairId(34103)\", \"PairId(34104)\", \"PairId(34105)\", \"PairId(34106)\", \"PairId(34107)\", \"PairId(34108)\", \"PairId(34109)\", \"PairId(34110)\", \"PairId(34111)\"]\n",
       " [\"PairId(34111)\", \"PairId(34112)\", \"PairId(34113)\", \"PairId(34114)\", \"PairId(34115)\", \"PairId(34116)\", \"PairId(34117)\", \"PairId(34118)\", \"PairId(34119)\", \"PairId(34120)\"  …  \"PairId(34131)\", \"PairId(34132)\", \"PairId(34133)\", \"PairId(34134)\", \"PairId(34135)\", \"PairId(34136)\", \"PairId(34137)\", \"PairId(34138)\", \"PairId(34139)\", \"PairId(34140)\"]\n",
       " [\"PairId(34141)\", \"PairId(34142)\", \"PairId(34143)\", \"PairId(34144)\", \"PairId(34145)\", \"PairId(34146)\", \"PairId(34147)\", \"PairId(34148)\", \"PairId(34149)\", \"PairId(34150)\"  …  \"PairId(34163)\", \"PairId(34164)\", \"PairId(34165)\", \"PairId(34166)\", \"PairId(34167)\", \"PairId(34168)\", \"PairId(34169)\", \"PairId(34170)\", \"PairId(34171)\", \"PairId(34172)\"]\n",
       " [\"PairId(34173)\", \"PairId(34174)\", \"PairId(34175)\", \"PairId(34176)\", \"PairId(34177)\", \"PairId(34178)\", \"PairId(34179)\", \"PairId(34180)\", \"PairId(34181)\", \"PairId(34182)\"  …  \"PairId(34193)\", \"PairId(34194)\", \"PairId(34195)\", \"PairId(34196)\", \"PairId(34197)\", \"PairId(34198)\", \"PairId(34199)\", \"PairId(34200)\", \"PairId(34201)\", \"PairId(34202)\"]\n",
       " [\"PairId(34203)\", \"PairId(34204)\", \"PairId(34205)\", \"PairId(34206)\", \"PairId(34207)\", \"PairId(34208)\", \"PairId(34209)\", \"PairId(34210)\", \"PairId(34211)\", \"PairId(34212)\"  …  \"PairId(34228)\", \"PairId(34229)\", \"PairId(34230)\", \"PairId(34231)\", \"PairId(34232)\", \"PairId(34233)\", \"PairId(34234)\", \"PairId(34235)\", \"PairId(34236)\", \"PairId(34237)\"]\n",
       " [\"PairId(34237)\", \"PairId(34238)\", \"PairId(34239)\", \"PairId(34240)\", \"PairId(34241)\", \"PairId(34242)\", \"PairId(34243)\", \"PairId(34244)\", \"PairId(34245)\", \"PairId(34246)\"  …  \"PairId(34255)\", \"PairId(34256)\", \"PairId(34257)\", \"PairId(34258)\", \"PairId(34259)\", \"PairId(34260)\", \"PairId(34261)\", \"PairId(34262)\", \"PairId(34263)\", \"PairId(34264)\"]\n",
       " [\"PairId(34264)\", \"PairId(34265)\", \"PairId(34266)\", \"PairId(34267)\", \"PairId(34268)\", \"PairId(34269)\", \"PairId(34270)\", \"PairId(34271)\", \"PairId(34272)\", \"PairId(34273)\"  …  \"PairId(34286)\", \"PairId(34287)\", \"PairId(34288)\", \"PairId(34289)\", \"PairId(34290)\", \"PairId(34291)\", \"PairId(34292)\", \"PairId(34293)\", \"PairId(34294)\", \"PairId(34295)\"]\n",
       " [\"PairId(34296)\", \"PairId(34297)\", \"PairId(34298)\", \"PairId(34299)\", \"PairId(34300)\", \"PairId(34301)\", \"PairId(34302)\", \"PairId(34303)\", \"PairId(34304)\", \"PairId(34305)\"  …  \"PairId(34375)\", \"PairId(34376)\", \"PairId(34377)\", \"PairId(34378)\", \"PairId(34379)\", \"PairId(34380)\", \"PairId(34381)\", \"PairId(34382)\", \"PairId(34383)\", \"PairId(34384)\"]"
      ]
     },
     "metadata": {},
     "output_type": "display_data"
    }
   ],
   "source": [
    "# Remove the class of resonances for the labeling\n",
    "# convert id to string\n",
    "t = repr(\"text/plain\", drs)\n",
    "r = r\"Resonances.\"\n",
    "drs_s = replace(t,r => \"\")\n",
    "# drs_s = drs_s * \"[0]\"\n",
    "\n",
    "drs_vec = Vector{String}()\n",
    "push!(drs_vec,drs_s)\n",
    "\n",
    "drs_vec\n",
    "#############################################################\n",
    "\n",
    "sliceIds_vec = map(slice -> \n",
    "    begin\n",
    "        t = repr(\"text/plain\", slice)\n",
    "        r = r\"Resonances.\"\n",
    "        slice = replace(t,r => \"\")\n",
    "        # slice = slice * \"[1]\"\n",
    "        \n",
    "    end, sliceIds)\n",
    "\n",
    "sliceIds_vec\n",
    "\n",
    "#############################################################\n",
    "\n",
    "# PairIds are actually just resonance id's since complex is negociated\n",
    "# TODO: rename it to id's and make just function for it \n",
    "PairIds = Vector{Vector}()\n",
    "\n",
    "for i in 1:length(sliceIds)\n",
    "    PairIdsi = pts(sliceIds[i], DataSource)\n",
    "    PairIdsi_vec =  map(pair -> \n",
    "    begin\n",
    "        t = repr(\"text/plain\", pair)\n",
    "        r = r\"Resonances.\"\n",
    "        pair = replace(t,r => \"\")\n",
    "        # pair = pair * \"[2]\"\n",
    "    end, PairIdsi)\n",
    "\n",
    "    push!(PairIds, PairIdsi_vec)\n",
    "\n",
    "    # append the vector\n",
    "end\n",
    "\n",
    "PairIds\n"
   ]
  },
  {
   "cell_type": "code",
   "execution_count": 25,
   "metadata": {},
   "outputs": [
    {
     "data": {
      "text/plain": [
       "10"
      ]
     },
     "metadata": {},
     "output_type": "display_data"
    }
   ],
   "source": [
    "# g = net.network.Network(notebook=true, cdn_resources=\"remote\")\n",
    "\n",
    "# g.add_nodes(drs_vec, color=[\"#00ff1e\"])\n",
    "# g.add_nodes(sliceIds_vec)\n",
    "\n",
    "# # add adges between drs and sliceIds\n",
    "# for i in 1:length(sliceIds_vec)\n",
    "#     g.add_edge(drs_vec[1], sliceIds_vec[i])\n",
    "# end\n",
    "\n",
    "# g.show(\"aa.html\") "
   ]
  },
  {
   "cell_type": "code",
   "execution_count": 33,
   "metadata": {},
   "outputs": [
    {
     "data": {
      "text/plain": [
       "\"nodes.csv\""
      ]
     },
     "metadata": {},
     "output_type": "display_data"
    }
   ],
   "source": [
    "# Create csv with nodes for export to Gephi\n",
    "\n",
    "# NODELIST\n",
    "\n",
    "using DataFrames, CSV\n",
    "\n",
    "k = DataFrame(Id=drs_vec[1], Level=3)\n",
    "\n",
    "for i in 1:length(sliceIds_vec)\n",
    "    push!(k, (sliceIds_vec[i], 2))\n",
    "    for j in 1:length(PairIds[i][:])\n",
    "       push!(k, (PairIds[i][j], 1))\n",
    "    end\n",
    "end\n",
    "#push!(k, (PairIds, 1))\n",
    "\n",
    "\n",
    "# for i in 1:length(sliceIds_vec)\n",
    "#     for j in 1:length(PairIds[i][:])\n",
    "#         push!(k, (sliceIds_vec[i], PairIds[i][j]))\n",
    "#     end\n",
    "# end\n",
    "# g.add_edge(drs_vec[1], sliceIds_vec[i])\n",
    "\n",
    "CSV.write(\"nodes.csv\", k)\n"
   ]
  },
  {
   "cell_type": "code",
   "execution_count": 31,
   "metadata": {},
   "outputs": [
    {
     "data": {
      "text/plain": [
       "\"./edges.csv\""
      ]
     },
     "metadata": {},
     "output_type": "display_data"
    }
   ],
   "source": [
    "# Create csv with nodes for export to Gephi\n",
    "\n",
    "\n",
    "k = DataFrame(Source=drs_vec[1], Target=sliceIds_vec)\n",
    "\n",
    "for i in 1:length(sliceIds_vec)\n",
    "    for j in 1:length(PairIds[i][:])\n",
    "        push!(k, (sliceIds_vec[i], PairIds[i][j]))\n",
    "    end\n",
    "end\n",
    "# g.add_edge(drs_vec[1], sliceIds_vec[i])\n",
    "\n",
    "CSV.write(\"./edges.csv\", k)"
   ]
  },
  {
   "cell_type": "code",
   "execution_count": 6,
   "metadata": {},
   "outputs": [],
   "source": [
    "# problem: too much data, no good graph representation\n",
    "# only use filtered data for representation\n",
    "net = pyimport(\"pyvis\")\n",
    "# nx = pyimport(\"networkx\")\n",
    "g = net.network.Network(notebook=true, cdn_resources=\"remote\", bgcolor=\"#ffffff\", font_color=\"white\")\n",
    "\n",
    "# 1. Add weigths to nodes\n",
    "\n",
    "#g.add_nodes(drs_vec, color=[\"#00ff1e\"], group=[1], mass=[1] )\n",
    "g.add_node(drs_vec[1], color=\"#0000A6\", size=12, level=1, x=0, y=0)\n",
    "\n",
    "# add edges between drs and sliceIds\n",
    "for i in 1:length(sliceIds_vec)\n",
    "\n",
    "    g.add_node(sliceIds_vec[i], color=\"#00CC96\", size=10, level=2, y=100)\n",
    "    g.add_edge(drs_vec[1], sliceIds_vec[i])\n",
    "    \n",
    "    for j in 1:length(PairIds[i][:])\n",
    "        g.add_node(PairIds[i][j], color=\"#AB63FA\", size=8, level=3, y=1000)\n",
    "        g.add_edge(sliceIds_vec[i], PairIds[i][j])\n",
    "    end\n",
    "\n",
    "    # for j in 1:length(PairIds[i])\n",
    "    #             # print(i)\n",
    "    #     g.add_edge(sliceIds_vec[i], PairIds[i][j])\n",
    "    # end\n",
    "\n",
    "    # g.add_edge(drs_vec[1], sliceIds_vec[i])\n",
    "end\n",
    "\n",
    "# for j in 1:length(sliceIds_vec)\n",
    "#     # println(j)\n",
    "#     g.add_nodes(PairIds[j][:])\n",
    "#     for i in 1:length(PairIds[j])\n",
    "#         # print(i)\n",
    "#         g.add_edge(sliceIds_vec[j], PairIds[j][i])\n",
    "#     end\n",
    "# end\n",
    "\n",
    "\n",
    "# save html\n",
    "# g.show_buttons()\n",
    "g.toggle_physics(false) # if false, faster rendering, just wrong placement/clustering\n",
    "g.show(\"bb.html\") "
   ]
  },
  {
   "cell_type": "code",
   "execution_count": 11,
   "metadata": {},
   "outputs": [
    {
     "data": {
      "text/html": [
       "\n",
       "        <iframe\n",
       "            width=\"100%\"\n",
       "            height=\"600px\"\n",
       "            src=\"aaa.html\"\n",
       "            frameborder=\"0\"\n",
       "            allowfullscreen\n",
       "            \n",
       "        ></iframe>\n",
       "        "
      ],
      "text/plain": [
       "PyObject <IPython.lib.display.IFrame object at 0x7f9f69f77c10>"
      ]
     },
     "metadata": {},
     "output_type": "display_data"
    }
   ],
   "source": [
    "g.show(\"aaa.html\") "
   ]
  },
  {
   "cell_type": "code",
   "execution_count": 12,
   "metadata": {},
   "outputs": [],
   "source": []
  },
  {
   "cell_type": "code",
   "execution_count": 13,
   "metadata": {},
   "outputs": [
    {
     "data": {
      "text/plain": [
       "Resonances.DRSHierarchy(\u001b[1m68767×14 DataFrame\u001b[0m\n",
       "\u001b[1m   Row \u001b[0m│\u001b[1m onset \u001b[0m\u001b[1m duration \u001b[0m\u001b[1m sample_rate \u001b[0m\u001b[1m amplitude  \u001b[0m\u001b[1m phase     \u001b[0m\u001b[1m frequency  \u001b[0m\u001b[1m deca\u001b[0m ⋯\n",
       "\u001b[1m       \u001b[0m│\u001b[90m Int64 \u001b[0m\u001b[90m Int64    \u001b[0m\u001b[90m Int64       \u001b[0m\u001b[90m Float64    \u001b[0m\u001b[90m Float64   \u001b[0m\u001b[90m Float64    \u001b[0m\u001b[90m Floa\u001b[0m ⋯\n",
       "───────┼────────────────────────────────────────────────────────────────────────\n",
       "     1 │     0       250        44100  5.46462e-5  -1.75051    21010.4      -1 ⋯\n",
       "     2 │     0       250        44100  5.46462e-5   1.75051   -21010.4      -1\n",
       "     3 │     0       250        44100  5.72443e-5   1.94371    20877.5      -0\n",
       "     4 │     0       250        44100  5.72443e-5  -1.94371   -20877.5      -0\n",
       "     5 │     0       250        44100  3.93256e-5  -0.154051   17701.8     -11 ⋯\n",
       "     6 │     0       250        44100  3.93256e-5   0.154051  -17701.8     -11\n",
       "     7 │     0       250        44100  5.71008e-5  -0.977787    7035.41    -21\n",
       "     8 │     0       250        44100  5.71008e-5   0.977787   -7035.41    -21\n",
       "   ⋮   │   ⋮       ⋮           ⋮           ⋮           ⋮          ⋮            ⋱\n",
       " 68761 │ 94750        53        44100  0.0372581   -1.6848       872.666  -960 ⋯\n",
       " 68762 │ 94750        53        44100  0.0372581    1.6848      -872.666  -960\n",
       " 68763 │ 94750        53        44100  0.0179077   -2.9376       646.368  -958\n",
       " 68764 │ 94750        53        44100  0.0179077    2.9376      -646.368  -958\n",
       " 68765 │ 94750        53        44100  0.0108995   -2.11704      208.417  -943 ⋯\n",
       " 68766 │ 94750        53        44100  0.0108995    2.11704     -208.417  -943\n",
       " 68767 │ 94750        53        44100  0.0139409   -3.14159       -0.0    -938\n",
       "\u001b[36m                                                8 columns and 68752 rows omitted\u001b[0m)"
      ]
     },
     "metadata": {},
     "output_type": "display_data"
    }
   ],
   "source": [
    "# retrieve all the data\n",
    "DataSource.__data__"
   ]
  },
  {
   "cell_type": "code",
   "execution_count": 14,
   "metadata": {},
   "outputs": [
    {
     "data": {
      "text/plain": [
       "Resonances.DRSId(1)"
      ]
     },
     "metadata": {},
     "output_type": "display_data"
    }
   ],
   "source": [
    "# create drs object\n",
    "## inititialization resonance and slice id's\n",
    "res10 = DataSource.Resonances.resId(10)\n",
    "res20 = DataSource.Resonances.resId(20)\n",
    "res40 = DataSource.Resonances.resId(40)\n",
    "\n",
    "pair3 = DataSource.Resonances.pairId(3)\n",
    "pair2000 = DataSource.Resonances.pairId(2000)\n",
    "\n",
    "slice5 = DataSource.Resonances.sliceId(5)\n",
    "slice10 = DataSource.Resonances.sliceId(10)\n",
    "\n",
    "drs = DataSource.Resonances.drsId(1)"
   ]
  },
  {
   "cell_type": "code",
   "execution_count": 15,
   "metadata": {},
   "outputs": [],
   "source": [
    "# using CairoMakie\n",
    "# using GraphMakie\n",
    "# using Graphs\n",
    "\n",
    "# g = wheel_graph(10)\n",
    "# f, ax, p = graphplot(g)\n",
    "# hidedecorations!(ax); hidespines!(ax)\n",
    "# ax.aspect = DataAspect()\n",
    "\n",
    "# graphplot(g)"
   ]
  },
  {
   "cell_type": "code",
   "execution_count": 16,
   "metadata": {},
   "outputs": [
    {
     "data": {
      "text/plain": [
       "380-element Vector{Resonances.Id}:\n",
       " Resonances.SliceId(0)\n",
       " Resonances.SliceId(1)\n",
       " Resonances.SliceId(2)\n",
       " Resonances.SliceId(3)\n",
       " Resonances.SliceId(4)\n",
       " Resonances.SliceId(5)\n",
       " Resonances.SliceId(6)\n",
       " Resonances.SliceId(7)\n",
       " Resonances.SliceId(8)\n",
       " Resonances.SliceId(9)\n",
       " ⋮\n",
       " Resonances.SliceId(371)\n",
       " Resonances.SliceId(372)\n",
       " Resonances.SliceId(373)\n",
       " Resonances.SliceId(374)\n",
       " Resonances.SliceId(375)\n",
       " Resonances.SliceId(376)\n",
       " Resonances.SliceId(377)\n",
       " Resonances.SliceId(378)\n",
       " Resonances.SliceId(1787)"
      ]
     },
     "metadata": {},
     "output_type": "display_data"
    }
   ],
   "source": [
    "sliceIDs = pts(drs, DataSource)\n",
    "\n",
    "#typeof(sliceIDs)"
   ]
  },
  {
   "cell_type": "code",
   "execution_count": 17,
   "metadata": {},
   "outputs": [
    {
     "data": {
      "text/plain": [
       "53-element Vector{Resonances.Id}:\n",
       " Resonances.PairId(230)\n",
       " Resonances.PairId(231)\n",
       " Resonances.PairId(232)\n",
       " Resonances.PairId(233)\n",
       " Resonances.PairId(234)\n",
       " Resonances.PairId(235)\n",
       " Resonances.PairId(236)\n",
       " Resonances.PairId(237)\n",
       " Resonances.PairId(238)\n",
       " Resonances.PairId(239)\n",
       " ⋮\n",
       " Resonances.PairId(274)\n",
       " Resonances.PairId(275)\n",
       " Resonances.PairId(276)\n",
       " Resonances.PairId(277)\n",
       " Resonances.PairId(278)\n",
       " Resonances.PairId(279)\n",
       " Resonances.PairId(280)\n",
       " Resonances.PairId(281)\n",
       " Resonances.PairId(282)"
      ]
     },
     "metadata": {},
     "output_type": "display_data"
    }
   ],
   "source": [
    "pts(slice5, DataSource)"
   ]
  },
  {
   "cell_type": "code",
   "execution_count": 18,
   "metadata": {},
   "outputs": [
    {
     "data": {
      "text/plain": [
       "2-element Vector{Resonances.Id}:\n",
       " Resonances.ResonanceId(5)\n",
       " Resonances.ResonanceId(6)"
      ]
     },
     "metadata": {},
     "output_type": "display_data"
    }
   ],
   "source": [
    "pts(pair3, DataSource)"
   ]
  },
  {
   "cell_type": "code",
   "execution_count": 19,
   "metadata": {},
   "outputs": [
    {
     "ename": "UndefVarError",
     "evalue": "UndefVarError: __data__ not defined",
     "output_type": "error",
     "traceback": [
      "UndefVarError: __data__ not defined\n",
      "\n",
      "Stacktrace:\n",
      " [1] top-level scope\n",
      "   @ ~/Mirror/_MULTIMEDIA/THESIS/thesis/github/knowledge_hiearchy.ipynb:1"
     ]
    }
   ],
   "source": [
    "drs = __data__.Resonances.drsId(1)"
   ]
  },
  {
   "cell_type": "code",
   "execution_count": 20,
   "metadata": {},
   "outputs": [
    {
     "ename": "UndefVarError",
     "evalue": "UndefVarError: __data__ not defined",
     "output_type": "error",
     "traceback": [
      "UndefVarError: __data__ not defined\n",
      "\n",
      "Stacktrace:\n",
      " [1] top-level scope\n",
      "   @ ~/Mirror/_MULTIMEDIA/THESIS/thesis/github/knowledge_hiearchy.ipynb:2"
     ]
    }
   ],
   "source": [
    "# 1. Run julia code to add clusters to dataHierarchy\n",
    "df = findClusters(__data__, 0.5, 5, 0.001, 2000)"
   ]
  },
  {
   "cell_type": "code",
   "execution_count": 21,
   "metadata": {},
   "outputs": [],
   "source": [
    "\n",
    "# 2. Take every cluster out as a resonance (classify)\n",
    "# 3. use machine learning for classifying it (eg f_0 is ground etc)"
   ]
  },
  {
   "cell_type": "code",
   "execution_count": 22,
   "metadata": {},
   "outputs": [],
   "source": [
    "\n",
    "\n",
    "# create resonance groups for hierarchical structure\n",
    "#f_0 = Resonances.getFrequencyBand(PRED-MARGE, PRED+MARGE, Sine).resonances # with marge"
   ]
  },
  {
   "cell_type": "code",
   "execution_count": 23,
   "metadata": {},
   "outputs": [
    {
     "ename": "UndefVarError",
     "evalue": "UndefVarError: predictions not defined",
     "output_type": "error",
     "traceback": [
      "UndefVarError: predictions not defined\n",
      "\n",
      "Stacktrace:\n",
      " [1] top-level scope\n",
      "   @ ~/Mirror/_MULTIMEDIA/THESIS/thesis/github/knowledge_hiearchy.ipynb:2"
     ]
    }
   ],
   "source": [
    "MARGE = 5 # TODO: dependent on how much noise detected \n",
    "PRED = predictions\n",
    "\n",
    "# TODO: moet van pairs zijn!!\n",
    "f_0 = Resonances.getFrequencyBand(PRED-MARGE, PRED+MARGE, Sine).resonances # with marge"
   ]
  }
 ],
 "metadata": {
  "kernelspec": {
   "display_name": "Julia 1.6.2",
   "language": "julia",
   "name": "julia-1.6"
  },
  "language_info": {
   "file_extension": ".jl",
   "mimetype": "application/julia",
   "name": "julia",
   "version": "1.6.2"
  },
  "orig_nbformat": 4
 },
 "nbformat": 4,
 "nbformat_minor": 2
}
