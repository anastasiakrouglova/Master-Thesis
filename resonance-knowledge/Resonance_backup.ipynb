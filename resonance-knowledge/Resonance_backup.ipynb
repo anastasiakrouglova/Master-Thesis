{
 "cells": [
  {
   "cell_type": "code",
   "execution_count": 1,
   "id": "ce277a8c",
   "metadata": {},
   "outputs": [
    {
     "data": {
      "text/plain": [
       "Main.Flute"
      ]
     },
     "metadata": {},
     "output_type": "display_data"
    }
   ],
   "source": [
    "#Pkg.instantiate()\n",
    "using Chakra #, Charm\n",
    "push!(LOAD_PATH, \"./src/\")\n",
    "using Resonances\n",
    "include(\"./src/Flute.jl\")\n",
    "\n",
    "# Chakra.isdatasource(Flute)\n",
    "# typeof(Flute)"
   ]
  },
  {
   "cell_type": "code",
   "execution_count": 9,
   "id": "aed22180",
   "metadata": {},
   "outputs": [
    {
     "data": {
      "text/plain": [
       "Resonances.SliceId(10)"
      ]
     },
     "metadata": {},
     "output_type": "display_data"
    }
   ],
   "source": [
    "## inititialization resonance and slice id's\n",
    "x = Flute.Resonances.resId(10)\n",
    "y = Flute.Resonances.resId(20)\n",
    "s = Flute.Resonances.resId(40)\n",
    "\n",
    "z = Flute.Resonances.sliceId(5)\n",
    "w = Flute.Resonances.sliceId(10)"
   ]
  },
  {
   "cell_type": "code",
   "execution_count": 7,
   "id": "3b6a808b",
   "metadata": {},
   "outputs": [
    {
     "data": {
      "text/plain": [
       "Chakra.None()"
      ]
     },
     "metadata": {},
     "output_type": "display_data"
    }
   ],
   "source": [
    "## find resonance(s) by ID\n",
    "\n",
    "Resonances.findResonanceById(x, Flute) # find 1 resonance\n",
    "#Resonances.findResonancesByIds([x, y, s], Flute)   # find multiple resonances"
   ]
  },
  {
   "cell_type": "code",
   "execution_count": 8,
   "id": "3ee08896",
   "metadata": {},
   "outputs": [
    {
     "data": {
      "text/plain": [
       "Resonances.Slice(Resonances.SliceId(5), \u001b[1m256×11 DataFrame\u001b[0m\n",
       "\u001b[1m Row \u001b[0m│\u001b[1m onset \u001b[0m\u001b[1m duration \u001b[0m\u001b[1m sample_rate \u001b[0m\u001b[1m amplitude   \u001b[0m\u001b[1m phase     \u001b[0m\u001b[1m frequency  \u001b[0m\u001b[1m decay\u001b[0m ⋯\n",
       "\u001b[1m     \u001b[0m│\u001b[90m Int64 \u001b[0m\u001b[90m Int64    \u001b[0m\u001b[90m Int64       \u001b[0m\u001b[90m Float64     \u001b[0m\u001b[90m Float64   \u001b[0m\u001b[90m Float64    \u001b[0m\u001b[90m Float\u001b[0m ⋯\n",
       "─────┼──────────────────────────────────────────────────────────────────────────\n",
       "   1 │  2560       512        44100  1.54992e-5    1.7496     21059.9     -10. ⋯\n",
       "   2 │  2560       512        44100  1.54992e-5   -1.7496    -21059.9     -10.\n",
       "   3 │  2560       512        44100  1.86592e-5    0.991644   20847.9     -24.\n",
       "   4 │  2560       512        44100  1.86592e-5   -0.991644  -20847.9     -24.\n",
       "   5 │  2560       512        44100  0.000251491   2.66188    21739.2    -159. ⋯\n",
       "   6 │  2560       512        44100  0.000251491  -2.66188   -21739.2    -159.\n",
       "   7 │  2560       512        44100  0.000269928  -1.08984    21607.9    -180.\n",
       "   8 │  2560       512        44100  0.000269928   1.08984   -21607.9    -180.\n",
       "  ⋮  │   ⋮       ⋮           ⋮            ⋮           ⋮          ⋮           ⋮ ⋱\n",
       " 250 │  2560       512        44100  1.04694e-6   -1.21465     1137.98     87. ⋯\n",
       " 251 │  2560       512        44100  0.00258222   -0.228413   -1318.68     12.\n",
       " 252 │  2560       512        44100  0.00258222    0.228413    1318.68     12.\n",
       " 253 │  2560       512        44100  0.00155636   -1.11447     -891.343     9.\n",
       " 254 │  2560       512        44100  0.00155636    1.11447      891.343     9. ⋯\n",
       " 255 │  2560       512        44100  0.0226171    -1.01686     -439.738     4.\n",
       " 256 │  2560       512        44100  0.0226171     1.01686      439.738     4.\n",
       "\u001b[36m                                                  5 columns and 241 rows omitted\u001b[0m)"
      ]
     },
     "metadata": {},
     "output_type": "display_data"
    }
   ],
   "source": [
    "## Get a slice in time, each slice = onset/duration \n",
    "## or multiple slices between a range\n",
    "## : means until the end (or from the beginning)\n",
    "\n",
    "# Resonances.getSlice(<start>, <end>, Flute) \n",
    "\n",
    "#Resonances.getSlice(z, Flute)\n",
    "#Resonances.getSlice(z, :, Flute)\n",
    "#Resonances.getSlice(:, w, Flute)\n",
    "Resonances.getSlice(z, w, Flute) "
   ]
  },
  {
   "cell_type": "code",
   "execution_count": null,
   "id": "2509ecb7",
   "metadata": {},
   "outputs": [],
   "source": [
    "# If string: pos/neg/null passed: filter on frequency\n",
    "Resonances.filterFrequency(\"pos\", Flute) # slice number * duration of first element"
   ]
  },
  {
   "cell_type": "code",
   "execution_count": null,
   "id": "2897e796",
   "metadata": {},
   "outputs": [],
   "source": [
    "Resonances.frequencyBand([3, 10000], Flute)"
   ]
  },
  {
   "cell_type": "code",
   "execution_count": null,
   "id": "4d502344",
   "metadata": {},
   "outputs": [],
   "source": [
    "# find particles: will be empty because no smaller paricles\n",
    "pts(fnd(x, Flute))"
   ]
  },
  {
   "cell_type": "code",
   "execution_count": null,
   "id": "efd5f651",
   "metadata": {},
   "outputs": [],
   "source": [
    "filter(:onset => o-> 512 <= o <= 3*512, Flute.__data__.data)"
   ]
  },
  {
   "cell_type": "code",
   "execution_count": null,
   "id": "ba9b7f8c",
   "metadata": {},
   "outputs": [],
   "source": [
    "filter(:frequency => f-> 0 <= f <= 10000, Flute.__data__.data)"
   ]
  },
  {
   "cell_type": "code",
   "execution_count": 10,
   "id": "d8cc86b0",
   "metadata": {},
   "outputs": [
    {
     "data": {
      "text/plain": [
       "Resonances.Id[]"
      ]
     },
     "metadata": {},
     "output_type": "display_data"
    }
   ],
   "source": [
    "# Resonances are the smallest constituents, so they don't have any parts\n",
    "pts(Resonances.findResonanceById(x, Flute))"
   ]
  },
  {
   "cell_type": "code",
   "execution_count": null,
   "id": "d4b8dd8b",
   "metadata": {},
   "outputs": [],
   "source": []
  },
  {
   "cell_type": "code",
   "execution_count": null,
   "id": "3be56a55",
   "metadata": {},
   "outputs": [],
   "source": []
  },
  {
   "cell_type": "code",
   "execution_count": null,
   "id": "02b00ab7",
   "metadata": {},
   "outputs": [],
   "source": [
    "using DataFrames\n",
    "using CSV "
   ]
  },
  {
   "cell_type": "code",
   "execution_count": null,
   "id": "be8dd95f",
   "metadata": {},
   "outputs": [],
   "source": [
    "df = DataFrame(CSV.File(\"./flute_a4.csv\"))\n",
    "first(df, 5)"
   ]
  },
  {
   "cell_type": "code",
   "execution_count": null,
   "id": "7dbee019",
   "metadata": {},
   "outputs": [],
   "source": [
    "typeof(df)"
   ]
  },
  {
   "cell_type": "code",
   "execution_count": null,
   "id": "7e1c28db",
   "metadata": {},
   "outputs": [],
   "source": [
    "Hierarchy(df)"
   ]
  },
  {
   "cell_type": "code",
   "execution_count": null,
   "id": "0b6f4cf0",
   "metadata": {},
   "outputs": [],
   "source": [
    "typeof(Hierarchy(df))"
   ]
  },
  {
   "cell_type": "code",
   "execution_count": null,
   "id": "0f1fd91b",
   "metadata": {},
   "outputs": [],
   "source": [
    "typeof(Id(1))"
   ]
  },
  {
   "cell_type": "code",
   "execution_count": null,
   "id": "1a41a4d8",
   "metadata": {},
   "outputs": [],
   "source": [
    "# Chakra.fnd(x::Id, h::Hierarchy)::Constituent = Constituent(h.value(x.value,:))\n",
    "# fnd(Id(1), Hierarchy(df))\n",
    "\n",
    "Chakra.fnd(x::Id,m::Hierarchy)::Constituent = fnd(m.value(x.value),:)\n",
    "\n",
    "fnd(Id(1), Hierarchy(df))"
   ]
  },
  {
   "cell_type": "code",
   "execution_count": null,
   "id": "dfdd36cf",
   "metadata": {},
   "outputs": [],
   "source": [
    "# Add df to hierarchy?\n",
    "__data__ = Charm.Resonance.DataSet\n",
    "\n",
    "peek(m::Module) = peek(m.__data__)\n"
   ]
  },
  {
   "cell_type": "code",
   "execution_count": null,
   "id": "fc1b05a1",
   "metadata": {},
   "outputs": [],
   "source": [
    "\n",
    "\n",
    "#Charm.getpitch()\n",
    "# resonance <: chakra.constituent\n",
    "\n",
    "\n",
    "\n",
    "# FREQ\n",
    "# struct FRQ <:Chakra.attribute(:req, Float64) end\n",
    "# Chakra.geta(:FREQ, c;;Constituent)::Float64 = c.value[\"<field in table\"]\n",
    "# Check\n",
    "# geta(FREQ(), fnd(Id(1), Hierarchy(df))))"
   ]
  },
  {
   "cell_type": "code",
   "execution_count": null,
   "id": "cfdc2513",
   "metadata": {},
   "outputs": [],
   "source": [
    "Chakra.isdatasource(Flute)  # moet true zijn!"
   ]
  },
  {
   "cell_type": "code",
   "execution_count": null,
   "id": "aa766415",
   "metadata": {},
   "outputs": [],
   "source": [
    "x = Charm.Resonance.id(\"flute_a4.csv\")"
   ]
  },
  {
   "cell_type": "code",
   "execution_count": null,
   "id": "c713a7b0",
   "metadata": {},
   "outputs": [],
   "source": [
    "x = Charm.Midi.id(\"syrinx.mid\")"
   ]
  },
  {
   "cell_type": "code",
   "execution_count": null,
   "id": "8aeb98c4",
   "metadata": {},
   "outputs": [],
   "source": [
    "syrinx = fnd(x,Syrinx)"
   ]
  },
  {
   "cell_type": "code",
   "execution_count": null,
   "id": "27bededf",
   "metadata": {},
   "outputs": [],
   "source": [
    "typeof(syrinx)"
   ]
  },
  {
   "cell_type": "code",
   "execution_count": null,
   "id": "2283d0b0",
   "metadata": {},
   "outputs": [],
   "source": [
    "tracks = pts(syrinx)"
   ]
  },
  {
   "cell_type": "code",
   "execution_count": null,
   "id": "5f098334",
   "metadata": {},
   "outputs": [],
   "source": [
    "track1 = tracks[1]"
   ]
  },
  {
   "cell_type": "code",
   "execution_count": null,
   "id": "b826bba3",
   "metadata": {},
   "outputs": [],
   "source": [
    "track1 = fnd(track1,Syrinx)"
   ]
  },
  {
   "cell_type": "code",
   "execution_count": null,
   "id": "2bf9bb18",
   "metadata": {},
   "outputs": [],
   "source": [
    "notes = pts(track1)"
   ]
  },
  {
   "cell_type": "code",
   "execution_count": null,
   "id": "76ffa51f",
   "metadata": {},
   "outputs": [],
   "source": [
    "note1 = fnd(Charm.Midi.id(\"syrinx.mid\",1,1),Syrinx)"
   ]
  },
  {
   "cell_type": "code",
   "execution_count": null,
   "id": "375e40d9",
   "metadata": {},
   "outputs": [],
   "source": [
    "getpitch(note1)"
   ]
  },
  {
   "cell_type": "code",
   "execution_count": null,
   "id": "472cc9ed",
   "metadata": {},
   "outputs": [],
   "source": [
    "getonset(note1)"
   ]
  },
  {
   "cell_type": "code",
   "execution_count": null,
   "id": "b55181f6",
   "metadata": {},
   "outputs": [],
   "source": [
    "getduration(note1)"
   ]
  },
  {
   "cell_type": "code",
   "execution_count": null,
   "id": "80864dac",
   "metadata": {},
   "outputs": [],
   "source": [
    "fnd(Charm.Midi.id(\"syrinx.mid\",2,1),Syrinx)"
   ]
  },
  {
   "cell_type": "code",
   "execution_count": null,
   "id": "4d0bb2f6",
   "metadata": {},
   "outputs": [],
   "source": [
    "@time notes = sequence(notes,Syrinx) #question"
   ]
  },
  {
   "cell_type": "code",
   "execution_count": null,
   "id": "d022407c",
   "metadata": {},
   "outputs": [],
   "source": [
    "pitchvp = vp(Charm.Attribute(:pitch))\n",
    "onsetvp = vp(Charm.Attribute(:onset))\n",
    "X = link(pitchvp,onsetvp)"
   ]
  },
  {
   "cell_type": "code",
   "execution_count": null,
   "id": "b53cd515",
   "metadata": {},
   "outputs": [],
   "source": [
    "typeof(pitchvp)"
   ]
  },
  {
   "cell_type": "code",
   "execution_count": null,
   "id": "f3d8cc2f",
   "metadata": {},
   "outputs": [],
   "source": [
    "vp_map(X,notes)"
   ]
  },
  {
   "cell_type": "code",
   "execution_count": null,
   "id": "933f2294",
   "metadata": {},
   "outputs": [],
   "source": [
    "p1 = geta(\"Charm.pitch\",note1)"
   ]
  },
  {
   "cell_type": "code",
   "execution_count": null,
   "id": "b5d24a03",
   "metadata": {},
   "outputs": [],
   "source": [
    "p2 = geta(\"Charm.pitch\",fnd(Syrinx.id(1,2),Syrinx))"
   ]
  },
  {
   "cell_type": "code",
   "execution_count": null,
   "id": "d114ca60",
   "metadata": {},
   "outputs": [],
   "source": [
    "Charm.diff(p1,p2)    # dit is interval"
   ]
  },
  {
   "cell_type": "code",
   "execution_count": null,
   "id": "b94fcbbc",
   "metadata": {},
   "outputs": [],
   "source": [
    "p2 <= p1"
   ]
  },
  {
   "cell_type": "code",
   "execution_count": null,
   "id": "905906d6",
   "metadata": {},
   "outputs": [],
   "source": [
    "# Charm.Midi.Pitch vervangen\n",
    "\n",
    "Base.:<=(x::Charm.Pitch,y::Charm.Pitch)::Bool = x.value <= y.value "
   ]
  },
  {
   "cell_type": "code",
   "execution_count": null,
   "id": "56ba1722",
   "metadata": {},
   "outputs": [],
   "source": [
    "p1 <= p2"
   ]
  }
 ],
 "metadata": {
  "kernelspec": {
   "display_name": "Julia 1.8.5",
   "language": "julia",
   "name": "julia-1.8"
  },
  "language_info": {
   "file_extension": ".jl",
   "mimetype": "application/julia",
   "name": "julia",
   "version": "1.8.5"
  }
 },
 "nbformat": 4,
 "nbformat_minor": 5
}
