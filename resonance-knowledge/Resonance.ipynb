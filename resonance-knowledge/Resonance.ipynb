{
 "cells": [
  {
   "cell_type": "code",
   "execution_count": 1,
   "id": "ce277a8c",
   "metadata": {},
   "outputs": [
    {
     "data": {
      "text/plain": [
       "Main.Flute"
      ]
     },
     "metadata": {},
     "output_type": "display_data"
    }
   ],
   "source": [
    "using Chakra #, Charm\n",
    "push!(LOAD_PATH, \"./src/\")\n",
    "using Resonances\n",
    "include(\"./src/Flute.jl\")\n",
    "\n",
    "# Chakra.isdatasource(Flute)\n",
    "# typeof(Flute)"
   ]
  },
  {
   "cell_type": "code",
   "execution_count": 2,
   "id": "aed22180",
   "metadata": {},
   "outputs": [
    {
     "data": {
      "text/plain": [
       "Resonances.DRSId(1)"
      ]
     },
     "metadata": {},
     "output_type": "display_data"
    }
   ],
   "source": [
    "## inititialization resonance and slice id's\n",
    "res10 = Flute.Resonances.resId(10)\n",
    "res20 = Flute.Resonances.resId(20)\n",
    "res40 = Flute.Resonances.resId(40)\n",
    "\n",
    "pair3 = Flute.Resonances.pairId(3)\n",
    "pair2000 = Flute.Resonances.pairId(2000)\n",
    "\n",
    "slice5 = Flute.Resonances.sliceId(5)\n",
    "slice10 = Flute.Resonances.sliceId(10)\n",
    "\n",
    "drs = Flute.Resonances.drsId(1)"
   ]
  },
  {
   "cell_type": "code",
   "execution_count": 3,
   "id": "2f81ef4f",
   "metadata": {},
   "outputs": [
    {
     "data": {
      "text/plain": [
       "6-element Vector{Resonances.Id}:\n",
       " Resonances.SliceId(5)\n",
       " Resonances.SliceId(6)\n",
       " Resonances.SliceId(7)\n",
       " Resonances.SliceId(8)\n",
       " Resonances.SliceId(9)\n",
       " Resonances.SliceId(10)"
      ]
     },
     "metadata": {},
     "output_type": "display_data"
    }
   ],
   "source": [
    "# Parts of one dimensional DRS structure in time\n",
    "pts(res10, Flute)\n",
    "#pts(pair3, Flute)\n",
    "#pts(slice5, Flute)\n",
    "#pts(drs, Flute)\n",
    "\n",
    "# Parts of groupings in time of DRS\n",
    "sliceSeq = pts(Resonances.getSlice(slice5, slice10, Flute))"
   ]
  },
  {
   "cell_type": "code",
   "execution_count": 4,
   "id": "e0726559",
   "metadata": {},
   "outputs": [
    {
     "data": {
      "text/plain": [
       "2-element Vector{Int64}:\n",
       " 5\n",
       " 6"
      ]
     },
     "metadata": {},
     "output_type": "display_data"
    }
   ],
   "source": [
    "# Check find of resonances/pairs...\n",
    "\n",
    "#row = fnd(res10, Flute)\n",
    "#fnd(pair3, Flute)\n",
    "\n",
    "#resonance = fnd(res10, Flute)\n",
    "\n",
    "#Resonances.Resonance(res10, Flute)\n",
    "\n",
    "Resonances.Pair(pair3, Flute).resonances.id"
   ]
  },
  {
   "cell_type": "code",
   "execution_count": 26,
   "id": "72d865d5",
   "metadata": {},
   "outputs": [
    {
     "data": {
      "text/plain": [
       "Module"
      ]
     },
     "metadata": {},
     "output_type": "display_data"
    }
   ],
   "source": [
    "typeof(Flute)"
   ]
  },
  {
   "cell_type": "code",
   "execution_count": 4,
   "id": "93c00e22",
   "metadata": {},
   "outputs": [
    {
     "ename": "UndefVarError",
     "evalue": "UndefVarError: k not defined",
     "output_type": "error",
     "traceback": [
      "UndefVarError: k not defined\n",
      "\n",
      "Stacktrace:\n",
      " [1] top-level scope\n",
      "   @ ~/Mirror/_MULTIMEDIA/THESIS/thesis/github/resonance-knowledge/Resonance.ipynb:6"
     ]
    }
   ],
   "source": [
    "## FIND\n",
    "\n",
    "#fnd(x, Flute) # find resonance Id\n",
    "#fnd(j, Flute.__data__) # find pair id\n",
    "#fnd(w, Flute.__data__) # find slice Id\n",
    "fnd(k, Flute.__data__) # find slice seq Id DOESN'T WORK YET\n",
    "\n",
    "#fnd(m, Flute.__data__) # m isn't used   # FEEDBACK: FIND DOESN'T NEEDED\n",
    "\n",
    "# QUESTION: WEIRD: SAME INPUT Resonance id and pair id, but one of them .__data___\n",
    "# QUESTION: fnd(SliceSequenceID -> should it return slices or just table of resonances?)"
   ]
  },
  {
   "cell_type": "code",
   "execution_count": null,
   "id": "7ce73e71",
   "metadata": {},
   "outputs": [],
   "source": [
    "Resonances.Pair(j, Flute.__data__) # returns 2 elements neg and pos\n",
    "#Flute.__data__.data.pairId"
   ]
  },
  {
   "cell_type": "code",
   "execution_count": null,
   "id": "7ef35b92",
   "metadata": {},
   "outputs": [],
   "source": [
    "Resonances.getFrequencyBand(100, 200, Flute).resonances.id\n",
    "#Resonances.getFrequencyBand(\"pos\", Flute)"
   ]
  },
  {
   "cell_type": "code",
   "execution_count": null,
   "id": "421d89d5",
   "metadata": {},
   "outputs": [],
   "source": [
    "pts(Resonances.findResonancesByIds([x, y, s], Flute)) # To find multiple resonances, returns the x resonances found by id\n",
    "pts(Resonances.getSlice(z, w, Flute))"
   ]
  },
  {
   "cell_type": "code",
   "execution_count": null,
   "id": "a1738cce",
   "metadata": {},
   "outputs": [],
   "source": [
    "#Resonances.getSlice(z, Flute).resonances.sliceId\n",
    "Resonances.getSlice(z, Flute).resonances.frequency"
   ]
  },
  {
   "cell_type": "code",
   "execution_count": null,
   "id": "2560170c",
   "metadata": {},
   "outputs": [],
   "source": [
    "Resonances.getSlice(z, Flute)"
   ]
  },
  {
   "cell_type": "code",
   "execution_count": null,
   "id": "3ee08896",
   "metadata": {},
   "outputs": [],
   "source": [
    "## Get a slice in time, each slice = onset/duration or multiple slices between a range,  : means until the end (or from the beginning)\n",
    "\n",
    "Resonances.getSlice(z, Flute)\n",
    "#Resonances.getSlice(z, :, Flute) # Resonances.getSlice(<start>, <end>, Flute) \n",
    "#Resonances.getSlice(:, w, Flute)\n",
    "Resonances.getSlice(z, w, Flute) "
   ]
  },
  {
   "cell_type": "code",
   "execution_count": null,
   "id": "2897e796",
   "metadata": {},
   "outputs": [],
   "source": [
    "# Get frequencies in a certain bandwidth\n",
    "\n",
    "#Resonances.getFrequencyBand(-100, :, Flute)\n",
    "#Resonances.getFrequencyBand(:, 1000, Flute)\n",
    "Resonances.getFrequencyBand(3.54, 1000, Flute)\n",
    "Resonances.getFrequencyBand(\"pos\", Flute)"
   ]
  },
  {
   "cell_type": "code",
   "execution_count": null,
   "id": "d8cc86b0",
   "metadata": {},
   "outputs": [],
   "source": [
    "# Resonances are the smallest constituents, so they don't have any parts\n",
    "# Flute.Resonances.sliceSeqId(pts(fnd(x, Flute))) "
   ]
  },
  {
   "cell_type": "code",
   "execution_count": null,
   "id": "561293f5",
   "metadata": {},
   "outputs": [],
   "source": [
    "pts(Resonances.getSlice(w, Flute))"
   ]
  },
  {
   "cell_type": "code",
   "execution_count": null,
   "id": "3be56a55",
   "metadata": {},
   "outputs": [],
   "source": [
    "pts(Resonances.getSlice(w, Flute))"
   ]
  },
  {
   "cell_type": "code",
   "execution_count": null,
   "id": "02b00ab7",
   "metadata": {},
   "outputs": [],
   "source": [
    "using DataFrames\n",
    "using CSV "
   ]
  },
  {
   "cell_type": "code",
   "execution_count": null,
   "id": "be8dd95f",
   "metadata": {},
   "outputs": [],
   "source": [
    "df = DataFrame(CSV.File(\"./flute_a4.csv\"))\n",
    "first(df, 5)"
   ]
  },
  {
   "cell_type": "code",
   "execution_count": null,
   "id": "7dbee019",
   "metadata": {},
   "outputs": [],
   "source": [
    "typeof(df)"
   ]
  },
  {
   "cell_type": "code",
   "execution_count": null,
   "id": "7e1c28db",
   "metadata": {},
   "outputs": [],
   "source": [
    "Hierarchy(df)"
   ]
  },
  {
   "cell_type": "code",
   "execution_count": null,
   "id": "0b6f4cf0",
   "metadata": {},
   "outputs": [],
   "source": [
    "typeof(Hierarchy(df))"
   ]
  },
  {
   "cell_type": "code",
   "execution_count": null,
   "id": "0f1fd91b",
   "metadata": {},
   "outputs": [],
   "source": [
    "typeof(Id(1))"
   ]
  },
  {
   "cell_type": "code",
   "execution_count": null,
   "id": "1a41a4d8",
   "metadata": {},
   "outputs": [],
   "source": [
    "# Chakra.fnd(x::Id, h::Hierarchy)::Constituent = Constituent(h.value(x.value,:))\n",
    "# fnd(Id(1), Hierarchy(df))\n",
    "\n",
    "Chakra.fnd(x::Id,m::Hierarchy)::Constituent = fnd(m.value(x.value),:)\n",
    "\n",
    "fnd(Id(1), Hierarchy(df))"
   ]
  },
  {
   "cell_type": "code",
   "execution_count": null,
   "id": "dfdd36cf",
   "metadata": {},
   "outputs": [],
   "source": [
    "# Add df to hierarchy?\n",
    "__data__ = Charm.Resonance.DataSet\n",
    "\n",
    "peek(m::Module) = peek(m.__data__)\n"
   ]
  },
  {
   "cell_type": "code",
   "execution_count": null,
   "id": "fc1b05a1",
   "metadata": {},
   "outputs": [],
   "source": [
    "\n",
    "\n",
    "#Charm.getpitch()\n",
    "# resonance <: chakra.constituent\n",
    "\n",
    "\n",
    "\n",
    "# FREQ\n",
    "# struct FRQ <:Chakra.attribute(:req, Float64) end\n",
    "# Chakra.geta(:FREQ, c;;Constituent)::Float64 = c.value[\"<field in table\"]\n",
    "# Check\n",
    "# geta(FREQ(), fnd(Id(1), Hierarchy(df))))"
   ]
  },
  {
   "cell_type": "code",
   "execution_count": null,
   "id": "cfdc2513",
   "metadata": {},
   "outputs": [],
   "source": [
    "Chakra.isdatasource(Flute)  # moet true zijn!"
   ]
  },
  {
   "cell_type": "code",
   "execution_count": null,
   "id": "aa766415",
   "metadata": {},
   "outputs": [],
   "source": [
    "x = Charm.Resonance.id(\"flute_a4.csv\")"
   ]
  },
  {
   "cell_type": "code",
   "execution_count": null,
   "id": "c713a7b0",
   "metadata": {},
   "outputs": [],
   "source": [
    "x = Charm.Midi.id(\"syrinx.mid\")"
   ]
  },
  {
   "cell_type": "code",
   "execution_count": null,
   "id": "8aeb98c4",
   "metadata": {},
   "outputs": [],
   "source": [
    "syrinx = fnd(x,Syrinx)"
   ]
  },
  {
   "cell_type": "code",
   "execution_count": null,
   "id": "27bededf",
   "metadata": {},
   "outputs": [],
   "source": [
    "typeof(syrinx)"
   ]
  },
  {
   "cell_type": "code",
   "execution_count": null,
   "id": "2283d0b0",
   "metadata": {},
   "outputs": [],
   "source": [
    "tracks = pts(syrinx)"
   ]
  },
  {
   "cell_type": "code",
   "execution_count": null,
   "id": "5f098334",
   "metadata": {},
   "outputs": [],
   "source": [
    "track1 = tracks[1]"
   ]
  },
  {
   "cell_type": "code",
   "execution_count": null,
   "id": "b826bba3",
   "metadata": {},
   "outputs": [],
   "source": [
    "track1 = fnd(track1,Syrinx)"
   ]
  },
  {
   "cell_type": "code",
   "execution_count": null,
   "id": "2bf9bb18",
   "metadata": {},
   "outputs": [],
   "source": [
    "notes = pts(track1)"
   ]
  },
  {
   "cell_type": "code",
   "execution_count": null,
   "id": "76ffa51f",
   "metadata": {},
   "outputs": [],
   "source": [
    "note1 = fnd(Charm.Midi.id(\"syrinx.mid\",1,1),Syrinx)"
   ]
  },
  {
   "cell_type": "code",
   "execution_count": null,
   "id": "375e40d9",
   "metadata": {},
   "outputs": [],
   "source": [
    "getpitch(note1)"
   ]
  },
  {
   "cell_type": "code",
   "execution_count": null,
   "id": "472cc9ed",
   "metadata": {},
   "outputs": [],
   "source": [
    "getonset(note1)"
   ]
  },
  {
   "cell_type": "code",
   "execution_count": null,
   "id": "b55181f6",
   "metadata": {},
   "outputs": [],
   "source": [
    "getduration(note1)"
   ]
  },
  {
   "cell_type": "code",
   "execution_count": null,
   "id": "80864dac",
   "metadata": {},
   "outputs": [],
   "source": [
    "fnd(Charm.Midi.id(\"syrinx.mid\",2,1),Syrinx)"
   ]
  },
  {
   "cell_type": "code",
   "execution_count": null,
   "id": "4d0bb2f6",
   "metadata": {},
   "outputs": [],
   "source": [
    "@time notes = sequence(notes,Syrinx) #question"
   ]
  },
  {
   "cell_type": "code",
   "execution_count": null,
   "id": "d022407c",
   "metadata": {},
   "outputs": [],
   "source": [
    "pitchvp = vp(Charm.Attribute(:pitch))\n",
    "onsetvp = vp(Charm.Attribute(:onset))\n",
    "X = link(pitchvp,onsetvp)"
   ]
  },
  {
   "cell_type": "code",
   "execution_count": null,
   "id": "b53cd515",
   "metadata": {},
   "outputs": [],
   "source": [
    "typeof(pitchvp)"
   ]
  },
  {
   "cell_type": "code",
   "execution_count": null,
   "id": "f3d8cc2f",
   "metadata": {},
   "outputs": [],
   "source": [
    "vp_map(X,notes)"
   ]
  },
  {
   "cell_type": "code",
   "execution_count": null,
   "id": "933f2294",
   "metadata": {},
   "outputs": [],
   "source": [
    "p1 = geta(\"Charm.pitch\",note1)"
   ]
  },
  {
   "cell_type": "code",
   "execution_count": null,
   "id": "b5d24a03",
   "metadata": {},
   "outputs": [],
   "source": [
    "p2 = geta(\"Charm.pitch\",fnd(Syrinx.id(1,2),Syrinx))"
   ]
  },
  {
   "cell_type": "code",
   "execution_count": null,
   "id": "d114ca60",
   "metadata": {},
   "outputs": [],
   "source": [
    "Charm.diff(p1,p2)    # dit is interval"
   ]
  },
  {
   "cell_type": "code",
   "execution_count": null,
   "id": "b94fcbbc",
   "metadata": {},
   "outputs": [],
   "source": [
    "p2 <= p1"
   ]
  },
  {
   "cell_type": "code",
   "execution_count": null,
   "id": "905906d6",
   "metadata": {},
   "outputs": [],
   "source": [
    "# Charm.Midi.Pitch vervangen\n",
    "\n",
    "Base.:<=(x::Charm.Pitch,y::Charm.Pitch)::Bool = x.value <= y.value "
   ]
  },
  {
   "cell_type": "code",
   "execution_count": null,
   "id": "56ba1722",
   "metadata": {},
   "outputs": [],
   "source": [
    "p1 <= p2"
   ]
  }
 ],
 "metadata": {
  "kernelspec": {
   "display_name": "Julia 1.8.5",
   "language": "julia",
   "name": "julia-1.8"
  },
  "language_info": {
   "file_extension": ".jl",
   "mimetype": "application/julia",
   "name": "julia",
   "version": "1.8.5"
  }
 },
 "nbformat": 4,
 "nbformat_minor": 5
}
