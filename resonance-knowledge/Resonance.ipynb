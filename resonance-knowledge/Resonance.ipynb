{
 "cells": [
  {
   "cell_type": "code",
   "execution_count": 1,
   "id": "ce277a8c",
   "metadata": {},
   "outputs": [
    {
     "data": {
      "text/plain": [
       "Main.Flute"
      ]
     },
     "metadata": {},
     "output_type": "display_data"
    }
   ],
   "source": [
    "using Chakra #, Charm\n",
    "push!(LOAD_PATH, \"./src/\")\n",
    "using Resonances\n",
    "include(\"./src/Flute.jl\")\n",
    "\n",
    "# Chakra.isdatasource(Flute)\n",
    "# typeof(Flute)"
   ]
  },
  {
   "cell_type": "code",
   "execution_count": 2,
   "id": "aed22180",
   "metadata": {},
   "outputs": [
    {
     "data": {
      "text/plain": [
       "Resonances.DRSId(1)"
      ]
     },
     "metadata": {},
     "output_type": "display_data"
    }
   ],
   "source": [
    "## inititialization resonance and slice id's\n",
    "x = Flute.Resonances.resId(10)\n",
    "y = Flute.Resonances.resId(20)\n",
    "s = Flute.Resonances.resId(40)\n",
    "\n",
    "z = Flute.Resonances.sliceId(5)\n",
    "w = Flute.Resonances.sliceId(10)\n",
    "\n",
    "i = Flute.Resonances.pairId(3)\n",
    "j = Flute.Resonances.pairId(2000)\n",
    "\n",
    "m = Flute.Resonances.drsId(1)"
   ]
  },
  {
   "cell_type": "code",
   "execution_count": 19,
   "id": "e0726559",
   "metadata": {},
   "outputs": [
    {
     "data": {
      "text/plain": [
       "Resonances.Resonance(\u001b[1mDataFrameRow\u001b[0m\n",
       "\u001b[1m Row \u001b[0m│\u001b[1m onset \u001b[0m\u001b[1m duration \u001b[0m\u001b[1m sample_rate \u001b[0m\u001b[1m amplitude  \u001b[0m\u001b[1m phase     \u001b[0m\u001b[1m frequency \u001b[0m\u001b[1m decay  \u001b[0m ⋯\n",
       "\u001b[1m     \u001b[0m│\u001b[90m Int64 \u001b[0m\u001b[90m Int64    \u001b[0m\u001b[90m Int64       \u001b[0m\u001b[90m Float64    \u001b[0m\u001b[90m Float64   \u001b[0m\u001b[90m Float64   \u001b[0m\u001b[90m Float64\u001b[0m ⋯\n",
       "─────┼──────────────────────────────────────────────────────────────────────────\n",
       "  10 │     0       512        44100  8.45435e-5  -0.766382   -20398.8  -137.77 ⋯\n",
       "\u001b[36m                                                               7 columns omitted\u001b[0m)"
      ]
     },
     "metadata": {},
     "output_type": "display_data"
    }
   ],
   "source": [
    "# Test pairId not found\n",
    "#fnd(j, Flute.__data__)\n",
    "fnd(x, Flute)\n",
    "#Resonances.findResonancesByIds([x,y,s], Flute)"
   ]
  },
  {
   "cell_type": "code",
   "execution_count": 3,
   "id": "d4b8dd8b",
   "metadata": {},
   "outputs": [
    {
     "data": {
      "text/plain": [
       "6-element Vector{Resonances.Id}:\n",
       " Resonances.SliceId(5)\n",
       " Resonances.SliceId(6)\n",
       " Resonances.SliceId(7)\n",
       " Resonances.SliceId(8)\n",
       " Resonances.SliceId(9)\n",
       " Resonances.SliceId(10)"
      ]
     },
     "metadata": {},
     "output_type": "display_data"
    }
   ],
   "source": [
    "sliceSeq = pts(Resonances.getSlice(z, w, Flute))"
   ]
  },
  {
   "cell_type": "code",
   "execution_count": 2,
   "id": "93c00e22",
   "metadata": {},
   "outputs": [
    {
     "ename": "UndefVarError",
     "evalue": "UndefVarError: Flute not defined",
     "output_type": "error",
     "traceback": [
      "UndefVarError: Flute not defined\n",
      "\n",
      "Stacktrace:\n",
      " [1] top-level scope\n",
      "   @ ~/Mirror/_MULTIMEDIA/THESIS/thesis/github/resonance-knowledge/Resonance.ipynb:6"
     ]
    }
   ],
   "source": [
    "## FIND\n",
    "\n",
    "#fnd(x, Flute) # find resonance Id\n",
    "#fnd(j, Flute.__data__) # find pair id\n",
    "#fnd(w, Flute.__data__) # find slice Id\n",
    "fnd(k, Flute.__data__) # find slice seq Id DOESN'T WORK YET\n",
    "\n",
    "#fnd(m, Flute.__data__) # m isn't used   # FEEDBACK: FIND DOESN'T NEEDED\n",
    "\n",
    "# QUESTION: WEIRD: SAME INPUT Resonance id and pair id, but one of them .__data___\n",
    "# QUESTION: fnd(SliceSequenceID -> should it return slices or just table of resonances?)"
   ]
  },
  {
   "cell_type": "code",
   "execution_count": 9,
   "id": "7ce73e71",
   "metadata": {},
   "outputs": [
    {
     "data": {
      "text/plain": [
       "Resonances.Pair(Resonances.PairId(3), \u001b[1m2×13 DataFrame\u001b[0m\n",
       "\u001b[1m Row \u001b[0m│\u001b[1m onset \u001b[0m\u001b[1m duration \u001b[0m\u001b[1m sample_rate \u001b[0m\u001b[1m amplitude  \u001b[0m\u001b[1m phase   \u001b[0m\u001b[1m frequency \u001b[0m\u001b[1m decay    \u001b[0m\u001b[1m\u001b[0m ⋯\n",
       "\u001b[1m     \u001b[0m│\u001b[90m Int64 \u001b[0m\u001b[90m Int64    \u001b[0m\u001b[90m Int64       \u001b[0m\u001b[90m Float64    \u001b[0m\u001b[90m Float64 \u001b[0m\u001b[90m Float64   \u001b[0m\u001b[90m Float64  \u001b[0m\u001b[90m\u001b[0m ⋯\n",
       "─────┼──────────────────────────────────────────────────────────────────────────\n",
       "   1 │     0       512        44100  1.66388e-5   -1.839    20408.3  -28.1234  ⋯\n",
       "   2 │     0       512        44100  1.66388e-5    1.839   -20408.3  -28.1234\n",
       "\u001b[36m                                                               6 columns omitted\u001b[0m)"
      ]
     },
     "metadata": {},
     "output_type": "display_data"
    }
   ],
   "source": [
    "Resonances.Pair(j, Flute.__data__) # returns 2 elements neg and pos\n",
    "#Flute.__data__.data.pairId"
   ]
  },
  {
   "cell_type": "code",
   "execution_count": 3,
   "id": "7ef35b92",
   "metadata": {},
   "outputs": [
    {
     "data": {
      "text/plain": [
       "68-element Vector{Int64}:\n",
       "   122\n",
       "   502\n",
       "  1407\n",
       "  2923\n",
       "  4863\n",
       "  5484\n",
       "  5885\n",
       "  8700\n",
       "  8819\n",
       "  9212\n",
       "     ⋮\n",
       " 43131\n",
       " 43500\n",
       " 44012\n",
       " 44524\n",
       " 44918\n",
       " 45423\n",
       " 46570\n",
       " 47083\n",
       " 47206"
      ]
     },
     "metadata": {},
     "output_type": "display_data"
    }
   ],
   "source": [
    "Resonances.getFrequencyBand(100, 200, Flute).resonances.id\n",
    "#Resonances.getFrequencyBand(\"pos\", Flute)"
   ]
  },
  {
   "cell_type": "code",
   "execution_count": 18,
   "id": "421d89d5",
   "metadata": {},
   "outputs": [
    {
     "data": {
      "text/plain": [
       "6-element Vector{Resonances.Id}:\n",
       " Resonances.SliceId(5)\n",
       " Resonances.SliceId(6)\n",
       " Resonances.SliceId(7)\n",
       " Resonances.SliceId(8)\n",
       " Resonances.SliceId(9)\n",
       " Resonances.SliceId(10)"
      ]
     },
     "metadata": {},
     "output_type": "display_data"
    }
   ],
   "source": [
    "pts(Resonances.findResonancesByIds([x, y, s], Flute)) # To find multiple resonances, returns the x resonances found by id\n",
    "pts(Resonances.getSlice(z, w, Flute))"
   ]
  },
  {
   "cell_type": "code",
   "execution_count": 4,
   "id": "a1738cce",
   "metadata": {},
   "outputs": [
    {
     "data": {
      "text/plain": [
       "256-element Vector{Float64}:\n",
       "  21059.949430452576\n",
       " -21059.949430452576\n",
       "  20847.85361560151\n",
       " -20847.85361560151\n",
       "  21739.22891846571\n",
       " -21739.22891846571\n",
       "  21607.888107838495\n",
       " -21607.888107838495\n",
       "  20758.281659053373\n",
       " -20758.281659053373\n",
       "      ⋮\n",
       "   1488.2619537682176\n",
       "  -1137.9840611616844\n",
       "   1137.9840611616844\n",
       "  -1318.680523043125\n",
       "   1318.680523043125\n",
       "   -891.3432304344435\n",
       "    891.3432304344435\n",
       "   -439.7381569886925\n",
       "    439.7381569886925"
      ]
     },
     "metadata": {},
     "output_type": "display_data"
    }
   ],
   "source": [
    "#Resonances.getSlice(z, Flute).resonances.sliceId\n",
    "Resonances.getSlice(z, Flute).resonances.frequency"
   ]
  },
  {
   "cell_type": "code",
   "execution_count": 3,
   "id": "2560170c",
   "metadata": {},
   "outputs": [
    {
     "data": {
      "text/plain": [
       "Resonances.Slice(Resonances.SliceId(5), \u001b[1m256×12 DataFrame\u001b[0m\n",
       "\u001b[1m Row \u001b[0m│\u001b[1m onset \u001b[0m\u001b[1m duration \u001b[0m\u001b[1m sample_rate \u001b[0m\u001b[1m amplitude   \u001b[0m\u001b[1m phase     \u001b[0m\u001b[1m frequency  \u001b[0m\u001b[1m decay\u001b[0m ⋯\n",
       "\u001b[1m     \u001b[0m│\u001b[90m Int64 \u001b[0m\u001b[90m Int64    \u001b[0m\u001b[90m Int64       \u001b[0m\u001b[90m Float64     \u001b[0m\u001b[90m Float64   \u001b[0m\u001b[90m Float64    \u001b[0m\u001b[90m Float\u001b[0m ⋯\n",
       "─────┼──────────────────────────────────────────────────────────────────────────\n",
       "   1 │  2560       512        44100  1.54992e-5    1.7496     21059.9     -10. ⋯\n",
       "   2 │  2560       512        44100  1.54992e-5   -1.7496    -21059.9     -10.\n",
       "   3 │  2560       512        44100  1.86592e-5    0.991644   20847.9     -24.\n",
       "   4 │  2560       512        44100  1.86592e-5   -0.991644  -20847.9     -24.\n",
       "   5 │  2560       512        44100  0.000251491   2.66188    21739.2    -159. ⋯\n",
       "   6 │  2560       512        44100  0.000251491  -2.66188   -21739.2    -159.\n",
       "   7 │  2560       512        44100  0.000269928  -1.08984    21607.9    -180.\n",
       "   8 │  2560       512        44100  0.000269928   1.08984   -21607.9    -180.\n",
       "  ⋮  │   ⋮       ⋮           ⋮            ⋮           ⋮          ⋮           ⋮ ⋱\n",
       " 250 │  2560       512        44100  1.04694e-6   -1.21465     1137.98     87. ⋯\n",
       " 251 │  2560       512        44100  0.00258222   -0.228413   -1318.68     12.\n",
       " 252 │  2560       512        44100  0.00258222    0.228413    1318.68     12.\n",
       " 253 │  2560       512        44100  0.00155636   -1.11447     -891.343     9.\n",
       " 254 │  2560       512        44100  0.00155636    1.11447      891.343     9. ⋯\n",
       " 255 │  2560       512        44100  0.0226171    -1.01686     -439.738     4.\n",
       " 256 │  2560       512        44100  0.0226171     1.01686      439.738     4.\n",
       "\u001b[36m                                                  6 columns and 241 rows omitted\u001b[0m)"
      ]
     },
     "metadata": {},
     "output_type": "display_data"
    }
   ],
   "source": [
    "Resonances.getSlice(z, Flute)"
   ]
  },
  {
   "cell_type": "code",
   "execution_count": 8,
   "id": "3ee08896",
   "metadata": {},
   "outputs": [
    {
     "data": {
      "text/plain": [
       "Resonances.Slice(Resonances.SliceId(5), \u001b[1m256×11 DataFrame\u001b[0m\n",
       "\u001b[1m Row \u001b[0m│\u001b[1m onset \u001b[0m\u001b[1m duration \u001b[0m\u001b[1m sample_rate \u001b[0m\u001b[1m amplitude   \u001b[0m\u001b[1m phase     \u001b[0m\u001b[1m frequency  \u001b[0m\u001b[1m decay\u001b[0m ⋯\n",
       "\u001b[1m     \u001b[0m│\u001b[90m Int64 \u001b[0m\u001b[90m Int64    \u001b[0m\u001b[90m Int64       \u001b[0m\u001b[90m Float64     \u001b[0m\u001b[90m Float64   \u001b[0m\u001b[90m Float64    \u001b[0m\u001b[90m Float\u001b[0m ⋯\n",
       "─────┼──────────────────────────────────────────────────────────────────────────\n",
       "   1 │  2560       512        44100  1.54992e-5    1.7496     21059.9     -10. ⋯\n",
       "   2 │  2560       512        44100  1.54992e-5   -1.7496    -21059.9     -10.\n",
       "   3 │  2560       512        44100  1.86592e-5    0.991644   20847.9     -24.\n",
       "   4 │  2560       512        44100  1.86592e-5   -0.991644  -20847.9     -24.\n",
       "   5 │  2560       512        44100  0.000251491   2.66188    21739.2    -159. ⋯\n",
       "   6 │  2560       512        44100  0.000251491  -2.66188   -21739.2    -159.\n",
       "   7 │  2560       512        44100  0.000269928  -1.08984    21607.9    -180.\n",
       "   8 │  2560       512        44100  0.000269928   1.08984   -21607.9    -180.\n",
       "  ⋮  │   ⋮       ⋮           ⋮            ⋮           ⋮          ⋮           ⋮ ⋱\n",
       " 250 │  2560       512        44100  1.04694e-6   -1.21465     1137.98     87. ⋯\n",
       " 251 │  2560       512        44100  0.00258222   -0.228413   -1318.68     12.\n",
       " 252 │  2560       512        44100  0.00258222    0.228413    1318.68     12.\n",
       " 253 │  2560       512        44100  0.00155636   -1.11447     -891.343     9.\n",
       " 254 │  2560       512        44100  0.00155636    1.11447      891.343     9. ⋯\n",
       " 255 │  2560       512        44100  0.0226171    -1.01686     -439.738     4.\n",
       " 256 │  2560       512        44100  0.0226171     1.01686      439.738     4.\n",
       "\u001b[36m                                                  5 columns and 241 rows omitted\u001b[0m)"
      ]
     },
     "metadata": {},
     "output_type": "display_data"
    }
   ],
   "source": [
    "## Get a slice in time, each slice = onset/duration or multiple slices between a range,  : means until the end (or from the beginning)\n",
    "\n",
    "Resonances.getSlice(z, Flute)\n",
    "#Resonances.getSlice(z, :, Flute) # Resonances.getSlice(<start>, <end>, Flute) \n",
    "#Resonances.getSlice(:, w, Flute)\n",
    "Resonances.getSlice(z, w, Flute) "
   ]
  },
  {
   "cell_type": "code",
   "execution_count": 21,
   "id": "2897e796",
   "metadata": {},
   "outputs": [
    {
     "data": {
      "text/plain": [
       "Resonances.FrequencyBand(0, Colon(), \u001b[1m23841×13 DataFrame\u001b[0m\n",
       "\u001b[1m   Row \u001b[0m│\u001b[1m onset \u001b[0m\u001b[1m duration \u001b[0m\u001b[1m sample_rate \u001b[0m\u001b[1m amplitude  \u001b[0m\u001b[1m phase     \u001b[0m\u001b[1m frequency \u001b[0m\u001b[1m decay\u001b[0m ⋯\n",
       "\u001b[1m       \u001b[0m│\u001b[90m Int64 \u001b[0m\u001b[90m Int64    \u001b[0m\u001b[90m Int64       \u001b[0m\u001b[90m Float64    \u001b[0m\u001b[90m Float64   \u001b[0m\u001b[90m Float64   \u001b[0m\u001b[90m Float\u001b[0m ⋯\n",
       "───────┼────────────────────────────────────────────────────────────────────────\n",
       "     1 │     0       512        44100  1.44979e-5   0.744313   20853.1     -5. ⋯\n",
       "     2 │     0       512        44100  6.32332e-5  -1.76691    20999.7    -67.\n",
       "     3 │     0       512        44100  1.66388e-5  -1.839      20408.3    -28.\n",
       "     4 │     0       512        44100  5.207e-5    -0.452759   20667.0    -88.\n",
       "     5 │     0       512        44100  8.45435e-5   0.766382   20398.8   -137. ⋯\n",
       "     6 │     0       512        44100  1.24517e-5   1.69691    19895.7     -5.\n",
       "     7 │     0       512        44100  2.1546e-5   -0.223913   19309.6    -34.\n",
       "     8 │     0       512        44100  6.392e-6     2.11944    18012.4     -8.\n",
       "   ⋮   │   ⋮       ⋮           ⋮           ⋮           ⋮          ⋮          ⋮ ⋱\n",
       " 23835 │ 94720        83        44100  0.216918     2.90434     3298.67  -791. ⋯\n",
       " 23836 │ 94720        83        44100  0.389176    -2.83425     2784.68  -824.\n",
       " 23837 │ 94720        83        44100  0.706933    -2.13997     2277.64  -861.\n",
       " 23838 │ 94720        83        44100  1.17763     -1.08306     1788.73  -898.\n",
       " 23839 │ 94720        83        44100  1.39008      0.275239    1314.72  -925. ⋯\n",
       " 23840 │ 94720        83        44100  0.969085     1.97884      859.36  -945.\n",
       " 23841 │ 94720        83        44100  0.466578    -3.14159       -0.0   -951.\n",
       "\u001b[36m                                                7 columns and 23826 rows omitted\u001b[0m)"
      ]
     },
     "metadata": {},
     "output_type": "display_data"
    }
   ],
   "source": [
    "# Get frequencies in a certain bandwidth\n",
    "\n",
    "#Resonances.getFrequencyBand(-100, :, Flute)\n",
    "#Resonances.getFrequencyBand(:, 1000, Flute)\n",
    "Resonances.getFrequencyBand(3.54, 1000, Flute)\n",
    "Resonances.getFrequencyBand(\"pos\", Flute)"
   ]
  },
  {
   "cell_type": "code",
   "execution_count": 23,
   "id": "d8cc86b0",
   "metadata": {},
   "outputs": [
    {
     "ename": "MethodError",
     "evalue": "MethodError: no method matching sliceSeqId(::Vector{Resonances.Id})\nClosest candidates are:\n  sliceSeqId(!Matched::Int64) at ~/Mirror/_MULTIMEDIA/THESIS/thesis/github/resonance-knowledge/src/components/Ids.jl:21",
     "output_type": "error",
     "traceback": [
      "MethodError: no method matching sliceSeqId(::Vector{Resonances.Id})\n",
      "Closest candidates are:\n",
      "  sliceSeqId(!Matched::Int64) at ~/Mirror/_MULTIMEDIA/THESIS/thesis/github/resonance-knowledge/src/components/Ids.jl:21\n",
      "\n",
      "Stacktrace:\n",
      " [1] top-level scope\n",
      "   @ ~/Mirror/_MULTIMEDIA/THESIS/thesis/github/resonance-knowledge/Resonance.ipynb:2"
     ]
    }
   ],
   "source": [
    "# Resonances are the smallest constituents, so they don't have any parts\n",
    "# Flute.Resonances.sliceSeqId(pts(fnd(x, Flute))) "
   ]
  },
  {
   "cell_type": "code",
   "execution_count": 4,
   "id": "561293f5",
   "metadata": {},
   "outputs": [
    {
     "data": {
      "text/plain": [
       "256-element Vector{Resonances.Id}:\n",
       " Resonances.SliceId(2561)\n",
       " Resonances.SliceId(2562)\n",
       " Resonances.SliceId(2563)\n",
       " Resonances.SliceId(2564)\n",
       " Resonances.SliceId(2565)\n",
       " Resonances.SliceId(2566)\n",
       " Resonances.SliceId(2567)\n",
       " Resonances.SliceId(2568)\n",
       " Resonances.SliceId(2569)\n",
       " Resonances.SliceId(2570)\n",
       " ⋮\n",
       " Resonances.SliceId(2808)\n",
       " Resonances.SliceId(2809)\n",
       " Resonances.SliceId(2810)\n",
       " Resonances.SliceId(2811)\n",
       " Resonances.SliceId(2812)\n",
       " Resonances.SliceId(2813)\n",
       " Resonances.SliceId(2814)\n",
       " Resonances.SliceId(2815)\n",
       " Resonances.SliceId(2816)"
      ]
     },
     "metadata": {},
     "output_type": "display_data"
    }
   ],
   "source": [
    "pts(Resonances.getSlice(w, Flute))"
   ]
  },
  {
   "cell_type": "code",
   "execution_count": null,
   "id": "3be56a55",
   "metadata": {},
   "outputs": [],
   "source": [
    "pts(Resonances.getSlice(w, Flute))"
   ]
  },
  {
   "cell_type": "code",
   "execution_count": null,
   "id": "02b00ab7",
   "metadata": {},
   "outputs": [],
   "source": [
    "using DataFrames\n",
    "using CSV "
   ]
  },
  {
   "cell_type": "code",
   "execution_count": null,
   "id": "be8dd95f",
   "metadata": {},
   "outputs": [],
   "source": [
    "df = DataFrame(CSV.File(\"./flute_a4.csv\"))\n",
    "first(df, 5)"
   ]
  },
  {
   "cell_type": "code",
   "execution_count": null,
   "id": "7dbee019",
   "metadata": {},
   "outputs": [],
   "source": [
    "typeof(df)"
   ]
  },
  {
   "cell_type": "code",
   "execution_count": null,
   "id": "7e1c28db",
   "metadata": {},
   "outputs": [],
   "source": [
    "Hierarchy(df)"
   ]
  },
  {
   "cell_type": "code",
   "execution_count": null,
   "id": "0b6f4cf0",
   "metadata": {},
   "outputs": [],
   "source": [
    "typeof(Hierarchy(df))"
   ]
  },
  {
   "cell_type": "code",
   "execution_count": null,
   "id": "0f1fd91b",
   "metadata": {},
   "outputs": [],
   "source": [
    "typeof(Id(1))"
   ]
  },
  {
   "cell_type": "code",
   "execution_count": null,
   "id": "1a41a4d8",
   "metadata": {},
   "outputs": [],
   "source": [
    "# Chakra.fnd(x::Id, h::Hierarchy)::Constituent = Constituent(h.value(x.value,:))\n",
    "# fnd(Id(1), Hierarchy(df))\n",
    "\n",
    "Chakra.fnd(x::Id,m::Hierarchy)::Constituent = fnd(m.value(x.value),:)\n",
    "\n",
    "fnd(Id(1), Hierarchy(df))"
   ]
  },
  {
   "cell_type": "code",
   "execution_count": null,
   "id": "dfdd36cf",
   "metadata": {},
   "outputs": [],
   "source": [
    "# Add df to hierarchy?\n",
    "__data__ = Charm.Resonance.DataSet\n",
    "\n",
    "peek(m::Module) = peek(m.__data__)\n"
   ]
  },
  {
   "cell_type": "code",
   "execution_count": null,
   "id": "fc1b05a1",
   "metadata": {},
   "outputs": [],
   "source": [
    "\n",
    "\n",
    "#Charm.getpitch()\n",
    "# resonance <: chakra.constituent\n",
    "\n",
    "\n",
    "\n",
    "# FREQ\n",
    "# struct FRQ <:Chakra.attribute(:req, Float64) end\n",
    "# Chakra.geta(:FREQ, c;;Constituent)::Float64 = c.value[\"<field in table\"]\n",
    "# Check\n",
    "# geta(FREQ(), fnd(Id(1), Hierarchy(df))))"
   ]
  },
  {
   "cell_type": "code",
   "execution_count": null,
   "id": "cfdc2513",
   "metadata": {},
   "outputs": [],
   "source": [
    "Chakra.isdatasource(Flute)  # moet true zijn!"
   ]
  },
  {
   "cell_type": "code",
   "execution_count": null,
   "id": "aa766415",
   "metadata": {},
   "outputs": [],
   "source": [
    "x = Charm.Resonance.id(\"flute_a4.csv\")"
   ]
  },
  {
   "cell_type": "code",
   "execution_count": null,
   "id": "c713a7b0",
   "metadata": {},
   "outputs": [],
   "source": [
    "x = Charm.Midi.id(\"syrinx.mid\")"
   ]
  },
  {
   "cell_type": "code",
   "execution_count": null,
   "id": "8aeb98c4",
   "metadata": {},
   "outputs": [],
   "source": [
    "syrinx = fnd(x,Syrinx)"
   ]
  },
  {
   "cell_type": "code",
   "execution_count": null,
   "id": "27bededf",
   "metadata": {},
   "outputs": [],
   "source": [
    "typeof(syrinx)"
   ]
  },
  {
   "cell_type": "code",
   "execution_count": null,
   "id": "2283d0b0",
   "metadata": {},
   "outputs": [],
   "source": [
    "tracks = pts(syrinx)"
   ]
  },
  {
   "cell_type": "code",
   "execution_count": null,
   "id": "5f098334",
   "metadata": {},
   "outputs": [],
   "source": [
    "track1 = tracks[1]"
   ]
  },
  {
   "cell_type": "code",
   "execution_count": null,
   "id": "b826bba3",
   "metadata": {},
   "outputs": [],
   "source": [
    "track1 = fnd(track1,Syrinx)"
   ]
  },
  {
   "cell_type": "code",
   "execution_count": null,
   "id": "2bf9bb18",
   "metadata": {},
   "outputs": [],
   "source": [
    "notes = pts(track1)"
   ]
  },
  {
   "cell_type": "code",
   "execution_count": null,
   "id": "76ffa51f",
   "metadata": {},
   "outputs": [],
   "source": [
    "note1 = fnd(Charm.Midi.id(\"syrinx.mid\",1,1),Syrinx)"
   ]
  },
  {
   "cell_type": "code",
   "execution_count": null,
   "id": "375e40d9",
   "metadata": {},
   "outputs": [],
   "source": [
    "getpitch(note1)"
   ]
  },
  {
   "cell_type": "code",
   "execution_count": null,
   "id": "472cc9ed",
   "metadata": {},
   "outputs": [],
   "source": [
    "getonset(note1)"
   ]
  },
  {
   "cell_type": "code",
   "execution_count": null,
   "id": "b55181f6",
   "metadata": {},
   "outputs": [],
   "source": [
    "getduration(note1)"
   ]
  },
  {
   "cell_type": "code",
   "execution_count": null,
   "id": "80864dac",
   "metadata": {},
   "outputs": [],
   "source": [
    "fnd(Charm.Midi.id(\"syrinx.mid\",2,1),Syrinx)"
   ]
  },
  {
   "cell_type": "code",
   "execution_count": null,
   "id": "4d0bb2f6",
   "metadata": {},
   "outputs": [],
   "source": [
    "@time notes = sequence(notes,Syrinx) #question"
   ]
  },
  {
   "cell_type": "code",
   "execution_count": null,
   "id": "d022407c",
   "metadata": {},
   "outputs": [],
   "source": [
    "pitchvp = vp(Charm.Attribute(:pitch))\n",
    "onsetvp = vp(Charm.Attribute(:onset))\n",
    "X = link(pitchvp,onsetvp)"
   ]
  },
  {
   "cell_type": "code",
   "execution_count": null,
   "id": "b53cd515",
   "metadata": {},
   "outputs": [],
   "source": [
    "typeof(pitchvp)"
   ]
  },
  {
   "cell_type": "code",
   "execution_count": null,
   "id": "f3d8cc2f",
   "metadata": {},
   "outputs": [],
   "source": [
    "vp_map(X,notes)"
   ]
  },
  {
   "cell_type": "code",
   "execution_count": null,
   "id": "933f2294",
   "metadata": {},
   "outputs": [],
   "source": [
    "p1 = geta(\"Charm.pitch\",note1)"
   ]
  },
  {
   "cell_type": "code",
   "execution_count": null,
   "id": "b5d24a03",
   "metadata": {},
   "outputs": [],
   "source": [
    "p2 = geta(\"Charm.pitch\",fnd(Syrinx.id(1,2),Syrinx))"
   ]
  },
  {
   "cell_type": "code",
   "execution_count": null,
   "id": "d114ca60",
   "metadata": {},
   "outputs": [],
   "source": [
    "Charm.diff(p1,p2)    # dit is interval"
   ]
  },
  {
   "cell_type": "code",
   "execution_count": null,
   "id": "b94fcbbc",
   "metadata": {},
   "outputs": [],
   "source": [
    "p2 <= p1"
   ]
  },
  {
   "cell_type": "code",
   "execution_count": null,
   "id": "905906d6",
   "metadata": {},
   "outputs": [],
   "source": [
    "# Charm.Midi.Pitch vervangen\n",
    "\n",
    "Base.:<=(x::Charm.Pitch,y::Charm.Pitch)::Bool = x.value <= y.value "
   ]
  },
  {
   "cell_type": "code",
   "execution_count": null,
   "id": "56ba1722",
   "metadata": {},
   "outputs": [],
   "source": [
    "p1 <= p2"
   ]
  }
 ],
 "metadata": {
  "kernelspec": {
   "display_name": "Julia 1.8.5",
   "language": "julia",
   "name": "julia-1.8"
  },
  "language_info": {
   "file_extension": ".jl",
   "mimetype": "application/julia",
   "name": "julia",
   "version": "1.8.5"
  }
 },
 "nbformat": 4,
 "nbformat_minor": 5
}
