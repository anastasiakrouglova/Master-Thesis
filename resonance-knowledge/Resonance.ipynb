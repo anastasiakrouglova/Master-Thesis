{
 "cells": [
  {
   "cell_type": "code",
   "execution_count": 1,
   "id": "ce277a8c",
   "metadata": {},
   "outputs": [
    {
     "data": {
      "text/plain": [
       "Main.Flute"
      ]
     },
     "metadata": {},
     "output_type": "display_data"
    }
   ],
   "source": [
    "#Pkg.instantiate()\n",
    "using Chakra #, Charm\n",
    "push!(LOAD_PATH, \"./src/\")\n",
    "using Resonances\n",
    "#include(\"./src/Charm.jl\") \n",
    "include(\"./src/Flute.jl\")\n",
    "#include(\"./src/Resonances.jl\")\n",
    "#using .Flute"
   ]
  },
  {
   "cell_type": "code",
   "execution_count": 2,
   "id": "aed22180",
   "metadata": {},
   "outputs": [
    {
     "data": {
      "text/plain": [
       "Resonances.SliceId(10)"
      ]
     },
     "metadata": {},
     "output_type": "display_data"
    }
   ],
   "source": [
    "x = Flute.Resonances.resId(10)\n",
    "y = Flute.Resonances.resId(20)\n",
    "\n",
    "z = Flute.Resonances.sliceId(5)\n",
    "w = Flute.Resonances.sliceId(10)"
   ]
  },
  {
   "cell_type": "code",
   "execution_count": 3,
   "id": "3ee08896",
   "metadata": {},
   "outputs": [
    {
     "data": {
      "text/plain": [
       "Resonances.Slice(Resonances.SliceId(5), \u001b[1m256×11 DataFrame\u001b[0m\n",
       "\u001b[1m Row \u001b[0m│\u001b[1m onset \u001b[0m\u001b[1m duration \u001b[0m\u001b[1m sample_rate \u001b[0m\u001b[1m amplitude   \u001b[0m\u001b[1m phase     \u001b[0m\u001b[1m frequency  \u001b[0m\u001b[1m decay\u001b[0m ⋯\n",
       "\u001b[1m     \u001b[0m│\u001b[90m Int64 \u001b[0m\u001b[90m Int64    \u001b[0m\u001b[90m Int64       \u001b[0m\u001b[90m Float64     \u001b[0m\u001b[90m Float64   \u001b[0m\u001b[90m Float64    \u001b[0m\u001b[90m Float\u001b[0m ⋯\n",
       "─────┼──────────────────────────────────────────────────────────────────────────\n",
       "   1 │  2560       512        44100  1.54992e-5    1.7496     21059.9     -10. ⋯\n",
       "   2 │  2560       512        44100  1.54992e-5   -1.7496    -21059.9     -10.\n",
       "   3 │  2560       512        44100  1.86592e-5    0.991644   20847.9     -24.\n",
       "   4 │  2560       512        44100  1.86592e-5   -0.991644  -20847.9     -24.\n",
       "   5 │  2560       512        44100  0.000251491   2.66188    21739.2    -159. ⋯\n",
       "   6 │  2560       512        44100  0.000251491  -2.66188   -21739.2    -159.\n",
       "   7 │  2560       512        44100  0.000269928  -1.08984    21607.9    -180.\n",
       "   8 │  2560       512        44100  0.000269928   1.08984   -21607.9    -180.\n",
       "  ⋮  │   ⋮       ⋮           ⋮            ⋮           ⋮          ⋮           ⋮ ⋱\n",
       " 250 │  2560       512        44100  1.04694e-6   -1.21465     1137.98     87. ⋯\n",
       " 251 │  2560       512        44100  0.00258222   -0.228413   -1318.68     12.\n",
       " 252 │  2560       512        44100  0.00258222    0.228413    1318.68     12.\n",
       " 253 │  2560       512        44100  0.00155636   -1.11447     -891.343     9.\n",
       " 254 │  2560       512        44100  0.00155636    1.11447      891.343     9. ⋯\n",
       " 255 │  2560       512        44100  0.0226171    -1.01686     -439.738     4.\n",
       " 256 │  2560       512        44100  0.0226171     1.01686      439.738     4.\n",
       "\u001b[36m                                                  5 columns and 241 rows omitted\u001b[0m)"
      ]
     },
     "metadata": {},
     "output_type": "display_data"
    }
   ],
   "source": [
    "Resonances.getSlice(z, Flute)"
   ]
  },
  {
   "cell_type": "code",
   "execution_count": 3,
   "id": "540828d8",
   "metadata": {},
   "outputs": [
    {
     "name": "stdout",
     "output_type": "stream",
     "text": [
      "KKKKK"
     ]
    },
    {
     "data": {
      "text/plain": [
       "Resonances.SliceSequence(Colon(), Resonances.SliceId(5), \u001b[1m1536×11 DataFrame\u001b[0m\n",
       "\u001b[1m  Row \u001b[0m│\u001b[1m onset \u001b[0m\u001b[1m duration \u001b[0m\u001b[1m sample_rate \u001b[0m\u001b[1m amplitude  \u001b[0m\u001b[1m phase     \u001b[0m\u001b[1m frequency  \u001b[0m\u001b[1m decay\u001b[0m ⋯\n",
       "\u001b[1m      \u001b[0m│\u001b[90m Int64 \u001b[0m\u001b[90m Int64    \u001b[0m\u001b[90m Int64       \u001b[0m\u001b[90m Float64    \u001b[0m\u001b[90m Float64   \u001b[0m\u001b[90m Float64    \u001b[0m\u001b[90m Float\u001b[0m ⋯\n",
       "──────┼─────────────────────────────────────────────────────────────────────────\n",
       "    1 │     0       512        44100  1.44979e-5   0.744313   20853.1      -5. ⋯\n",
       "    2 │     0       512        44100  1.44979e-5  -0.744313  -20853.1      -5.\n",
       "    3 │     0       512        44100  6.32332e-5  -1.76691    20999.7     -67.\n",
       "    4 │     0       512        44100  6.32332e-5   1.76691   -20999.7     -67.\n",
       "    5 │     0       512        44100  1.66388e-5  -1.839      20408.3     -28. ⋯\n",
       "    6 │     0       512        44100  1.66388e-5   1.839     -20408.3     -28.\n",
       "    7 │     0       512        44100  5.207e-5    -0.452759   20667.0     -88.\n",
       "    8 │     0       512        44100  5.207e-5     0.452759  -20667.0     -88.\n",
       "  ⋮   │   ⋮       ⋮           ⋮           ⋮           ⋮          ⋮           ⋮ ⋱\n",
       " 1530 │  2560       512        44100  1.04694e-6  -1.21465     1137.98     87. ⋯\n",
       " 1531 │  2560       512        44100  0.00258222  -0.228413   -1318.68     12.\n",
       " 1532 │  2560       512        44100  0.00258222   0.228413    1318.68     12.\n",
       " 1533 │  2560       512        44100  0.00155636  -1.11447     -891.343     9.\n",
       " 1534 │  2560       512        44100  0.00155636   1.11447      891.343     9. ⋯\n",
       " 1535 │  2560       512        44100  0.0226171   -1.01686     -439.738     4.\n",
       " 1536 │  2560       512        44100  0.0226171    1.01686      439.738     4.\n",
       "\u001b[36m                                                 5 columns and 1521 rows omitted\u001b[0m)"
      ]
     },
     "metadata": {},
     "output_type": "display_data"
    }
   ],
   "source": [
    "# Resonances.getSlice([z, :], Flute)\n",
    "Resonances.getSlice([:, z], Flute)"
   ]
  },
  {
   "cell_type": "code",
   "execution_count": 4,
   "id": "62038cf3",
   "metadata": {},
   "outputs": [
    {
     "name": "stdout",
     "output_type": "stream",
     "text": [
      "Mamma miaKKKKKaaaa"
     ]
    },
    {
     "data": {
      "text/plain": [
       "Resonances.SliceSequence(Resonances.SliceId(5), Resonances.SliceId(10), \u001b[1m1536×11 DataFrame\u001b[0m\n",
       "\u001b[1m  Row \u001b[0m│\u001b[1m onset \u001b[0m\u001b[1m duration \u001b[0m\u001b[1m sample_rate \u001b[0m\u001b[1m amplitude   \u001b[0m\u001b[1m phase     \u001b[0m\u001b[1m frequency  \u001b[0m\u001b[1m deca\u001b[0m ⋯\n",
       "\u001b[1m      \u001b[0m│\u001b[90m Int64 \u001b[0m\u001b[90m Int64    \u001b[0m\u001b[90m Int64       \u001b[0m\u001b[90m Float64     \u001b[0m\u001b[90m Float64   \u001b[0m\u001b[90m Float64    \u001b[0m\u001b[90m Floa\u001b[0m ⋯\n",
       "──────┼─────────────────────────────────────────────────────────────────────────\n",
       "    1 │  2560       512        44100  1.54992e-5    1.7496     21059.9     -10 ⋯\n",
       "    2 │  2560       512        44100  1.54992e-5   -1.7496    -21059.9     -10\n",
       "    3 │  2560       512        44100  1.86592e-5    0.991644   20847.9     -24\n",
       "    4 │  2560       512        44100  1.86592e-5   -0.991644  -20847.9     -24\n",
       "    5 │  2560       512        44100  0.000251491   2.66188    21739.2    -159 ⋯\n",
       "    6 │  2560       512        44100  0.000251491  -2.66188   -21739.2    -159\n",
       "    7 │  2560       512        44100  0.000269928  -1.08984    21607.9    -180\n",
       "    8 │  2560       512        44100  0.000269928   1.08984   -21607.9    -180\n",
       "  ⋮   │   ⋮       ⋮           ⋮            ⋮           ⋮          ⋮            ⋱\n",
       " 1530 │  5120       512        44100  0.00913327    0.919107    -876.721     2 ⋯\n",
       " 1531 │  5120       512        44100  0.00913327   -0.919107     876.721     2\n",
       " 1532 │  5120       512        44100  3.14277e-5    0.177537    -393.781    44\n",
       " 1533 │  5120       512        44100  3.14277e-5   -0.177537     393.781    44\n",
       " 1534 │  5120       512        44100  0.0435455     1.82905     -437.952     0 ⋯\n",
       " 1535 │  5120       512        44100  0.0435455    -1.82905      437.952     0\n",
       " 1536 │  5120       512        44100  0.000110105   0.0            0.0      10\n",
       "\u001b[36m                                                 5 columns and 1521 rows omitted\u001b[0m)"
      ]
     },
     "metadata": {},
     "output_type": "display_data"
    }
   ],
   "source": [
    "Resonances.getSlice([z, w], Flute) "
   ]
  },
  {
   "cell_type": "code",
   "execution_count": 3,
   "id": "54e4b6de",
   "metadata": {},
   "outputs": [
    {
     "ename": "MethodError",
     "evalue": "MethodError: no method matching getSlice(::Vector{Colon}, ::Module)\nClosest candidates are:\n  getSlice(!Matched::Resonances.SliceId, ::Module) at ~/Mirror/_MULTIMEDIA/THESIS/thesis/github/resonance-knowledge/src/Resonances.jl:221\n  getSlice(!Matched::Vector{Any}, ::Module) at ~/Mirror/_MULTIMEDIA/THESIS/thesis/github/resonance-knowledge/src/Resonances.jl:227\n  getSlice(!Matched::Vector{Resonances.SliceId}, ::Module) at ~/Mirror/_MULTIMEDIA/THESIS/thesis/github/resonance-knowledge/src/Resonances.jl:231",
     "output_type": "error",
     "traceback": [
      "MethodError: no method matching getSlice(::Vector{Colon}, ::Module)\n",
      "Closest candidates are:\n",
      "  getSlice(!Matched::Resonances.SliceId, ::Module) at ~/Mirror/_MULTIMEDIA/THESIS/thesis/github/resonance-knowledge/src/Resonances.jl:221\n",
      "  getSlice(!Matched::Vector{Any}, ::Module) at ~/Mirror/_MULTIMEDIA/THESIS/thesis/github/resonance-knowledge/src/Resonances.jl:227\n",
      "  getSlice(!Matched::Vector{Resonances.SliceId}, ::Module) at ~/Mirror/_MULTIMEDIA/THESIS/thesis/github/resonance-knowledge/src/Resonances.jl:231\n",
      "\n",
      "Stacktrace:\n",
      " [1] top-level scope\n",
      "   @ ~/Mirror/_MULTIMEDIA/THESIS/thesis/github/resonance-knowledge/Resonance.ipynb:1"
     ]
    }
   ],
   "source": [
    "Resonances.getSlice([:, :], Flute) "
   ]
  },
  {
   "cell_type": "code",
   "execution_count": 4,
   "id": "d7571db9",
   "metadata": {},
   "outputs": [
    {
     "ename": "MethodError",
     "evalue": "MethodError: no method matching Resonances.SliceSequence(::Colon, ::String, ::Resonances.DataSet)\nClosest candidates are:\n  Resonances.SliceSequence(::Union{Colon, Resonances.SliceId}, !Matched::Union{Colon, Resonances.SliceId}, ::Resonances.DataSet) at ~/Mirror/_MULTIMEDIA/THESIS/thesis/github/resonance-knowledge/src/Resonances.jl:94",
     "output_type": "error",
     "traceback": [
      "MethodError: no method matching Resonances.SliceSequence(::Colon, ::String, ::Resonances.DataSet)\n",
      "Closest candidates are:\n",
      "  Resonances.SliceSequence(::Union{Colon, Resonances.SliceId}, !Matched::Union{Colon, Resonances.SliceId}, ::Resonances.DataSet) at ~/Mirror/_MULTIMEDIA/THESIS/thesis/github/resonance-knowledge/src/Resonances.jl:94\n",
      "\n",
      "Stacktrace:\n",
      " [1] getSlice(seq::Vector{Any}, m::Module)\n",
      "   @ Resonances ~/Mirror/_MULTIMEDIA/THESIS/thesis/github/resonance-knowledge/src/Resonances.jl:228\n",
      " [2] top-level scope\n",
      "   @ ~/Mirror/_MULTIMEDIA/THESIS/thesis/github/resonance-knowledge/Resonance.ipynb:1"
     ]
    }
   ],
   "source": [
    "Resonances.getSlice([:, \"hahah\"], Flute) "
   ]
  },
  {
   "cell_type": "code",
   "execution_count": 4,
   "id": "3b6a808b",
   "metadata": {},
   "outputs": [
    {
     "data": {
      "text/plain": [
       "Resonances.ResonanceCollection(Resonances.ResonanceId[Resonances.ResonanceId(10), Resonances.ResonanceId(20)], \u001b[1m2×11 DataFrame\u001b[0m\n",
       "\u001b[1m Row \u001b[0m│\u001b[1m onset \u001b[0m\u001b[1m duration \u001b[0m\u001b[1m sample_rate \u001b[0m\u001b[1m amplitude  \u001b[0m\u001b[1m phase     \u001b[0m\u001b[1m frequency \u001b[0m\u001b[1m decay  \u001b[0m ⋯\n",
       "\u001b[1m     \u001b[0m│\u001b[90m Int64 \u001b[0m\u001b[90m Int64    \u001b[0m\u001b[90m Int64       \u001b[0m\u001b[90m Float64    \u001b[0m\u001b[90m Float64   \u001b[0m\u001b[90m Float64   \u001b[0m\u001b[90m Float64\u001b[0m ⋯\n",
       "─────┼──────────────────────────────────────────────────────────────────────────\n",
       "   1 │     0       512        44100  8.45435e-5  -0.766382   -20398.8  -137.77 ⋯\n",
       "   2 │     0       512        44100  2.70559e-5   1.26059    -17333.4  -171.53\n",
       "\u001b[36m                                                               5 columns omitted\u001b[0m)"
      ]
     },
     "metadata": {},
     "output_type": "display_data"
    }
   ],
   "source": [
    "#Resonances.findResonancesbyId([x, y], Flute)\n",
    "\n",
    "Resonances.findResonancesbyId([x, y], Flute)"
   ]
  },
  {
   "cell_type": "code",
   "execution_count": 5,
   "id": "d772bd59",
   "metadata": {},
   "outputs": [
    {
     "data": {
      "text/plain": [
       "Resonances.ResonanceCollection(Resonances.ResonanceId[Resonances.ResonanceId(10), Resonances.ResonanceId(20)], \u001b[1m2×11 DataFrame\u001b[0m\n",
       "\u001b[1m Row \u001b[0m│\u001b[1m onset \u001b[0m\u001b[1m duration \u001b[0m\u001b[1m sample_rate \u001b[0m\u001b[1m amplitude  \u001b[0m\u001b[1m phase     \u001b[0m\u001b[1m frequency \u001b[0m\u001b[1m decay  \u001b[0m ⋯\n",
       "\u001b[1m     \u001b[0m│\u001b[90m Int64 \u001b[0m\u001b[90m Int64    \u001b[0m\u001b[90m Int64       \u001b[0m\u001b[90m Float64    \u001b[0m\u001b[90m Float64   \u001b[0m\u001b[90m Float64   \u001b[0m\u001b[90m Float64\u001b[0m ⋯\n",
       "─────┼──────────────────────────────────────────────────────────────────────────\n",
       "   1 │     0       512        44100  8.45435e-5  -0.766382   -20398.8  -137.77 ⋯\n",
       "   2 │     0       512        44100  2.70559e-5   1.26059    -17333.4  -171.53\n",
       "\u001b[36m                                                               5 columns omitted\u001b[0m)"
      ]
     },
     "metadata": {},
     "output_type": "display_data"
    }
   ],
   "source": [
    "Resonances.findResonancesbyId([x, y], Flute)"
   ]
  },
  {
   "cell_type": "code",
   "execution_count": 6,
   "id": "77785f26",
   "metadata": {},
   "outputs": [
    {
     "data": {
      "text/plain": [
       "Module"
      ]
     },
     "metadata": {},
     "output_type": "display_data"
    }
   ],
   "source": [
    "Chakra.isdatasource(Flute)\n",
    "typeof(Flute)"
   ]
  },
  {
   "cell_type": "code",
   "execution_count": 7,
   "id": "238a66ff",
   "metadata": {},
   "outputs": [
    {
     "data": {
      "text/plain": [
       "Resonances.ResonanceId(10)"
      ]
     },
     "metadata": {},
     "output_type": "display_data"
    }
   ],
   "source": [
    "x = Flute.Resonances.id(10)"
   ]
  },
  {
   "cell_type": "code",
   "execution_count": 8,
   "id": "36ccc072",
   "metadata": {},
   "outputs": [
    {
     "data": {
      "text/plain": [
       "Resonances.Resonance(\u001b[1mDataFrameRow\u001b[0m\n",
       "\u001b[1m Row \u001b[0m│\u001b[1m onset \u001b[0m\u001b[1m duration \u001b[0m\u001b[1m sample_rate \u001b[0m\u001b[1m amplitude  \u001b[0m\u001b[1m phase     \u001b[0m\u001b[1m frequency \u001b[0m\u001b[1m decay  \u001b[0m ⋯\n",
       "\u001b[1m     \u001b[0m│\u001b[90m Int64 \u001b[0m\u001b[90m Int64    \u001b[0m\u001b[90m Int64       \u001b[0m\u001b[90m Float64    \u001b[0m\u001b[90m Float64   \u001b[0m\u001b[90m Float64   \u001b[0m\u001b[90m Float64\u001b[0m ⋯\n",
       "─────┼──────────────────────────────────────────────────────────────────────────\n",
       "  10 │     0       512        44100  8.45435e-5  -0.766382   -20398.8  -137.77 ⋯\n",
       "\u001b[36m                                                               5 columns omitted\u001b[0m)"
      ]
     },
     "metadata": {},
     "output_type": "display_data"
    }
   ],
   "source": [
    "fnd(x, Flute)"
   ]
  },
  {
   "cell_type": "code",
   "execution_count": 9,
   "id": "d8cc86b0",
   "metadata": {},
   "outputs": [
    {
     "data": {
      "text/plain": [
       "Resonances.Id[]"
      ]
     },
     "metadata": {},
     "output_type": "display_data"
    }
   ],
   "source": [
    "pts(fnd(x, Flute))"
   ]
  },
  {
   "cell_type": "code",
   "execution_count": 10,
   "id": "7b3bc24e",
   "metadata": {},
   "outputs": [
    {
     "data": {
      "text/plain": [
       "Resonances.SliceId(0)"
      ]
     },
     "metadata": {},
     "output_type": "display_data"
    }
   ],
   "source": [
    "s = Flute.Resonances.sId(0)\n",
    "#Chakra.fnd(x::SliceId, m::Dataset) = Chakra.fnd(x,m.dataset)"
   ]
  },
  {
   "attachments": {},
   "cell_type": "markdown",
   "id": "86514f9c",
   "metadata": {},
   "source": [
    "### Slice"
   ]
  },
  {
   "cell_type": "code",
   "execution_count": 11,
   "id": "0c632ab3",
   "metadata": {},
   "outputs": [
    {
     "data": {
      "text/plain": [
       "Resonances.Slice(93184, \u001b[1m256×11 DataFrame\u001b[0m\n",
       "\u001b[1m Row \u001b[0m│\u001b[1m onset \u001b[0m\u001b[1m duration \u001b[0m\u001b[1m sample_rate \u001b[0m\u001b[1m amplitude   \u001b[0m\u001b[1m phase     \u001b[0m\u001b[1m frequency  \u001b[0m\u001b[1m decay\u001b[0m ⋯\n",
       "\u001b[1m     \u001b[0m│\u001b[90m Int64 \u001b[0m\u001b[90m Int64    \u001b[0m\u001b[90m Int64       \u001b[0m\u001b[90m Float64     \u001b[0m\u001b[90m Float64   \u001b[0m\u001b[90m Float64    \u001b[0m\u001b[90m Float\u001b[0m ⋯\n",
       "─────┼──────────────────────────────────────────────────────────────────────────\n",
       "   1 │ 93184       512        44100  1.14007e-5    0.311219   21753.6     -7.4 ⋯\n",
       "   2 │ 93184       512        44100  1.14007e-5   -0.311219  -21753.6     -7.4\n",
       "   3 │ 93184       512        44100  1.44719e-5    2.9633     21598.6    -19.5\n",
       "   4 │ 93184       512        44100  1.44719e-5   -2.9633    -21598.6    -19.5\n",
       "   5 │ 93184       512        44100  1.82133e-5   -0.739242   21090.4    -10.9 ⋯\n",
       "   6 │ 93184       512        44100  1.82133e-5    0.739242  -21090.4    -10.9\n",
       "   7 │ 93184       512        44100  1.50236e-5    1.38829    20571.2     -9.0\n",
       "   8 │ 93184       512        44100  1.50236e-5   -1.38829   -20571.2     -9.0\n",
       "  ⋮  │   ⋮       ⋮           ⋮            ⋮           ⋮          ⋮           ⋮ ⋱\n",
       " 250 │ 93184       512        44100  8.19007e-5   -1.10008     2206.81     4.2 ⋯\n",
       " 251 │ 93184       512        44100  4.96845e-6    1.35449    -1642.33    35.5\n",
       " 252 │ 93184       512        44100  4.96845e-6   -1.35449     1642.33    35.5\n",
       " 253 │ 93184       512        44100  1.32396e-6    0.331296    -629.05    40.6\n",
       " 254 │ 93184       512        44100  1.32396e-6   -0.331296     629.05    40.6 ⋯\n",
       " 255 │ 93184       512        44100  2.6333e-5     0.832357    -250.327   20.1\n",
       " 256 │ 93184       512        44100  2.6333e-5    -0.832357     250.327   20.1\n",
       "\u001b[36m                                                  5 columns and 241 rows omitted\u001b[0m)"
      ]
     },
     "metadata": {},
     "output_type": "display_data"
    }
   ],
   "source": [
    "Resonances.filterSlice(182, Flute)"
   ]
  },
  {
   "cell_type": "code",
   "execution_count": 12,
   "id": "d703984a",
   "metadata": {},
   "outputs": [
    {
     "data": {
      "text/plain": [
       "Resonances.SliceSequence(512, 1536, \u001b[1m768×11 DataFrame\u001b[0m\n",
       "\u001b[1m Row \u001b[0m│\u001b[1m onset \u001b[0m\u001b[1m duration \u001b[0m\u001b[1m sample_rate \u001b[0m\u001b[1m amplitude   \u001b[0m\u001b[1m phase     \u001b[0m\u001b[1m frequency  \u001b[0m\u001b[1m decay\u001b[0m ⋯\n",
       "\u001b[1m     \u001b[0m│\u001b[90m Int64 \u001b[0m\u001b[90m Int64    \u001b[0m\u001b[90m Int64       \u001b[0m\u001b[90m Float64     \u001b[0m\u001b[90m Float64   \u001b[0m\u001b[90m Float64    \u001b[0m\u001b[90m Float\u001b[0m ⋯\n",
       "─────┼──────────────────────────────────────────────────────────────────────────\n",
       "   1 │   512       512        44100  3.24214e-5   -2.72549    21929.6    -20.8 ⋯\n",
       "   2 │   512       512        44100  3.24214e-5    2.72549   -21929.6    -20.8\n",
       "   3 │   512       512        44100  2.08685e-5    2.28917    21374.3    -29.1\n",
       "   4 │   512       512        44100  2.08685e-5   -2.28917   -21374.3    -29.1\n",
       "   5 │   512       512        44100  3.86042e-5   -1.52318    21796.4    -70.2 ⋯\n",
       "   6 │   512       512        44100  3.86042e-5    1.52318   -21796.4    -70.2\n",
       "   7 │   512       512        44100  5.49219e-5   -2.65152    21133.1    -46.3\n",
       "   8 │   512       512        44100  5.49219e-5    2.65152   -21133.1    -46.3\n",
       "  ⋮  │   ⋮       ⋮           ⋮            ⋮           ⋮          ⋮           ⋮ ⋱\n",
       " 762 │  1536       512        44100  3.01495e-5    1.17591     1545.69     3.2 ⋯\n",
       " 763 │  1536       512        44100  0.000188383   2.15848    -1312.98    10.9\n",
       " 764 │  1536       512        44100  0.000188383  -2.15848     1312.98    10.9\n",
       " 765 │  1536       512        44100  6.65979e-5    0.230952    -922.445   14.9\n",
       " 766 │  1536       512        44100  6.65979e-5   -0.230952     922.445   14.9 ⋯\n",
       " 767 │  1536       512        44100  0.00571998   -2.54391     -441.398    9.9\n",
       " 768 │  1536       512        44100  0.00571998    2.54391      441.398    9.9\n",
       "\u001b[36m                                                  5 columns and 753 rows omitted\u001b[0m)"
      ]
     },
     "metadata": {},
     "output_type": "display_data"
    }
   ],
   "source": [
    "Resonances.filterSlice([1, 3], Flute)"
   ]
  },
  {
   "cell_type": "code",
   "execution_count": 13,
   "id": "33522a35",
   "metadata": {},
   "outputs": [
    {
     "data": {
      "text/plain": [
       "Resonances.SliceSequenceFirst(512, \u001b[1m47163×11 DataFrame\u001b[0m\n",
       "\u001b[1m   Row \u001b[0m│\u001b[1m onset \u001b[0m\u001b[1m duration \u001b[0m\u001b[1m sample_rate \u001b[0m\u001b[1m amplitude  \u001b[0m\u001b[1m phase     \u001b[0m\u001b[1m frequency \u001b[0m\u001b[1m decay\u001b[0m ⋯\n",
       "\u001b[1m       \u001b[0m│\u001b[90m Int64 \u001b[0m\u001b[90m Int64    \u001b[0m\u001b[90m Int64       \u001b[0m\u001b[90m Float64    \u001b[0m\u001b[90m Float64   \u001b[0m\u001b[90m Float64   \u001b[0m\u001b[90m Float\u001b[0m ⋯\n",
       "───────┼────────────────────────────────────────────────────────────────────────\n",
       "     1 │   512       512        44100  3.24214e-5  -2.72549    21929.6    -20. ⋯\n",
       "     2 │   512       512        44100  3.24214e-5   2.72549   -21929.6    -20.\n",
       "     3 │   512       512        44100  2.08685e-5   2.28917    21374.3    -29.\n",
       "     4 │   512       512        44100  2.08685e-5  -2.28917   -21374.3    -29.\n",
       "     5 │   512       512        44100  3.86042e-5  -1.52318    21796.4    -70. ⋯\n",
       "     6 │   512       512        44100  3.86042e-5   1.52318   -21796.4    -70.\n",
       "     7 │   512       512        44100  5.49219e-5  -2.65152    21133.1    -46.\n",
       "     8 │   512       512        44100  5.49219e-5   2.65152   -21133.1    -46.\n",
       "   ⋮   │   ⋮       ⋮           ⋮           ⋮           ⋮          ⋮          ⋮ ⋱\n",
       " 47157 │ 94720        83        44100  1.17763     -1.08306     1788.73  -898. ⋯\n",
       " 47158 │ 94720        83        44100  1.17763      1.08306    -1788.73  -898.\n",
       " 47159 │ 94720        83        44100  1.39008      0.275239    1314.72  -925.\n",
       " 47160 │ 94720        83        44100  1.39008     -0.275239   -1314.72  -925.\n",
       " 47161 │ 94720        83        44100  0.969085     1.97884      859.36  -945. ⋯\n",
       " 47162 │ 94720        83        44100  0.969085    -1.97884     -859.36  -945.\n",
       " 47163 │ 94720        83        44100  0.466578    -3.14159       -0.0   -951.\n",
       "\u001b[36m                                                5 columns and 47148 rows omitted\u001b[0m)"
      ]
     },
     "metadata": {},
     "output_type": "display_data"
    }
   ],
   "source": [
    "Resonances.filterSlice([1, :], Flute)"
   ]
  },
  {
   "cell_type": "code",
   "execution_count": 14,
   "id": "1af12a70",
   "metadata": {},
   "outputs": [
    {
     "data": {
      "text/plain": [
       "Resonances.SliceSequenceScnd(10240, \u001b[1m5375×11 DataFrame\u001b[0m\n",
       "\u001b[1m  Row \u001b[0m│\u001b[1m onset \u001b[0m\u001b[1m duration \u001b[0m\u001b[1m sample_rate \u001b[0m\u001b[1m amplitude  \u001b[0m\u001b[1m phase     \u001b[0m\u001b[1m frequency  \u001b[0m\u001b[1m decay\u001b[0m ⋯\n",
       "\u001b[1m      \u001b[0m│\u001b[90m Int64 \u001b[0m\u001b[90m Int64    \u001b[0m\u001b[90m Int64       \u001b[0m\u001b[90m Float64    \u001b[0m\u001b[90m Float64   \u001b[0m\u001b[90m Float64    \u001b[0m\u001b[90m Float\u001b[0m ⋯\n",
       "──────┼─────────────────────────────────────────────────────────────────────────\n",
       "    1 │     0       512        44100  1.44979e-5   0.744313   20853.1      -5. ⋯\n",
       "    2 │     0       512        44100  1.44979e-5  -0.744313  -20853.1      -5.\n",
       "    3 │     0       512        44100  6.32332e-5  -1.76691    20999.7     -67.\n",
       "    4 │     0       512        44100  6.32332e-5   1.76691   -20999.7     -67.\n",
       "    5 │     0       512        44100  1.66388e-5  -1.839      20408.3     -28. ⋯\n",
       "    6 │     0       512        44100  1.66388e-5   1.839     -20408.3     -28.\n",
       "    7 │     0       512        44100  5.207e-5    -0.452759   20667.0     -88.\n",
       "    8 │     0       512        44100  5.207e-5     0.452759  -20667.0     -88.\n",
       "  ⋮   │   ⋮       ⋮           ⋮           ⋮           ⋮          ⋮             ⋱\n",
       " 5369 │ 10240       512        44100  8.17353e-6  -2.14811     -602.854    59. ⋯\n",
       " 5370 │ 10240       512        44100  8.17353e-6   2.14811      602.854    59.\n",
       " 5371 │ 10240       512        44100  0.0156118    0.446802    -879.852     1.\n",
       " 5372 │ 10240       512        44100  0.0156118   -0.446802     879.852     1.\n",
       " 5373 │ 10240       512        44100  1.96322e-5   2.20289     -240.901    13. ⋯\n",
       " 5374 │ 10240       512        44100  1.96322e-5  -2.20289      240.901    13.\n",
       " 5375 │ 10240       512        44100  4.01036e-5   3.14159        0.0       3.\n",
       "\u001b[36m                                                 5 columns and 5360 rows omitted\u001b[0m)"
      ]
     },
     "metadata": {},
     "output_type": "display_data"
    }
   ],
   "source": [
    "Resonances.filterSlice([:, 20], Flute)"
   ]
  },
  {
   "cell_type": "code",
   "execution_count": 15,
   "id": "b061d16f",
   "metadata": {},
   "outputs": [
    {
     "data": {
      "text/plain": [
       "Vector{Any}\u001b[90m (alias for \u001b[39m\u001b[90mArray{Any, 1}\u001b[39m\u001b[90m)\u001b[39m"
      ]
     },
     "metadata": {},
     "output_type": "display_data"
    }
   ],
   "source": [
    "typeof([1, :])"
   ]
  },
  {
   "attachments": {},
   "cell_type": "markdown",
   "id": "383daa1f",
   "metadata": {},
   "source": [
    "### Frequency"
   ]
  },
  {
   "cell_type": "code",
   "execution_count": 16,
   "id": "2509ecb7",
   "metadata": {},
   "outputs": [
    {
     "data": {
      "text/plain": [
       "Resonances.Frequencies(\"pos\", \u001b[1m23570×11 DataFrame\u001b[0m\n",
       "\u001b[1m   Row \u001b[0m│\u001b[1m onset \u001b[0m\u001b[1m duration \u001b[0m\u001b[1m sample_rate \u001b[0m\u001b[1m amplitude  \u001b[0m\u001b[1m phase     \u001b[0m\u001b[1m frequency \u001b[0m\u001b[1m decay\u001b[0m ⋯\n",
       "\u001b[1m       \u001b[0m│\u001b[90m Int64 \u001b[0m\u001b[90m Int64    \u001b[0m\u001b[90m Int64       \u001b[0m\u001b[90m Float64    \u001b[0m\u001b[90m Float64   \u001b[0m\u001b[90m Float64   \u001b[0m\u001b[90m Float\u001b[0m ⋯\n",
       "───────┼────────────────────────────────────────────────────────────────────────\n",
       "     1 │     0       512        44100  1.44979e-5   0.744313   20853.1     -5. ⋯\n",
       "     2 │     0       512        44100  6.32332e-5  -1.76691    20999.7    -67.\n",
       "     3 │     0       512        44100  1.66388e-5  -1.839      20408.3    -28.\n",
       "     4 │     0       512        44100  5.207e-5    -0.452759   20667.0    -88.\n",
       "     5 │     0       512        44100  8.45435e-5   0.766382   20398.8   -137. ⋯\n",
       "     6 │     0       512        44100  1.24517e-5   1.69691    19895.7     -5.\n",
       "     7 │     0       512        44100  2.1546e-5   -0.223913   19309.6    -34.\n",
       "     8 │     0       512        44100  6.392e-6     2.11944    18012.4     -8.\n",
       "   ⋮   │   ⋮       ⋮           ⋮           ⋮           ⋮          ⋮          ⋮ ⋱\n",
       " 23564 │ 94720        83        44100  0.11388      2.47221     3817.94  -756. ⋯\n",
       " 23565 │ 94720        83        44100  0.216918     2.90434     3298.67  -791.\n",
       " 23566 │ 94720        83        44100  0.389176    -2.83425     2784.68  -824.\n",
       " 23567 │ 94720        83        44100  0.706933    -2.13997     2277.64  -861.\n",
       " 23568 │ 94720        83        44100  1.17763     -1.08306     1788.73  -898. ⋯\n",
       " 23569 │ 94720        83        44100  1.39008      0.275239    1314.72  -925.\n",
       " 23570 │ 94720        83        44100  0.969085     1.97884      859.36  -945.\n",
       "\u001b[36m                                                5 columns and 23555 rows omitted\u001b[0m)"
      ]
     },
     "metadata": {},
     "output_type": "display_data"
    }
   ],
   "source": [
    "# If string: pos/neg/null passed: filter on frequency\n",
    "Resonances.filterFrequency(\"pos\", Flute) # slice number * duration of first element"
   ]
  },
  {
   "cell_type": "code",
   "execution_count": 17,
   "id": "2897e796",
   "metadata": {},
   "outputs": [
    {
     "data": {
      "text/plain": [
       "Resonances.FrequencyBand(3, 10000, \u001b[1m10646×11 DataFrame\u001b[0m\n",
       "\u001b[1m   Row \u001b[0m│\u001b[1m onset \u001b[0m\u001b[1m duration \u001b[0m\u001b[1m sample_rate \u001b[0m\u001b[1m amplitude   \u001b[0m\u001b[1m phase       \u001b[0m\u001b[1m frequency \u001b[0m\u001b[1m de\u001b[0m ⋯\n",
       "\u001b[1m       \u001b[0m│\u001b[90m Int64 \u001b[0m\u001b[90m Int64    \u001b[0m\u001b[90m Int64       \u001b[0m\u001b[90m Float64     \u001b[0m\u001b[90m Float64     \u001b[0m\u001b[90m Float64   \u001b[0m\u001b[90m Fl\u001b[0m ⋯\n",
       "───────┼────────────────────────────────────────────────────────────────────────\n",
       "     1 │     0       512        44100  0.000128016  -2.47086       9641.8    - ⋯\n",
       "     2 │     0       512        44100  2.11835e-5   -2.22569       9361.26\n",
       "     3 │     0       512        44100  5.15367e-5    0.00251812    9311.21\n",
       "     4 │     0       512        44100  2.60907e-5    1.21065       9075.85\n",
       "     5 │     0       512        44100  1.64807e-5    0.483275      8727.93     ⋯\n",
       "     6 │     0       512        44100  0.00110435   -1.45637       7066.6   -3\n",
       "     7 │     0       512        44100  1.34676e-5   -0.325509      7577.52\n",
       "     8 │     0       512        44100  1.51124e-5    0.313889      7351.11\n",
       "   ⋮   │   ⋮       ⋮           ⋮            ⋮            ⋮           ⋮         ⋱\n",
       " 10640 │ 94720        83        44100  0.11388       2.47221       3817.94   - ⋯\n",
       " 10641 │ 94720        83        44100  0.216918      2.90434       3298.67   -\n",
       " 10642 │ 94720        83        44100  0.389176     -2.83425       2784.68   -\n",
       " 10643 │ 94720        83        44100  0.706933     -2.13997       2277.64   -\n",
       " 10644 │ 94720        83        44100  1.17763      -1.08306       1788.73   - ⋯\n",
       " 10645 │ 94720        83        44100  1.39008       0.275239      1314.72   -\n",
       " 10646 │ 94720        83        44100  0.969085      1.97884        859.36   -\n",
       "\u001b[36m                                                5 columns and 10631 rows omitted\u001b[0m)"
      ]
     },
     "metadata": {},
     "output_type": "display_data"
    }
   ],
   "source": [
    "Resonances.frequencyBand([3, 10000], Flute)"
   ]
  },
  {
   "cell_type": "code",
   "execution_count": 18,
   "id": "4d502344",
   "metadata": {},
   "outputs": [
    {
     "data": {
      "text/plain": [
       "Resonances.Id[]"
      ]
     },
     "metadata": {},
     "output_type": "display_data"
    }
   ],
   "source": [
    "# find particles: will be empty because no smaller paricles\n",
    "pts(fnd(x, Flute))"
   ]
  },
  {
   "cell_type": "code",
   "execution_count": 19,
   "id": "efd5f651",
   "metadata": {},
   "outputs": [
    {
     "data": {
      "text/html": [
       "<table class=\"data-frame\"><thead><tr><th></th><th>onset</th><th>duration</th><th>sample_rate</th><th>amplitude</th><th>phase</th><th>frequency</th><th>decay</th><th>d</th></tr><tr><th></th><th>Int64</th><th>Int64</th><th>Int64</th><th>Float64</th><th>Float64</th><th>Float64</th><th>Float64</th><th>String</th></tr></thead><tbody><p>768 rows × 11 columns (omitted printing of 3 columns)</p><tr><th>1</th><td>512</td><td>512</td><td>44100</td><td>3.24214e-5</td><td>-2.72549</td><td>21929.6</td><td>-20.8679</td><td>(-2.9654895215179595e-05-1.3104699069841904e-05j)</td></tr><tr><th>2</th><td>512</td><td>512</td><td>44100</td><td>3.24214e-5</td><td>2.72549</td><td>-21929.6</td><td>-20.8679</td><td>(-2.9654895215179595e-05+1.3104699069841904e-05j)</td></tr><tr><th>3</th><td>512</td><td>512</td><td>44100</td><td>2.08685e-5</td><td>2.28917</td><td>21374.3</td><td>-29.1099</td><td>(-1.3734820848697791e-05+1.5711461870442177e-05j)</td></tr><tr><th>4</th><td>512</td><td>512</td><td>44100</td><td>2.08685e-5</td><td>-2.28917</td><td>-21374.3</td><td>-29.1099</td><td>(-1.3734820848697791e-05-1.5711461870442177e-05j)</td></tr><tr><th>5</th><td>512</td><td>512</td><td>44100</td><td>3.86042e-5</td><td>-1.52318</td><td>21796.4</td><td>-70.26</td><td>(1.8375931214692757e-06-3.856042662027438e-05j)</td></tr><tr><th>6</th><td>512</td><td>512</td><td>44100</td><td>3.86042e-5</td><td>1.52318</td><td>-21796.4</td><td>-70.26</td><td>(1.8375931214692757e-06+3.856042662027438e-05j)</td></tr><tr><th>7</th><td>512</td><td>512</td><td>44100</td><td>5.49219e-5</td><td>-2.65152</td><td>21133.1</td><td>-46.3461</td><td>(-4.845751278200176e-05-2.585109571228457e-05j)</td></tr><tr><th>8</th><td>512</td><td>512</td><td>44100</td><td>5.49219e-5</td><td>2.65152</td><td>-21133.1</td><td>-46.3461</td><td>(-4.845751278200176e-05+2.585109571228457e-05j)</td></tr><tr><th>9</th><td>512</td><td>512</td><td>44100</td><td>3.81379e-5</td><td>2.55458</td><td>20839.2</td><td>-39.1717</td><td>(-3.175363855820192e-05+2.1123542475568004e-05j)</td></tr><tr><th>10</th><td>512</td><td>512</td><td>44100</td><td>3.81379e-5</td><td>-2.55458</td><td>-20839.2</td><td>-39.1717</td><td>(-3.175363855820192e-05-2.1123542475568004e-05j)</td></tr><tr><th>11</th><td>512</td><td>512</td><td>44100</td><td>4.20452e-5</td><td>-2.32221</td><td>20711.7</td><td>-22.998</td><td>(-2.870321485857241e-05-3.072336526447905e-05j)</td></tr><tr><th>12</th><td>512</td><td>512</td><td>44100</td><td>4.20452e-5</td><td>2.32221</td><td>-20711.7</td><td>-22.998</td><td>(-2.870321485857241e-05+3.072336526447905e-05j)</td></tr><tr><th>13</th><td>512</td><td>512</td><td>44100</td><td>5.52021e-6</td><td>0.772474</td><td>20075.2</td><td>-3.68611</td><td>(3.953502123796959e-06+3.85260542325574e-06j)</td></tr><tr><th>14</th><td>512</td><td>512</td><td>44100</td><td>5.52021e-6</td><td>-0.772474</td><td>-20075.2</td><td>-3.68611</td><td>(3.953502123796959e-06-3.85260542325574e-06j)</td></tr><tr><th>15</th><td>512</td><td>512</td><td>44100</td><td>6.48954e-5</td><td>-1.52255</td><td>20488.8</td><td>-110.857</td><td>(3.129734742454734e-06-6.481983894140767e-05j)</td></tr><tr><th>16</th><td>512</td><td>512</td><td>44100</td><td>6.48954e-5</td><td>1.52255</td><td>-20488.8</td><td>-110.857</td><td>(3.129734742454734e-06+6.481983894140767e-05j)</td></tr><tr><th>17</th><td>512</td><td>512</td><td>44100</td><td>3.46959e-5</td><td>1.86263</td><td>19722.4</td><td>-124.62</td><td>(-9.98237428740385e-06+3.3228891865572715e-05j)</td></tr><tr><th>18</th><td>512</td><td>512</td><td>44100</td><td>3.46959e-5</td><td>-1.86263</td><td>-19722.4</td><td>-124.62</td><td>(-9.98237428740385e-06-3.3228891865572715e-05j)</td></tr><tr><th>19</th><td>512</td><td>512</td><td>44100</td><td>2.06764e-5</td><td>1.58231</td><td>19114.8</td><td>-24.7271</td><td>(-2.3798625765710296e-07+2.0675037301703743e-05j)</td></tr><tr><th>20</th><td>512</td><td>512</td><td>44100</td><td>2.06764e-5</td><td>-1.58231</td><td>-19114.8</td><td>-24.7271</td><td>(-2.3798625765710296e-07-2.0675037301703743e-05j)</td></tr><tr><th>21</th><td>512</td><td>512</td><td>44100</td><td>2.2769e-5</td><td>2.32176</td><td>18834.0</td><td>-11.8146</td><td>(-1.5536310864045773e-05+1.664476894429327e-05j)</td></tr><tr><th>22</th><td>512</td><td>512</td><td>44100</td><td>2.2769e-5</td><td>-2.32176</td><td>-18834.0</td><td>-11.8146</td><td>(-1.5536310864045773e-05-1.664476894429327e-05j)</td></tr><tr><th>23</th><td>512</td><td>512</td><td>44100</td><td>1.28036e-5</td><td>0.0714623</td><td>18293.8</td><td>-6.93588</td><td>(1.2770894982577272e-05+9.141938328061769e-07j)</td></tr><tr><th>24</th><td>512</td><td>512</td><td>44100</td><td>1.28036e-5</td><td>-0.0714623</td><td>-18293.8</td><td>-6.93588</td><td>(1.2770894982577272e-05-9.141938328061769e-07j)</td></tr><tr><th>&vellip;</th><td>&vellip;</td><td>&vellip;</td><td>&vellip;</td><td>&vellip;</td><td>&vellip;</td><td>&vellip;</td><td>&vellip;</td><td>&vellip;</td></tr></tbody></table>"
      ],
      "text/latex": [
       "\\begin{tabular}{r|ccccccccc}\n",
       "\t& onset & duration & sample\\_rate & amplitude & phase & frequency & decay & d & \\\\\n",
       "\t\\hline\n",
       "\t& Int64 & Int64 & Int64 & Float64 & Float64 & Float64 & Float64 & String & \\\\\n",
       "\t\\hline\n",
       "\t1 & 512 & 512 & 44100 & 3.24214e-5 & -2.72549 & 21929.6 & -20.8679 & (-2.9654895215179595e-05-1.3104699069841904e-05j) & $\\dots$ \\\\\n",
       "\t2 & 512 & 512 & 44100 & 3.24214e-5 & 2.72549 & -21929.6 & -20.8679 & (-2.9654895215179595e-05+1.3104699069841904e-05j) & $\\dots$ \\\\\n",
       "\t3 & 512 & 512 & 44100 & 2.08685e-5 & 2.28917 & 21374.3 & -29.1099 & (-1.3734820848697791e-05+1.5711461870442177e-05j) & $\\dots$ \\\\\n",
       "\t4 & 512 & 512 & 44100 & 2.08685e-5 & -2.28917 & -21374.3 & -29.1099 & (-1.3734820848697791e-05-1.5711461870442177e-05j) & $\\dots$ \\\\\n",
       "\t5 & 512 & 512 & 44100 & 3.86042e-5 & -1.52318 & 21796.4 & -70.26 & (1.8375931214692757e-06-3.856042662027438e-05j) & $\\dots$ \\\\\n",
       "\t6 & 512 & 512 & 44100 & 3.86042e-5 & 1.52318 & -21796.4 & -70.26 & (1.8375931214692757e-06+3.856042662027438e-05j) & $\\dots$ \\\\\n",
       "\t7 & 512 & 512 & 44100 & 5.49219e-5 & -2.65152 & 21133.1 & -46.3461 & (-4.845751278200176e-05-2.585109571228457e-05j) & $\\dots$ \\\\\n",
       "\t8 & 512 & 512 & 44100 & 5.49219e-5 & 2.65152 & -21133.1 & -46.3461 & (-4.845751278200176e-05+2.585109571228457e-05j) & $\\dots$ \\\\\n",
       "\t9 & 512 & 512 & 44100 & 3.81379e-5 & 2.55458 & 20839.2 & -39.1717 & (-3.175363855820192e-05+2.1123542475568004e-05j) & $\\dots$ \\\\\n",
       "\t10 & 512 & 512 & 44100 & 3.81379e-5 & -2.55458 & -20839.2 & -39.1717 & (-3.175363855820192e-05-2.1123542475568004e-05j) & $\\dots$ \\\\\n",
       "\t11 & 512 & 512 & 44100 & 4.20452e-5 & -2.32221 & 20711.7 & -22.998 & (-2.870321485857241e-05-3.072336526447905e-05j) & $\\dots$ \\\\\n",
       "\t12 & 512 & 512 & 44100 & 4.20452e-5 & 2.32221 & -20711.7 & -22.998 & (-2.870321485857241e-05+3.072336526447905e-05j) & $\\dots$ \\\\\n",
       "\t13 & 512 & 512 & 44100 & 5.52021e-6 & 0.772474 & 20075.2 & -3.68611 & (3.953502123796959e-06+3.85260542325574e-06j) & $\\dots$ \\\\\n",
       "\t14 & 512 & 512 & 44100 & 5.52021e-6 & -0.772474 & -20075.2 & -3.68611 & (3.953502123796959e-06-3.85260542325574e-06j) & $\\dots$ \\\\\n",
       "\t15 & 512 & 512 & 44100 & 6.48954e-5 & -1.52255 & 20488.8 & -110.857 & (3.129734742454734e-06-6.481983894140767e-05j) & $\\dots$ \\\\\n",
       "\t16 & 512 & 512 & 44100 & 6.48954e-5 & 1.52255 & -20488.8 & -110.857 & (3.129734742454734e-06+6.481983894140767e-05j) & $\\dots$ \\\\\n",
       "\t17 & 512 & 512 & 44100 & 3.46959e-5 & 1.86263 & 19722.4 & -124.62 & (-9.98237428740385e-06+3.3228891865572715e-05j) & $\\dots$ \\\\\n",
       "\t18 & 512 & 512 & 44100 & 3.46959e-5 & -1.86263 & -19722.4 & -124.62 & (-9.98237428740385e-06-3.3228891865572715e-05j) & $\\dots$ \\\\\n",
       "\t19 & 512 & 512 & 44100 & 2.06764e-5 & 1.58231 & 19114.8 & -24.7271 & (-2.3798625765710296e-07+2.0675037301703743e-05j) & $\\dots$ \\\\\n",
       "\t20 & 512 & 512 & 44100 & 2.06764e-5 & -1.58231 & -19114.8 & -24.7271 & (-2.3798625765710296e-07-2.0675037301703743e-05j) & $\\dots$ \\\\\n",
       "\t21 & 512 & 512 & 44100 & 2.2769e-5 & 2.32176 & 18834.0 & -11.8146 & (-1.5536310864045773e-05+1.664476894429327e-05j) & $\\dots$ \\\\\n",
       "\t22 & 512 & 512 & 44100 & 2.2769e-5 & -2.32176 & -18834.0 & -11.8146 & (-1.5536310864045773e-05-1.664476894429327e-05j) & $\\dots$ \\\\\n",
       "\t23 & 512 & 512 & 44100 & 1.28036e-5 & 0.0714623 & 18293.8 & -6.93588 & (1.2770894982577272e-05+9.141938328061769e-07j) & $\\dots$ \\\\\n",
       "\t24 & 512 & 512 & 44100 & 1.28036e-5 & -0.0714623 & -18293.8 & -6.93588 & (1.2770894982577272e-05-9.141938328061769e-07j) & $\\dots$ \\\\\n",
       "\t$\\dots$ & $\\dots$ & $\\dots$ & $\\dots$ & $\\dots$ & $\\dots$ & $\\dots$ & $\\dots$ & $\\dots$ &  \\\\\n",
       "\\end{tabular}\n"
      ],
      "text/plain": [
       "\u001b[1m768×11 DataFrame\u001b[0m\n",
       "\u001b[1m Row \u001b[0m│\u001b[1m onset \u001b[0m\u001b[1m duration \u001b[0m\u001b[1m sample_rate \u001b[0m\u001b[1m amplitude   \u001b[0m\u001b[1m phase     \u001b[0m\u001b[1m frequency  \u001b[0m\u001b[1m decay\u001b[0m ⋯\n",
       "\u001b[1m     \u001b[0m│\u001b[90m Int64 \u001b[0m\u001b[90m Int64    \u001b[0m\u001b[90m Int64       \u001b[0m\u001b[90m Float64     \u001b[0m\u001b[90m Float64   \u001b[0m\u001b[90m Float64    \u001b[0m\u001b[90m Float\u001b[0m ⋯\n",
       "─────┼──────────────────────────────────────────────────────────────────────────\n",
       "   1 │   512       512        44100  3.24214e-5   -2.72549    21929.6    -20.8 ⋯\n",
       "   2 │   512       512        44100  3.24214e-5    2.72549   -21929.6    -20.8\n",
       "   3 │   512       512        44100  2.08685e-5    2.28917    21374.3    -29.1\n",
       "   4 │   512       512        44100  2.08685e-5   -2.28917   -21374.3    -29.1\n",
       "   5 │   512       512        44100  3.86042e-5   -1.52318    21796.4    -70.2 ⋯\n",
       "   6 │   512       512        44100  3.86042e-5    1.52318   -21796.4    -70.2\n",
       "   7 │   512       512        44100  5.49219e-5   -2.65152    21133.1    -46.3\n",
       "   8 │   512       512        44100  5.49219e-5    2.65152   -21133.1    -46.3\n",
       "  ⋮  │   ⋮       ⋮           ⋮            ⋮           ⋮          ⋮           ⋮ ⋱\n",
       " 762 │  1536       512        44100  3.01495e-5    1.17591     1545.69     3.2 ⋯\n",
       " 763 │  1536       512        44100  0.000188383   2.15848    -1312.98    10.9\n",
       " 764 │  1536       512        44100  0.000188383  -2.15848     1312.98    10.9\n",
       " 765 │  1536       512        44100  6.65979e-5    0.230952    -922.445   14.9\n",
       " 766 │  1536       512        44100  6.65979e-5   -0.230952     922.445   14.9 ⋯\n",
       " 767 │  1536       512        44100  0.00571998   -2.54391     -441.398    9.9\n",
       " 768 │  1536       512        44100  0.00571998    2.54391      441.398    9.9\n",
       "\u001b[36m                                                  5 columns and 753 rows omitted\u001b[0m"
      ]
     },
     "metadata": {},
     "output_type": "display_data"
    }
   ],
   "source": [
    "filter(:onset => o-> 512 <= o <= 3*512, Flute.__data__.data)"
   ]
  },
  {
   "cell_type": "code",
   "execution_count": 20,
   "metadata": {},
   "outputs": [
    {
     "data": {
      "text/html": [
       "<table class=\"data-frame\"><thead><tr><th></th><th>onset</th><th>duration</th><th>sample_rate</th><th>amplitude</th><th>phase</th><th>frequency</th><th>decay</th><th>d</th></tr><tr><th></th><th>Int64</th><th>Int64</th><th>Int64</th><th>Float64</th><th>Float64</th><th>Float64</th><th>Float64</th><th>String</th></tr></thead><tbody><p>10,917 rows × 11 columns (omitted printing of 3 columns)</p><tr><th>1</th><td>0</td><td>512</td><td>44100</td><td>0.000128016</td><td>-2.47086</td><td>9641.8</td><td>-453.182</td><td>(-0.00010028322215235526-7.956918532619368e-05j)</td></tr><tr><th>2</th><td>0</td><td>512</td><td>44100</td><td>2.11835e-5</td><td>-2.22569</td><td>9361.26</td><td>-26.6649</td><td>(-1.2902404326577457e-05-1.6800854861514617e-05j)</td></tr><tr><th>3</th><td>0</td><td>512</td><td>44100</td><td>5.15367e-5</td><td>0.00251812</td><td>9311.21</td><td>-62.6716</td><td>(5.1536533112239286e-05+1.2977555636176305e-07j)</td></tr><tr><th>4</th><td>0</td><td>512</td><td>44100</td><td>2.60907e-5</td><td>1.21065</td><td>9075.85</td><td>-53.5313</td><td>(9.194786320257891e-06+2.4416839422259158e-05j)</td></tr><tr><th>5</th><td>0</td><td>512</td><td>44100</td><td>1.64807e-5</td><td>0.483275</td><td>8727.93</td><td>-66.4344</td><td>(1.459327362586921e-05+7.658260667046811e-06j)</td></tr><tr><th>6</th><td>0</td><td>512</td><td>44100</td><td>0.00110435</td><td>-1.45637</td><td>7066.6</td><td>-3212.56</td><td>(0.00012609276439792298-0.00109712479732431j)</td></tr><tr><th>7</th><td>0</td><td>512</td><td>44100</td><td>1.34676e-5</td><td>-0.325509</td><td>7577.52</td><td>-31.2085</td><td>(1.2760433889541143e-05-4.306830991471055e-06j)</td></tr><tr><th>8</th><td>0</td><td>512</td><td>44100</td><td>1.51124e-5</td><td>0.313889</td><td>7351.11</td><td>-0.259224</td><td>(1.4373979956784195e-05+4.66608883097429e-06j)</td></tr><tr><th>9</th><td>0</td><td>512</td><td>44100</td><td>1.70547e-5</td><td>1.93617</td><td>7241.58</td><td>-18.2492</td><td>(-6.093561683158708e-06+1.5928961011512034e-05j)</td></tr><tr><th>10</th><td>0</td><td>512</td><td>44100</td><td>1.89834e-5</td><td>-0.39449</td><td>7061.8</td><td>-9.50032</td><td>(1.75253230789357e-05-7.296029792923661e-06j)</td></tr><tr><th>11</th><td>0</td><td>512</td><td>44100</td><td>1.08186e-5</td><td>1.43553</td><td>6605.05</td><td>-7.94674</td><td>(1.458925840378182e-06+1.0719796318736614e-05j)</td></tr><tr><th>12</th><td>0</td><td>512</td><td>44100</td><td>2.30217e-5</td><td>-1.1177</td><td>6382.38</td><td>-19.1085</td><td>(1.0077848567068289e-05-2.0698690721474802e-05j)</td></tr><tr><th>13</th><td>0</td><td>512</td><td>44100</td><td>4.06379e-5</td><td>-1.00114</td><td>6193.97</td><td>-74.1568</td><td>(2.1917886978753866e-05-3.422050695052361e-05j)</td></tr><tr><th>14</th><td>0</td><td>512</td><td>44100</td><td>1.62405e-5</td><td>-0.316817</td><td>6014.75</td><td>-12.2366</td><td>(1.5432275364370866e-05-5.059633171023899e-06j)</td></tr><tr><th>15</th><td>0</td><td>512</td><td>44100</td><td>1.90666e-5</td><td>1.42436</td><td>5616.07</td><td>-5.23586</td><td>(2.782161002442412e-06+1.8862486334732075e-05j)</td></tr><tr><th>16</th><td>0</td><td>512</td><td>44100</td><td>2.60617e-5</td><td>-1.78017</td><td>5053.12</td><td>-69.6377</td><td>(-5.416921781927837e-06-2.5492564381755607e-05j)</td></tr><tr><th>17</th><td>0</td><td>512</td><td>44100</td><td>1.01575e-5</td><td>-0.816015</td><td>4802.95</td><td>-15.3129</td><td>(6.959180117977017e-06-7.3989106577926175e-06j)</td></tr><tr><th>18</th><td>0</td><td>512</td><td>44100</td><td>9.7089e-6</td><td>-2.36149</td><td>4595.7</td><td>-2.50928</td><td>(-6.901517916630548e-06-6.828748083080504e-06j)</td></tr><tr><th>19</th><td>0</td><td>512</td><td>44100</td><td>3.185e-5</td><td>-1.5712</td><td>4408.08</td><td>-91.8707</td><td>(-1.2744803519215147e-08-3.185002640228257e-05j)</td></tr><tr><th>20</th><td>0</td><td>512</td><td>44100</td><td>3.25202e-5</td><td>-2.54424</td><td>4094.65</td><td>-26.6379</td><td>(-2.6888617619925523e-05-1.829115411083395e-05j)</td></tr><tr><th>21</th><td>0</td><td>512</td><td>44100</td><td>0.000182541</td><td>-1.14344</td><td>3877.07</td><td>-89.6322</td><td>(7.565786271293258e-05-0.00016612390026048195j)</td></tr><tr><th>22</th><td>0</td><td>512</td><td>44100</td><td>0.000281938</td><td>1.00357</td><td>3594.63</td><td>-50.5004</td><td>(0.00015148312952135664+0.00023778495037376842j)</td></tr><tr><th>23</th><td>0</td><td>512</td><td>44100</td><td>3.29255e-5</td><td>-0.495402</td><td>2852.5</td><td>-14.4155</td><td>(2.896710428661389e-05-1.565229008106102e-05j)</td></tr><tr><th>24</th><td>0</td><td>512</td><td>44100</td><td>8.01969e-5</td><td>0.842811</td><td>2552.28</td><td>-38.2235</td><td>(5.336041731540024e-05+5.986830800120974e-05j)</td></tr><tr><th>&vellip;</th><td>&vellip;</td><td>&vellip;</td><td>&vellip;</td><td>&vellip;</td><td>&vellip;</td><td>&vellip;</td><td>&vellip;</td><td>&vellip;</td></tr></tbody></table>"
      ],
      "text/latex": [
       "\\begin{tabular}{r|ccccccccc}\n",
       "\t& onset & duration & sample\\_rate & amplitude & phase & frequency & decay & d & \\\\\n",
       "\t\\hline\n",
       "\t& Int64 & Int64 & Int64 & Float64 & Float64 & Float64 & Float64 & String & \\\\\n",
       "\t\\hline\n",
       "\t1 & 0 & 512 & 44100 & 0.000128016 & -2.47086 & 9641.8 & -453.182 & (-0.00010028322215235526-7.956918532619368e-05j) & $\\dots$ \\\\\n",
       "\t2 & 0 & 512 & 44100 & 2.11835e-5 & -2.22569 & 9361.26 & -26.6649 & (-1.2902404326577457e-05-1.6800854861514617e-05j) & $\\dots$ \\\\\n",
       "\t3 & 0 & 512 & 44100 & 5.15367e-5 & 0.00251812 & 9311.21 & -62.6716 & (5.1536533112239286e-05+1.2977555636176305e-07j) & $\\dots$ \\\\\n",
       "\t4 & 0 & 512 & 44100 & 2.60907e-5 & 1.21065 & 9075.85 & -53.5313 & (9.194786320257891e-06+2.4416839422259158e-05j) & $\\dots$ \\\\\n",
       "\t5 & 0 & 512 & 44100 & 1.64807e-5 & 0.483275 & 8727.93 & -66.4344 & (1.459327362586921e-05+7.658260667046811e-06j) & $\\dots$ \\\\\n",
       "\t6 & 0 & 512 & 44100 & 0.00110435 & -1.45637 & 7066.6 & -3212.56 & (0.00012609276439792298-0.00109712479732431j) & $\\dots$ \\\\\n",
       "\t7 & 0 & 512 & 44100 & 1.34676e-5 & -0.325509 & 7577.52 & -31.2085 & (1.2760433889541143e-05-4.306830991471055e-06j) & $\\dots$ \\\\\n",
       "\t8 & 0 & 512 & 44100 & 1.51124e-5 & 0.313889 & 7351.11 & -0.259224 & (1.4373979956784195e-05+4.66608883097429e-06j) & $\\dots$ \\\\\n",
       "\t9 & 0 & 512 & 44100 & 1.70547e-5 & 1.93617 & 7241.58 & -18.2492 & (-6.093561683158708e-06+1.5928961011512034e-05j) & $\\dots$ \\\\\n",
       "\t10 & 0 & 512 & 44100 & 1.89834e-5 & -0.39449 & 7061.8 & -9.50032 & (1.75253230789357e-05-7.296029792923661e-06j) & $\\dots$ \\\\\n",
       "\t11 & 0 & 512 & 44100 & 1.08186e-5 & 1.43553 & 6605.05 & -7.94674 & (1.458925840378182e-06+1.0719796318736614e-05j) & $\\dots$ \\\\\n",
       "\t12 & 0 & 512 & 44100 & 2.30217e-5 & -1.1177 & 6382.38 & -19.1085 & (1.0077848567068289e-05-2.0698690721474802e-05j) & $\\dots$ \\\\\n",
       "\t13 & 0 & 512 & 44100 & 4.06379e-5 & -1.00114 & 6193.97 & -74.1568 & (2.1917886978753866e-05-3.422050695052361e-05j) & $\\dots$ \\\\\n",
       "\t14 & 0 & 512 & 44100 & 1.62405e-5 & -0.316817 & 6014.75 & -12.2366 & (1.5432275364370866e-05-5.059633171023899e-06j) & $\\dots$ \\\\\n",
       "\t15 & 0 & 512 & 44100 & 1.90666e-5 & 1.42436 & 5616.07 & -5.23586 & (2.782161002442412e-06+1.8862486334732075e-05j) & $\\dots$ \\\\\n",
       "\t16 & 0 & 512 & 44100 & 2.60617e-5 & -1.78017 & 5053.12 & -69.6377 & (-5.416921781927837e-06-2.5492564381755607e-05j) & $\\dots$ \\\\\n",
       "\t17 & 0 & 512 & 44100 & 1.01575e-5 & -0.816015 & 4802.95 & -15.3129 & (6.959180117977017e-06-7.3989106577926175e-06j) & $\\dots$ \\\\\n",
       "\t18 & 0 & 512 & 44100 & 9.7089e-6 & -2.36149 & 4595.7 & -2.50928 & (-6.901517916630548e-06-6.828748083080504e-06j) & $\\dots$ \\\\\n",
       "\t19 & 0 & 512 & 44100 & 3.185e-5 & -1.5712 & 4408.08 & -91.8707 & (-1.2744803519215147e-08-3.185002640228257e-05j) & $\\dots$ \\\\\n",
       "\t20 & 0 & 512 & 44100 & 3.25202e-5 & -2.54424 & 4094.65 & -26.6379 & (-2.6888617619925523e-05-1.829115411083395e-05j) & $\\dots$ \\\\\n",
       "\t21 & 0 & 512 & 44100 & 0.000182541 & -1.14344 & 3877.07 & -89.6322 & (7.565786271293258e-05-0.00016612390026048195j) & $\\dots$ \\\\\n",
       "\t22 & 0 & 512 & 44100 & 0.000281938 & 1.00357 & 3594.63 & -50.5004 & (0.00015148312952135664+0.00023778495037376842j) & $\\dots$ \\\\\n",
       "\t23 & 0 & 512 & 44100 & 3.29255e-5 & -0.495402 & 2852.5 & -14.4155 & (2.896710428661389e-05-1.565229008106102e-05j) & $\\dots$ \\\\\n",
       "\t24 & 0 & 512 & 44100 & 8.01969e-5 & 0.842811 & 2552.28 & -38.2235 & (5.336041731540024e-05+5.986830800120974e-05j) & $\\dots$ \\\\\n",
       "\t$\\dots$ & $\\dots$ & $\\dots$ & $\\dots$ & $\\dots$ & $\\dots$ & $\\dots$ & $\\dots$ & $\\dots$ &  \\\\\n",
       "\\end{tabular}\n"
      ],
      "text/plain": [
       "\u001b[1m10917×11 DataFrame\u001b[0m\n",
       "\u001b[1m   Row \u001b[0m│\u001b[1m onset \u001b[0m\u001b[1m duration \u001b[0m\u001b[1m sample_rate \u001b[0m\u001b[1m amplitude   \u001b[0m\u001b[1m phase       \u001b[0m\u001b[1m frequency \u001b[0m\u001b[1m de\u001b[0m ⋯\n",
       "\u001b[1m       \u001b[0m│\u001b[90m Int64 \u001b[0m\u001b[90m Int64    \u001b[0m\u001b[90m Int64       \u001b[0m\u001b[90m Float64     \u001b[0m\u001b[90m Float64     \u001b[0m\u001b[90m Float64   \u001b[0m\u001b[90m Fl\u001b[0m ⋯\n",
       "───────┼────────────────────────────────────────────────────────────────────────\n",
       "     1 │     0       512        44100  0.000128016  -2.47086       9641.8    - ⋯\n",
       "     2 │     0       512        44100  2.11835e-5   -2.22569       9361.26\n",
       "     3 │     0       512        44100  5.15367e-5    0.00251812    9311.21\n",
       "     4 │     0       512        44100  2.60907e-5    1.21065       9075.85\n",
       "     5 │     0       512        44100  1.64807e-5    0.483275      8727.93     ⋯\n",
       "     6 │     0       512        44100  0.00110435   -1.45637       7066.6   -3\n",
       "     7 │     0       512        44100  1.34676e-5   -0.325509      7577.52\n",
       "     8 │     0       512        44100  1.51124e-5    0.313889      7351.11\n",
       "   ⋮   │   ⋮       ⋮           ⋮            ⋮            ⋮           ⋮         ⋱\n",
       " 10911 │ 94720        83        44100  0.216918      2.90434       3298.67   - ⋯\n",
       " 10912 │ 94720        83        44100  0.389176     -2.83425       2784.68   -\n",
       " 10913 │ 94720        83        44100  0.706933     -2.13997       2277.64   -\n",
       " 10914 │ 94720        83        44100  1.17763      -1.08306       1788.73   -\n",
       " 10915 │ 94720        83        44100  1.39008       0.275239      1314.72   - ⋯\n",
       " 10916 │ 94720        83        44100  0.969085      1.97884        859.36   -\n",
       " 10917 │ 94720        83        44100  0.466578     -3.14159         -0.0    -\n",
       "\u001b[36m                                                5 columns and 10902 rows omitted\u001b[0m"
      ]
     },
     "metadata": {},
     "output_type": "display_data"
    }
   ],
   "source": [
    "filter(:frequency => f-> 0 <= f <= 10000, Flute.__data__.data)"
   ]
  },
  {
   "cell_type": "code",
   "execution_count": 21,
   "id": "d4b8dd8b",
   "metadata": {},
   "outputs": [],
   "source": []
  },
  {
   "cell_type": "code",
   "execution_count": 22,
   "id": "3be56a55",
   "metadata": {},
   "outputs": [],
   "source": []
  },
  {
   "cell_type": "code",
   "execution_count": 23,
   "id": "02b00ab7",
   "metadata": {},
   "outputs": [],
   "source": [
    "using DataFrames\n",
    "using CSV "
   ]
  },
  {
   "cell_type": "code",
   "execution_count": 24,
   "id": "be8dd95f",
   "metadata": {},
   "outputs": [
    {
     "data": {
      "text/html": [
       "<table class=\"data-frame\"><thead><tr><th></th><th>onset</th><th>duration</th><th>sample_rate</th><th>amplitude</th><th>phase</th><th>frequency</th><th>decay</th><th>d</th></tr><tr><th></th><th>Int64</th><th>Int64</th><th>Int64</th><th>Float64</th><th>Float64</th><th>Float64</th><th>Float64</th><th>String</th></tr></thead><tbody><p>5 rows × 10 columns (omitted printing of 2 columns)</p><tr><th>1</th><td>0</td><td>512</td><td>44100</td><td>1.44979e-5</td><td>0.744313</td><td>20853.1</td><td>-5.42827</td><td>(1.066396509533436e-05+9.821831181398802e-06j)</td></tr><tr><th>2</th><td>0</td><td>512</td><td>44100</td><td>1.44979e-5</td><td>-0.744313</td><td>-20853.1</td><td>-5.42827</td><td>(1.066396509533436e-05-9.821831181398802e-06j)</td></tr><tr><th>3</th><td>0</td><td>512</td><td>44100</td><td>6.32332e-5</td><td>-1.76691</td><td>20999.7</td><td>-67.7452</td><td>(-1.2321381458592376e-05-6.202117273955251e-05j)</td></tr><tr><th>4</th><td>0</td><td>512</td><td>44100</td><td>6.32332e-5</td><td>1.76691</td><td>-20999.7</td><td>-67.7452</td><td>(-1.2321381458592376e-05+6.202117273955251e-05j)</td></tr><tr><th>5</th><td>0</td><td>512</td><td>44100</td><td>1.66388e-5</td><td>-1.839</td><td>20408.3</td><td>-28.1234</td><td>(-4.409232008996862e-06-1.6043939281226276e-05j)</td></tr></tbody></table>"
      ],
      "text/latex": [
       "\\begin{tabular}{r|ccccccccc}\n",
       "\t& onset & duration & sample\\_rate & amplitude & phase & frequency & decay & d & \\\\\n",
       "\t\\hline\n",
       "\t& Int64 & Int64 & Int64 & Float64 & Float64 & Float64 & Float64 & String & \\\\\n",
       "\t\\hline\n",
       "\t1 & 0 & 512 & 44100 & 1.44979e-5 & 0.744313 & 20853.1 & -5.42827 & (1.066396509533436e-05+9.821831181398802e-06j) & $\\dots$ \\\\\n",
       "\t2 & 0 & 512 & 44100 & 1.44979e-5 & -0.744313 & -20853.1 & -5.42827 & (1.066396509533436e-05-9.821831181398802e-06j) & $\\dots$ \\\\\n",
       "\t3 & 0 & 512 & 44100 & 6.32332e-5 & -1.76691 & 20999.7 & -67.7452 & (-1.2321381458592376e-05-6.202117273955251e-05j) & $\\dots$ \\\\\n",
       "\t4 & 0 & 512 & 44100 & 6.32332e-5 & 1.76691 & -20999.7 & -67.7452 & (-1.2321381458592376e-05+6.202117273955251e-05j) & $\\dots$ \\\\\n",
       "\t5 & 0 & 512 & 44100 & 1.66388e-5 & -1.839 & 20408.3 & -28.1234 & (-4.409232008996862e-06-1.6043939281226276e-05j) & $\\dots$ \\\\\n",
       "\\end{tabular}\n"
      ],
      "text/plain": [
       "\u001b[1m5×10 DataFrame\u001b[0m\n",
       "\u001b[1m Row \u001b[0m│\u001b[1m onset \u001b[0m\u001b[1m duration \u001b[0m\u001b[1m sample_rate \u001b[0m\u001b[1m amplitude  \u001b[0m\u001b[1m phase     \u001b[0m\u001b[1m frequency \u001b[0m\u001b[1m decay  \u001b[0m ⋯\n",
       "\u001b[1m     \u001b[0m│\u001b[90m Int64 \u001b[0m\u001b[90m Int64    \u001b[0m\u001b[90m Int64       \u001b[0m\u001b[90m Float64    \u001b[0m\u001b[90m Float64   \u001b[0m\u001b[90m Float64   \u001b[0m\u001b[90m Float64\u001b[0m ⋯\n",
       "─────┼──────────────────────────────────────────────────────────────────────────\n",
       "   1 │     0       512        44100  1.44979e-5   0.744313    20853.1   -5.428 ⋯\n",
       "   2 │     0       512        44100  1.44979e-5  -0.744313   -20853.1   -5.428\n",
       "   3 │     0       512        44100  6.32332e-5  -1.76691     20999.7  -67.745\n",
       "   4 │     0       512        44100  6.32332e-5   1.76691    -20999.7  -67.745\n",
       "   5 │     0       512        44100  1.66388e-5  -1.839       20408.3  -28.123 ⋯\n",
       "\u001b[36m                                                               4 columns omitted\u001b[0m"
      ]
     },
     "metadata": {},
     "output_type": "display_data"
    }
   ],
   "source": [
    "df = DataFrame(CSV.File(\"./flute_a4.csv\"))\n",
    "first(df, 5)"
   ]
  },
  {
   "cell_type": "code",
   "execution_count": 25,
   "id": "355287fc",
   "metadata": {},
   "outputs": [],
   "source": [
    "struct Id <: Chakra.Id\n",
    "    value::Int\n",
    "end\n",
    "\n",
    "struct Constituent <: Chakra.Constituent\n",
    "    value::DataFrameRow\n",
    "end\n",
    "\n",
    "struct Hierarchy <: Chakra.Hierarchy\n",
    "    value::DataFrame\n",
    "end"
   ]
  },
  {
   "cell_type": "code",
   "execution_count": 26,
   "id": "7dbee019",
   "metadata": {},
   "outputs": [
    {
     "data": {
      "text/plain": [
       "DataFrame"
      ]
     },
     "metadata": {},
     "output_type": "display_data"
    }
   ],
   "source": [
    "typeof(df)"
   ]
  },
  {
   "cell_type": "code",
   "execution_count": 27,
   "id": "7e1c28db",
   "metadata": {},
   "outputs": [
    {
     "data": {
      "text/plain": [
       "Hierarchy(\u001b[1m47419×10 DataFrame\u001b[0m\n",
       "\u001b[1m   Row \u001b[0m│\u001b[1m onset \u001b[0m\u001b[1m duration \u001b[0m\u001b[1m sample_rate \u001b[0m\u001b[1m amplitude  \u001b[0m\u001b[1m phase     \u001b[0m\u001b[1m frequency \u001b[0m\u001b[1m decay\u001b[0m ⋯\n",
       "\u001b[1m       \u001b[0m│\u001b[90m Int64 \u001b[0m\u001b[90m Int64    \u001b[0m\u001b[90m Int64       \u001b[0m\u001b[90m Float64    \u001b[0m\u001b[90m Float64   \u001b[0m\u001b[90m Float64   \u001b[0m\u001b[90m Float\u001b[0m ⋯\n",
       "───────┼────────────────────────────────────────────────────────────────────────\n",
       "     1 │     0       512        44100  1.44979e-5   0.744313   20853.1     -5. ⋯\n",
       "     2 │     0       512        44100  1.44979e-5  -0.744313  -20853.1     -5.\n",
       "     3 │     0       512        44100  6.32332e-5  -1.76691    20999.7    -67.\n",
       "     4 │     0       512        44100  6.32332e-5   1.76691   -20999.7    -67.\n",
       "     5 │     0       512        44100  1.66388e-5  -1.839      20408.3    -28. ⋯\n",
       "     6 │     0       512        44100  1.66388e-5   1.839     -20408.3    -28.\n",
       "     7 │     0       512        44100  5.207e-5    -0.452759   20667.0    -88.\n",
       "     8 │     0       512        44100  5.207e-5     0.452759  -20667.0    -88.\n",
       "   ⋮   │   ⋮       ⋮           ⋮           ⋮           ⋮          ⋮          ⋮ ⋱\n",
       " 47413 │ 94720        83        44100  1.17763     -1.08306     1788.73  -898. ⋯\n",
       " 47414 │ 94720        83        44100  1.17763      1.08306    -1788.73  -898.\n",
       " 47415 │ 94720        83        44100  1.39008      0.275239    1314.72  -925.\n",
       " 47416 │ 94720        83        44100  1.39008     -0.275239   -1314.72  -925.\n",
       " 47417 │ 94720        83        44100  0.969085     1.97884      859.36  -945. ⋯\n",
       " 47418 │ 94720        83        44100  0.969085    -1.97884     -859.36  -945.\n",
       " 47419 │ 94720        83        44100  0.466578    -3.14159       -0.0   -951.\n",
       "\u001b[36m                                                4 columns and 47404 rows omitted\u001b[0m)"
      ]
     },
     "metadata": {},
     "output_type": "display_data"
    }
   ],
   "source": [
    "Hierarchy(df)"
   ]
  },
  {
   "cell_type": "code",
   "execution_count": 28,
   "id": "0b6f4cf0",
   "metadata": {},
   "outputs": [
    {
     "data": {
      "text/plain": [
       "Hierarchy"
      ]
     },
     "metadata": {},
     "output_type": "display_data"
    }
   ],
   "source": [
    "typeof(Hierarchy(df))"
   ]
  },
  {
   "cell_type": "code",
   "execution_count": 29,
   "id": "0f1fd91b",
   "metadata": {},
   "outputs": [
    {
     "data": {
      "text/plain": [
       "Id"
      ]
     },
     "metadata": {},
     "output_type": "display_data"
    }
   ],
   "source": [
    "typeof(Id(1))"
   ]
  },
  {
   "cell_type": "code",
   "execution_count": 30,
   "id": "1a41a4d8",
   "metadata": {},
   "outputs": [
    {
     "ename": "MethodError",
     "evalue": "MethodError: objects of type DataFrame are not callable",
     "output_type": "error",
     "traceback": [
      "MethodError: objects of type DataFrame are not callable\n",
      "\n",
      "Stacktrace:\n",
      " [1] fnd(x::Id, m::Hierarchy)\n",
      "   @ Main ~/Mirror/_MULTIMEDIA/THESIS/thesis/github/resonance-knowledge/Resonance.ipynb:4\n",
      " [2] top-level scope\n",
      "   @ ~/Mirror/_MULTIMEDIA/THESIS/thesis/github/resonance-knowledge/Resonance.ipynb:6"
     ]
    }
   ],
   "source": [
    "# Chakra.fnd(x::Id, h::Hierarchy)::Constituent = Constituent(h.value(x.value,:))\n",
    "# fnd(Id(1), Hierarchy(df))\n",
    "\n",
    "Chakra.fnd(x::Id,m::Hierarchy)::Constituent = fnd(m.value(x.value),:)\n",
    "\n",
    "fnd(Id(1), Hierarchy(df))"
   ]
  },
  {
   "cell_type": "code",
   "execution_count": 31,
   "id": "dfdd36cf",
   "metadata": {},
   "outputs": [
    {
     "ename": "UndefVarError",
     "evalue": "UndefVarError: Charm not defined",
     "output_type": "error",
     "traceback": [
      "UndefVarError: Charm not defined\n",
      "\n",
      "Stacktrace:\n",
      " [1] top-level scope\n",
      "   @ ~/Mirror/_MULTIMEDIA/THESIS/thesis/github/resonance-knowledge/Resonance.ipynb:2"
     ]
    }
   ],
   "source": [
    "# Add df to hierarchy?\n",
    "__data__ = Charm.Resonance.DataSet\n",
    "\n",
    "peek(m::Module) = peek(m.__data__)\n"
   ]
  },
  {
   "cell_type": "code",
   "execution_count": 32,
   "id": "fc1b05a1",
   "metadata": {},
   "outputs": [],
   "source": [
    "\n",
    "\n",
    "#Charm.getpitch()\n",
    "# resonance <: chakra.constituent\n",
    "\n",
    "\n",
    "\n",
    "# FREQ\n",
    "# struct FRQ <:Chakra.attribute(:req, Float64) end\n",
    "# Chakra.geta(:FREQ, c;;Constituent)::Float64 = c.value[\"<field in table\"]\n",
    "# Check\n",
    "# geta(FREQ(), fnd(Id(1), Hierarchy(df))))"
   ]
  },
  {
   "cell_type": "code",
   "execution_count": 33,
   "id": "cfdc2513",
   "metadata": {},
   "outputs": [
    {
     "data": {
      "text/plain": [
       "true"
      ]
     },
     "metadata": {},
     "output_type": "display_data"
    }
   ],
   "source": [
    "Chakra.isdatasource(Flute)  # moet true zijn!"
   ]
  },
  {
   "cell_type": "code",
   "execution_count": 34,
   "id": "aa766415",
   "metadata": {},
   "outputs": [
    {
     "ename": "UndefVarError",
     "evalue": "UndefVarError: Charm not defined",
     "output_type": "error",
     "traceback": [
      "UndefVarError: Charm not defined\n",
      "\n",
      "Stacktrace:\n",
      " [1] top-level scope\n",
      "   @ ~/Mirror/_MULTIMEDIA/THESIS/thesis/github/resonance-knowledge/Resonance.ipynb:1"
     ]
    }
   ],
   "source": [
    "x = Charm.Resonance.id(\"flute_a4.csv\")"
   ]
  },
  {
   "cell_type": "code",
   "execution_count": 35,
   "id": "c713a7b0",
   "metadata": {},
   "outputs": [
    {
     "ename": "UndefVarError",
     "evalue": "UndefVarError: Charm not defined",
     "output_type": "error",
     "traceback": [
      "UndefVarError: Charm not defined\n",
      "\n",
      "Stacktrace:\n",
      " [1] top-level scope\n",
      "   @ ~/Mirror/_MULTIMEDIA/THESIS/thesis/github/resonance-knowledge/Resonance.ipynb:1"
     ]
    }
   ],
   "source": [
    "x = Charm.Midi.id(\"syrinx.mid\")"
   ]
  },
  {
   "cell_type": "code",
   "execution_count": 36,
   "id": "8aeb98c4",
   "metadata": {},
   "outputs": [
    {
     "ename": "UndefVarError",
     "evalue": "UndefVarError: Syrinx not defined",
     "output_type": "error",
     "traceback": [
      "UndefVarError: Syrinx not defined\n",
      "\n",
      "Stacktrace:\n",
      " [1] top-level scope\n",
      "   @ ~/Mirror/_MULTIMEDIA/THESIS/thesis/github/resonance-knowledge/Resonance.ipynb:1"
     ]
    }
   ],
   "source": [
    "syrinx = fnd(x,Syrinx)"
   ]
  },
  {
   "cell_type": "code",
   "execution_count": 37,
   "id": "27bededf",
   "metadata": {},
   "outputs": [
    {
     "ename": "UndefVarError",
     "evalue": "UndefVarError: syrinx not defined",
     "output_type": "error",
     "traceback": [
      "UndefVarError: syrinx not defined\n",
      "\n",
      "Stacktrace:\n",
      " [1] top-level scope\n",
      "   @ ~/Mirror/_MULTIMEDIA/THESIS/thesis/github/resonance-knowledge/Resonance.ipynb:1"
     ]
    }
   ],
   "source": [
    "typeof(syrinx)"
   ]
  },
  {
   "cell_type": "code",
   "execution_count": 38,
   "id": "2283d0b0",
   "metadata": {},
   "outputs": [
    {
     "ename": "UndefVarError",
     "evalue": "UndefVarError: syrinx not defined",
     "output_type": "error",
     "traceback": [
      "UndefVarError: syrinx not defined\n",
      "\n",
      "Stacktrace:\n",
      " [1] top-level scope\n",
      "   @ ~/Mirror/_MULTIMEDIA/THESIS/thesis/github/resonance-knowledge/Resonance.ipynb:1"
     ]
    }
   ],
   "source": [
    "tracks = pts(syrinx)"
   ]
  },
  {
   "cell_type": "code",
   "execution_count": 39,
   "id": "5f098334",
   "metadata": {},
   "outputs": [
    {
     "ename": "UndefVarError",
     "evalue": "UndefVarError: tracks not defined",
     "output_type": "error",
     "traceback": [
      "UndefVarError: tracks not defined\n",
      "\n",
      "Stacktrace:\n",
      " [1] top-level scope\n",
      "   @ ~/Mirror/_MULTIMEDIA/THESIS/thesis/github/resonance-knowledge/Resonance.ipynb:1"
     ]
    }
   ],
   "source": [
    "track1 = tracks[1]"
   ]
  },
  {
   "cell_type": "code",
   "execution_count": 40,
   "id": "b826bba3",
   "metadata": {},
   "outputs": [
    {
     "ename": "UndefVarError",
     "evalue": "UndefVarError: track1 not defined",
     "output_type": "error",
     "traceback": [
      "UndefVarError: track1 not defined\n",
      "\n",
      "Stacktrace:\n",
      " [1] top-level scope\n",
      "   @ ~/Mirror/_MULTIMEDIA/THESIS/thesis/github/resonance-knowledge/Resonance.ipynb:1"
     ]
    }
   ],
   "source": [
    "track1 = fnd(track1,Syrinx)"
   ]
  },
  {
   "cell_type": "code",
   "execution_count": 41,
   "id": "2bf9bb18",
   "metadata": {},
   "outputs": [
    {
     "ename": "UndefVarError",
     "evalue": "UndefVarError: track1 not defined",
     "output_type": "error",
     "traceback": [
      "UndefVarError: track1 not defined\n",
      "\n",
      "Stacktrace:\n",
      " [1] top-level scope\n",
      "   @ ~/Mirror/_MULTIMEDIA/THESIS/thesis/github/resonance-knowledge/Resonance.ipynb:1"
     ]
    }
   ],
   "source": [
    "notes = pts(track1)"
   ]
  },
  {
   "cell_type": "code",
   "execution_count": 42,
   "id": "76ffa51f",
   "metadata": {},
   "outputs": [
    {
     "ename": "UndefVarError",
     "evalue": "UndefVarError: Charm not defined",
     "output_type": "error",
     "traceback": [
      "UndefVarError: Charm not defined\n",
      "\n",
      "Stacktrace:\n",
      " [1] top-level scope\n",
      "   @ ~/Mirror/_MULTIMEDIA/THESIS/thesis/github/resonance-knowledge/Resonance.ipynb:1"
     ]
    }
   ],
   "source": [
    "note1 = fnd(Charm.Midi.id(\"syrinx.mid\",1,1),Syrinx)"
   ]
  },
  {
   "cell_type": "code",
   "execution_count": 43,
   "id": "375e40d9",
   "metadata": {},
   "outputs": [
    {
     "ename": "UndefVarError",
     "evalue": "UndefVarError: getpitch not defined",
     "output_type": "error",
     "traceback": [
      "UndefVarError: getpitch not defined\n",
      "\n",
      "Stacktrace:\n",
      " [1] top-level scope\n",
      "   @ ~/Mirror/_MULTIMEDIA/THESIS/thesis/github/resonance-knowledge/Resonance.ipynb:1"
     ]
    }
   ],
   "source": [
    "getpitch(note1)"
   ]
  },
  {
   "cell_type": "code",
   "execution_count": 44,
   "id": "472cc9ed",
   "metadata": {},
   "outputs": [
    {
     "ename": "UndefVarError",
     "evalue": "UndefVarError: getonset not defined",
     "output_type": "error",
     "traceback": [
      "UndefVarError: getonset not defined\n",
      "\n",
      "Stacktrace:\n",
      " [1] top-level scope\n",
      "   @ ~/Mirror/_MULTIMEDIA/THESIS/thesis/github/resonance-knowledge/Resonance.ipynb:1"
     ]
    }
   ],
   "source": [
    "getonset(note1)"
   ]
  },
  {
   "cell_type": "code",
   "execution_count": 45,
   "id": "b55181f6",
   "metadata": {},
   "outputs": [
    {
     "ename": "UndefVarError",
     "evalue": "UndefVarError: getduration not defined",
     "output_type": "error",
     "traceback": [
      "UndefVarError: getduration not defined\n",
      "\n",
      "Stacktrace:\n",
      " [1] top-level scope\n",
      "   @ ~/Mirror/_MULTIMEDIA/THESIS/thesis/github/resonance-knowledge/Resonance.ipynb:1"
     ]
    }
   ],
   "source": [
    "getduration(note1)"
   ]
  },
  {
   "cell_type": "code",
   "execution_count": 46,
   "id": "80864dac",
   "metadata": {},
   "outputs": [
    {
     "ename": "UndefVarError",
     "evalue": "UndefVarError: Charm not defined",
     "output_type": "error",
     "traceback": [
      "UndefVarError: Charm not defined\n",
      "\n",
      "Stacktrace:\n",
      " [1] top-level scope\n",
      "   @ ~/Mirror/_MULTIMEDIA/THESIS/thesis/github/resonance-knowledge/Resonance.ipynb:1"
     ]
    }
   ],
   "source": [
    "fnd(Charm.Midi.id(\"syrinx.mid\",2,1),Syrinx)"
   ]
  },
  {
   "cell_type": "code",
   "execution_count": 47,
   "id": "4d0bb2f6",
   "metadata": {},
   "outputs": [
    {
     "ename": "UndefVarError",
     "evalue": "UndefVarError: notes not defined",
     "output_type": "error",
     "traceback": [
      "UndefVarError: notes not defined\n",
      "\n",
      "Stacktrace:\n",
      " [1] top-level scope\n",
      "   @ ./timing.jl:262 [inlined]\n",
      " [2] top-level scope\n",
      "   @ ~/Mirror/_MULTIMEDIA/THESIS/thesis/github/resonance-knowledge/Resonance.ipynb:0"
     ]
    }
   ],
   "source": [
    "@time notes = sequence(notes,Syrinx) #question"
   ]
  },
  {
   "cell_type": "code",
   "execution_count": 48,
   "id": "d022407c",
   "metadata": {},
   "outputs": [
    {
     "ename": "UndefVarError",
     "evalue": "UndefVarError: Charm not defined",
     "output_type": "error",
     "traceback": [
      "UndefVarError: Charm not defined\n",
      "\n",
      "Stacktrace:\n",
      " [1] top-level scope\n",
      "   @ ~/Mirror/_MULTIMEDIA/THESIS/thesis/github/resonance-knowledge/Resonance.ipynb:1"
     ]
    }
   ],
   "source": [
    "pitchvp = vp(Charm.Attribute(:pitch))\n",
    "onsetvp = vp(Charm.Attribute(:onset))\n",
    "X = link(pitchvp,onsetvp)"
   ]
  },
  {
   "cell_type": "code",
   "execution_count": 49,
   "id": "b53cd515",
   "metadata": {},
   "outputs": [
    {
     "ename": "UndefVarError",
     "evalue": "UndefVarError: pitchvp not defined",
     "output_type": "error",
     "traceback": [
      "UndefVarError: pitchvp not defined\n",
      "\n",
      "Stacktrace:\n",
      " [1] top-level scope\n",
      "   @ ~/Mirror/_MULTIMEDIA/THESIS/thesis/github/resonance-knowledge/Resonance.ipynb:1"
     ]
    }
   ],
   "source": [
    "typeof(pitchvp)"
   ]
  },
  {
   "cell_type": "code",
   "execution_count": 50,
   "id": "f3d8cc2f",
   "metadata": {},
   "outputs": [
    {
     "ename": "UndefVarError",
     "evalue": "UndefVarError: X not defined",
     "output_type": "error",
     "traceback": [
      "UndefVarError: X not defined\n",
      "\n",
      "Stacktrace:\n",
      " [1] top-level scope\n",
      "   @ ~/Mirror/_MULTIMEDIA/THESIS/thesis/github/resonance-knowledge/Resonance.ipynb:1"
     ]
    }
   ],
   "source": [
    "vp_map(X,notes)"
   ]
  },
  {
   "cell_type": "code",
   "execution_count": 51,
   "id": "933f2294",
   "metadata": {},
   "outputs": [
    {
     "ename": "UndefVarError",
     "evalue": "UndefVarError: note1 not defined",
     "output_type": "error",
     "traceback": [
      "UndefVarError: note1 not defined\n",
      "\n",
      "Stacktrace:\n",
      " [1] top-level scope\n",
      "   @ ~/Mirror/_MULTIMEDIA/THESIS/thesis/github/resonance-knowledge/Resonance.ipynb:1"
     ]
    }
   ],
   "source": [
    "p1 = geta(\"Charm.pitch\",note1)"
   ]
  },
  {
   "cell_type": "code",
   "execution_count": 52,
   "id": "b5d24a03",
   "metadata": {},
   "outputs": [
    {
     "ename": "UndefVarError",
     "evalue": "UndefVarError: Syrinx not defined",
     "output_type": "error",
     "traceback": [
      "UndefVarError: Syrinx not defined\n",
      "\n",
      "Stacktrace:\n",
      " [1] top-level scope\n",
      "   @ ~/Mirror/_MULTIMEDIA/THESIS/thesis/github/resonance-knowledge/Resonance.ipynb:1"
     ]
    }
   ],
   "source": [
    "p2 = geta(\"Charm.pitch\",fnd(Syrinx.id(1,2),Syrinx))"
   ]
  },
  {
   "cell_type": "code",
   "execution_count": 53,
   "id": "d114ca60",
   "metadata": {},
   "outputs": [
    {
     "ename": "UndefVarError",
     "evalue": "UndefVarError: Charm not defined",
     "output_type": "error",
     "traceback": [
      "UndefVarError: Charm not defined\n",
      "\n",
      "Stacktrace:\n",
      " [1] top-level scope\n",
      "   @ ~/Mirror/_MULTIMEDIA/THESIS/thesis/github/resonance-knowledge/Resonance.ipynb:1"
     ]
    }
   ],
   "source": [
    "Charm.diff(p1,p2)    # dit is interval"
   ]
  },
  {
   "cell_type": "code",
   "execution_count": 54,
   "id": "b94fcbbc",
   "metadata": {},
   "outputs": [
    {
     "ename": "UndefVarError",
     "evalue": "UndefVarError: p2 not defined",
     "output_type": "error",
     "traceback": [
      "UndefVarError: p2 not defined\n",
      "\n",
      "Stacktrace:\n",
      " [1] top-level scope\n",
      "   @ ~/Mirror/_MULTIMEDIA/THESIS/thesis/github/resonance-knowledge/Resonance.ipynb:1"
     ]
    }
   ],
   "source": [
    "p2 <= p1"
   ]
  },
  {
   "cell_type": "code",
   "execution_count": 55,
   "id": "905906d6",
   "metadata": {},
   "outputs": [
    {
     "ename": "UndefVarError",
     "evalue": "UndefVarError: Charm not defined",
     "output_type": "error",
     "traceback": [
      "UndefVarError: Charm not defined\n",
      "\n",
      "Stacktrace:\n",
      " [1] top-level scope\n",
      "   @ ~/Mirror/_MULTIMEDIA/THESIS/thesis/github/resonance-knowledge/Resonance.ipynb:3"
     ]
    }
   ],
   "source": [
    "# Charm.Midi.Pitch vervangen\n",
    "\n",
    "Base.:<=(x::Charm.Pitch,y::Charm.Pitch)::Bool = x.value <= y.value "
   ]
  },
  {
   "cell_type": "code",
   "execution_count": 56,
   "id": "56ba1722",
   "metadata": {},
   "outputs": [
    {
     "ename": "UndefVarError",
     "evalue": "UndefVarError: p1 not defined",
     "output_type": "error",
     "traceback": [
      "UndefVarError: p1 not defined\n",
      "\n",
      "Stacktrace:\n",
      " [1] top-level scope\n",
      "   @ ~/Mirror/_MULTIMEDIA/THESIS/thesis/github/resonance-knowledge/Resonance.ipynb:1"
     ]
    }
   ],
   "source": [
    "p1 <= p2"
   ]
  }
 ],
 "metadata": {
  "kernelspec": {
   "display_name": "Julia 1.8.5",
   "language": "julia",
   "name": "julia-1.8"
  },
  "language_info": {
   "file_extension": ".jl",
   "mimetype": "application/julia",
   "name": "julia",
   "version": "1.8.5"
  }
 },
 "nbformat": 4,
 "nbformat_minor": 5
}
