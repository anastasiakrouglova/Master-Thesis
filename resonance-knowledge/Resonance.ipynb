{
 "cells": [
  {
   "cell_type": "code",
   "execution_count": 209,
   "id": "ce277a8c",
   "metadata": {},
   "outputs": [
    {
     "name": "stderr",
     "output_type": "stream",
     "text": [
      "WARNING: replacing module Flute.\n"
     ]
    },
    {
     "data": {
      "text/plain": [
       "Main.Flute"
      ]
     },
     "metadata": {},
     "output_type": "display_data"
    }
   ],
   "source": [
    "#Pkg.instantiate()\n",
    "\n",
    "using Chakra #, Charm\n",
    "#include(\"./src/Charm.jl\") \n",
    "include(\"./src/Flute.jl\")\n",
    "#using .Flute"
   ]
  },
  {
   "cell_type": "code",
   "execution_count": 61,
   "id": "77785f26",
   "metadata": {},
   "outputs": [
    {
     "data": {
      "text/plain": [
       "Module"
      ]
     },
     "metadata": {},
     "output_type": "display_data"
    }
   ],
   "source": [
    "Chakra.isdatasource(Flute)\n",
    "typeof(Flute)"
   ]
  },
  {
   "cell_type": "code",
   "execution_count": 157,
   "id": "238a66ff",
   "metadata": {},
   "outputs": [
    {
     "data": {
      "text/plain": [
       "Main.Flute.Resonances.ResonanceId(10)"
      ]
     },
     "metadata": {},
     "output_type": "display_data"
    }
   ],
   "source": [
    "x = Flute.Resonances.id(10)"
   ]
  },
  {
   "cell_type": "code",
   "execution_count": 158,
   "id": "36ccc072",
   "metadata": {},
   "outputs": [
    {
     "data": {
      "text/plain": [
       "Main.Flute.Resonances.Resonance(\u001b[1mDataFrameRow\u001b[0m\n",
       "\u001b[1m Row \u001b[0m│\u001b[1m onset \u001b[0m\u001b[1m duration \u001b[0m\u001b[1m sample_rate \u001b[0m\u001b[1m amplitude  \u001b[0m\u001b[1m phase     \u001b[0m\u001b[1m frequency \u001b[0m\u001b[1m decay  \u001b[0m ⋯\n",
       "\u001b[1m     \u001b[0m│\u001b[90m Int64 \u001b[0m\u001b[90m Int64    \u001b[0m\u001b[90m Int64       \u001b[0m\u001b[90m Float64    \u001b[0m\u001b[90m Float64   \u001b[0m\u001b[90m Float64   \u001b[0m\u001b[90m Float64\u001b[0m ⋯\n",
       "─────┼──────────────────────────────────────────────────────────────────────────\n",
       "  10 │     0       512        44100  8.45435e-5  -0.766382   -20398.8  -137.77 ⋯\n",
       "\u001b[36m                                                               5 columns omitted\u001b[0m)"
      ]
     },
     "metadata": {},
     "output_type": "display_data"
    }
   ],
   "source": [
    "fnd(x, Flute)"
   ]
  },
  {
   "cell_type": "code",
   "execution_count": 159,
   "id": "d8cc86b0",
   "metadata": {},
   "outputs": [
    {
     "data": {
      "text/plain": [
       "Main.Flute.Resonances.Id[]"
      ]
     },
     "metadata": {},
     "output_type": "display_data"
    }
   ],
   "source": [
    "pts(fnd(x, Flute))"
   ]
  },
  {
   "cell_type": "code",
   "execution_count": 210,
   "id": "7b3bc24e",
   "metadata": {},
   "outputs": [
    {
     "data": {
      "text/plain": [
       "Main.Flute.Resonances.SliceId(0)"
      ]
     },
     "metadata": {},
     "output_type": "display_data"
    }
   ],
   "source": [
    "s = Flute.Resonances.sId(0)\n",
    "#Chakra.fnd(x::SliceId, m::Dataset) = Chakra.fnd(x,m.dataset)"
   ]
  },
  {
   "cell_type": "code",
   "execution_count": 108,
   "id": "0c632ab3",
   "metadata": {},
   "outputs": [
    {
     "data": {
      "text/plain": [
       "Main.Flute"
      ]
     },
     "metadata": {},
     "output_type": "display_data"
    }
   ],
   "source": [
    "Flute"
   ]
  },
  {
   "cell_type": "code",
   "execution_count": 215,
   "id": "2509ecb7",
   "metadata": {},
   "outputs": [
    {
     "data": {
      "text/plain": [
       "Main.Flute.Resonances.Slice(512, \u001b[1m256×11 DataFrame\u001b[0m\n",
       "\u001b[1m Row \u001b[0m│\u001b[1m onset \u001b[0m\u001b[1m duration \u001b[0m\u001b[1m sample_rate \u001b[0m\u001b[1m amplitude  \u001b[0m\u001b[1m phase     \u001b[0m\u001b[1m frequency  \u001b[0m\u001b[1m decay \u001b[0m ⋯\n",
       "\u001b[1m     \u001b[0m│\u001b[90m Int64 \u001b[0m\u001b[90m Int64    \u001b[0m\u001b[90m Int64       \u001b[0m\u001b[90m Float64    \u001b[0m\u001b[90m Float64   \u001b[0m\u001b[90m Float64    \u001b[0m\u001b[90m Float6\u001b[0m ⋯\n",
       "─────┼──────────────────────────────────────────────────────────────────────────\n",
       "   1 │   512       512        44100  3.24214e-5  -2.72549    21929.6    -20.86 ⋯\n",
       "   2 │   512       512        44100  3.24214e-5   2.72549   -21929.6    -20.86\n",
       "   3 │   512       512        44100  2.08685e-5   2.28917    21374.3    -29.10\n",
       "   4 │   512       512        44100  2.08685e-5  -2.28917   -21374.3    -29.10\n",
       "   5 │   512       512        44100  3.86042e-5  -1.52318    21796.4    -70.26 ⋯\n",
       "   6 │   512       512        44100  3.86042e-5   1.52318   -21796.4    -70.26\n",
       "   7 │   512       512        44100  5.49219e-5  -2.65152    21133.1    -46.34\n",
       "   8 │   512       512        44100  5.49219e-5   2.65152   -21133.1    -46.34\n",
       "  ⋮  │   ⋮       ⋮           ⋮           ⋮           ⋮          ⋮           ⋮  ⋱\n",
       " 250 │   512       512        44100  6.3919e-6   -1.93222      743.853   31.30 ⋯\n",
       " 251 │   512       512        44100  5.45829e-5   1.09155     -906.722    7.69\n",
       " 252 │   512       512        44100  5.45829e-5  -1.09155      906.722    7.69\n",
       " 253 │   512       512        44100  6.26785e-5  -1.48955     -474.396   24.21\n",
       " 254 │   512       512        44100  6.26785e-5   1.48955      474.396   24.21 ⋯\n",
       " 255 │   512       512        44100  0.00163506   2.12707     -443.7      7.47\n",
       " 256 │   512       512        44100  0.00163506  -2.12707      443.7      7.47\n",
       "\u001b[36m                                                  5 columns and 241 rows omitted\u001b[0m)"
      ]
     },
     "metadata": {},
     "output_type": "display_data"
    }
   ],
   "source": [
    "# filter on onset 0\n",
    "filter(512, Flute) # Flute.__data__ is type DataSet\n",
    "\n",
    "\n",
    "# Todo: divide onset by duration and take modulo"
   ]
  },
  {
   "cell_type": "code",
   "execution_count": 7,
   "id": "4d502344",
   "metadata": {},
   "outputs": [
    {
     "data": {
      "text/plain": [
       "Main.Flute.Resonances.Id[]"
      ]
     },
     "metadata": {},
     "output_type": "display_data"
    }
   ],
   "source": [
    "# find particles: will be empty because no smaller paricles\n",
    "pts(fnd(x, Flute))"
   ]
  },
  {
   "cell_type": "code",
   "execution_count": 172,
   "id": "efd5f651",
   "metadata": {},
   "outputs": [
    {
     "data": {
      "text/html": [
       "<table class=\"data-frame\"><thead><tr><th></th><th>onset</th><th>duration</th><th>sample_rate</th><th>amplitude</th><th>phase</th><th>frequency</th><th>decay</th><th>d</th></tr><tr><th></th><th>Int64</th><th>Int64</th><th>Int64</th><th>Float64</th><th>Float64</th><th>Float64</th><th>Float64</th><th>String</th></tr></thead><tbody><p>256 rows × 11 columns (omitted printing of 3 columns)</p><tr><th>1</th><td>0</td><td>512</td><td>44100</td><td>1.44979e-5</td><td>0.744313</td><td>20853.1</td><td>-5.42827</td><td>(1.066396509533436e-05+9.821831181398802e-06j)</td></tr><tr><th>2</th><td>0</td><td>512</td><td>44100</td><td>1.44979e-5</td><td>-0.744313</td><td>-20853.1</td><td>-5.42827</td><td>(1.066396509533436e-05-9.821831181398802e-06j)</td></tr><tr><th>3</th><td>0</td><td>512</td><td>44100</td><td>6.32332e-5</td><td>-1.76691</td><td>20999.7</td><td>-67.7452</td><td>(-1.2321381458592376e-05-6.202117273955251e-05j)</td></tr><tr><th>4</th><td>0</td><td>512</td><td>44100</td><td>6.32332e-5</td><td>1.76691</td><td>-20999.7</td><td>-67.7452</td><td>(-1.2321381458592376e-05+6.202117273955251e-05j)</td></tr><tr><th>5</th><td>0</td><td>512</td><td>44100</td><td>1.66388e-5</td><td>-1.839</td><td>20408.3</td><td>-28.1234</td><td>(-4.409232008996862e-06-1.6043939281226276e-05j)</td></tr><tr><th>6</th><td>0</td><td>512</td><td>44100</td><td>1.66388e-5</td><td>1.839</td><td>-20408.3</td><td>-28.1234</td><td>(-4.409232008996862e-06+1.6043939281226276e-05j)</td></tr><tr><th>7</th><td>0</td><td>512</td><td>44100</td><td>5.207e-5</td><td>-0.452759</td><td>20667.0</td><td>-88.9087</td><td>(4.682363739734273e-05-2.2777940727223e-05j)</td></tr><tr><th>8</th><td>0</td><td>512</td><td>44100</td><td>5.207e-5</td><td>0.452759</td><td>-20667.0</td><td>-88.9087</td><td>(4.682363739734273e-05+2.2777940727223e-05j)</td></tr><tr><th>9</th><td>0</td><td>512</td><td>44100</td><td>8.45435e-5</td><td>0.766382</td><td>20398.8</td><td>-137.773</td><td>(6.090719377016318e-05+5.863373958946074e-05j)</td></tr><tr><th>10</th><td>0</td><td>512</td><td>44100</td><td>8.45435e-5</td><td>-0.766382</td><td>-20398.8</td><td>-137.773</td><td>(6.090719377016318e-05-5.863373958946074e-05j)</td></tr><tr><th>11</th><td>0</td><td>512</td><td>44100</td><td>1.24517e-5</td><td>1.69691</td><td>19895.7</td><td>-5.94804</td><td>(-1.5662208953837887e-06+1.23527629666078e-05j)</td></tr><tr><th>12</th><td>0</td><td>512</td><td>44100</td><td>1.24517e-5</td><td>-1.69691</td><td>-19895.7</td><td>-5.94804</td><td>(-1.5662208953837887e-06-1.23527629666078e-05j)</td></tr><tr><th>13</th><td>0</td><td>512</td><td>44100</td><td>2.1546e-5</td><td>-0.223913</td><td>19309.6</td><td>-34.8595</td><td>(2.1008146459838956e-05-4.784228472195948e-06j)</td></tr><tr><th>14</th><td>0</td><td>512</td><td>44100</td><td>2.1546e-5</td><td>0.223913</td><td>-19309.6</td><td>-34.8595</td><td>(2.1008146459838956e-05+4.784228472195948e-06j)</td></tr><tr><th>15</th><td>0</td><td>512</td><td>44100</td><td>6.392e-6</td><td>2.11944</td><td>18012.4</td><td>-8.19997</td><td>(-3.3336373414789742e-06+5.453858073382988e-06j)</td></tr><tr><th>16</th><td>0</td><td>512</td><td>44100</td><td>6.392e-6</td><td>-2.11944</td><td>-18012.4</td><td>-8.19997</td><td>(-3.3336373414789742e-06-5.453858073382988e-06j)</td></tr><tr><th>17</th><td>0</td><td>512</td><td>44100</td><td>3.41299e-5</td><td>2.58003</td><td>17861.1</td><td>-104.131</td><td>(-2.88883007364025e-05+1.8174539059536452e-05j)</td></tr><tr><th>18</th><td>0</td><td>512</td><td>44100</td><td>3.41299e-5</td><td>-2.58003</td><td>-17861.1</td><td>-104.131</td><td>(-2.88883007364025e-05-1.8174539059536452e-05j)</td></tr><tr><th>19</th><td>0</td><td>512</td><td>44100</td><td>2.70559e-5</td><td>-1.26059</td><td>17333.4</td><td>-171.531</td><td>(8.258927341460945e-06-2.576451698913646e-05j)</td></tr><tr><th>20</th><td>0</td><td>512</td><td>44100</td><td>2.70559e-5</td><td>1.26059</td><td>-17333.4</td><td>-171.531</td><td>(8.258927341460945e-06+2.576451698913646e-05j)</td></tr><tr><th>21</th><td>0</td><td>512</td><td>44100</td><td>3.3192e-5</td><td>-0.296473</td><td>16845.8</td><td>-105.383</td><td>(3.1743936870460894e-05-9.696994557918992e-06j)</td></tr><tr><th>22</th><td>0</td><td>512</td><td>44100</td><td>3.3192e-5</td><td>0.296473</td><td>-16845.8</td><td>-105.383</td><td>(3.1743936870460894e-05+9.696994557918992e-06j)</td></tr><tr><th>23</th><td>0</td><td>512</td><td>44100</td><td>4.99603e-6</td><td>0.663148</td><td>16633.5</td><td>-2.63969</td><td>(3.93716176604483e-06+3.0755571140082182e-06j)</td></tr><tr><th>24</th><td>0</td><td>512</td><td>44100</td><td>4.99603e-6</td><td>-0.663148</td><td>-16633.5</td><td>-2.63969</td><td>(3.93716176604483e-06-3.0755571140082182e-06j)</td></tr><tr><th>&vellip;</th><td>&vellip;</td><td>&vellip;</td><td>&vellip;</td><td>&vellip;</td><td>&vellip;</td><td>&vellip;</td><td>&vellip;</td><td>&vellip;</td></tr></tbody></table>"
      ],
      "text/latex": [
       "\\begin{tabular}{r|ccccccccc}\n",
       "\t& onset & duration & sample\\_rate & amplitude & phase & frequency & decay & d & \\\\\n",
       "\t\\hline\n",
       "\t& Int64 & Int64 & Int64 & Float64 & Float64 & Float64 & Float64 & String & \\\\\n",
       "\t\\hline\n",
       "\t1 & 0 & 512 & 44100 & 1.44979e-5 & 0.744313 & 20853.1 & -5.42827 & (1.066396509533436e-05+9.821831181398802e-06j) & $\\dots$ \\\\\n",
       "\t2 & 0 & 512 & 44100 & 1.44979e-5 & -0.744313 & -20853.1 & -5.42827 & (1.066396509533436e-05-9.821831181398802e-06j) & $\\dots$ \\\\\n",
       "\t3 & 0 & 512 & 44100 & 6.32332e-5 & -1.76691 & 20999.7 & -67.7452 & (-1.2321381458592376e-05-6.202117273955251e-05j) & $\\dots$ \\\\\n",
       "\t4 & 0 & 512 & 44100 & 6.32332e-5 & 1.76691 & -20999.7 & -67.7452 & (-1.2321381458592376e-05+6.202117273955251e-05j) & $\\dots$ \\\\\n",
       "\t5 & 0 & 512 & 44100 & 1.66388e-5 & -1.839 & 20408.3 & -28.1234 & (-4.409232008996862e-06-1.6043939281226276e-05j) & $\\dots$ \\\\\n",
       "\t6 & 0 & 512 & 44100 & 1.66388e-5 & 1.839 & -20408.3 & -28.1234 & (-4.409232008996862e-06+1.6043939281226276e-05j) & $\\dots$ \\\\\n",
       "\t7 & 0 & 512 & 44100 & 5.207e-5 & -0.452759 & 20667.0 & -88.9087 & (4.682363739734273e-05-2.2777940727223e-05j) & $\\dots$ \\\\\n",
       "\t8 & 0 & 512 & 44100 & 5.207e-5 & 0.452759 & -20667.0 & -88.9087 & (4.682363739734273e-05+2.2777940727223e-05j) & $\\dots$ \\\\\n",
       "\t9 & 0 & 512 & 44100 & 8.45435e-5 & 0.766382 & 20398.8 & -137.773 & (6.090719377016318e-05+5.863373958946074e-05j) & $\\dots$ \\\\\n",
       "\t10 & 0 & 512 & 44100 & 8.45435e-5 & -0.766382 & -20398.8 & -137.773 & (6.090719377016318e-05-5.863373958946074e-05j) & $\\dots$ \\\\\n",
       "\t11 & 0 & 512 & 44100 & 1.24517e-5 & 1.69691 & 19895.7 & -5.94804 & (-1.5662208953837887e-06+1.23527629666078e-05j) & $\\dots$ \\\\\n",
       "\t12 & 0 & 512 & 44100 & 1.24517e-5 & -1.69691 & -19895.7 & -5.94804 & (-1.5662208953837887e-06-1.23527629666078e-05j) & $\\dots$ \\\\\n",
       "\t13 & 0 & 512 & 44100 & 2.1546e-5 & -0.223913 & 19309.6 & -34.8595 & (2.1008146459838956e-05-4.784228472195948e-06j) & $\\dots$ \\\\\n",
       "\t14 & 0 & 512 & 44100 & 2.1546e-5 & 0.223913 & -19309.6 & -34.8595 & (2.1008146459838956e-05+4.784228472195948e-06j) & $\\dots$ \\\\\n",
       "\t15 & 0 & 512 & 44100 & 6.392e-6 & 2.11944 & 18012.4 & -8.19997 & (-3.3336373414789742e-06+5.453858073382988e-06j) & $\\dots$ \\\\\n",
       "\t16 & 0 & 512 & 44100 & 6.392e-6 & -2.11944 & -18012.4 & -8.19997 & (-3.3336373414789742e-06-5.453858073382988e-06j) & $\\dots$ \\\\\n",
       "\t17 & 0 & 512 & 44100 & 3.41299e-5 & 2.58003 & 17861.1 & -104.131 & (-2.88883007364025e-05+1.8174539059536452e-05j) & $\\dots$ \\\\\n",
       "\t18 & 0 & 512 & 44100 & 3.41299e-5 & -2.58003 & -17861.1 & -104.131 & (-2.88883007364025e-05-1.8174539059536452e-05j) & $\\dots$ \\\\\n",
       "\t19 & 0 & 512 & 44100 & 2.70559e-5 & -1.26059 & 17333.4 & -171.531 & (8.258927341460945e-06-2.576451698913646e-05j) & $\\dots$ \\\\\n",
       "\t20 & 0 & 512 & 44100 & 2.70559e-5 & 1.26059 & -17333.4 & -171.531 & (8.258927341460945e-06+2.576451698913646e-05j) & $\\dots$ \\\\\n",
       "\t21 & 0 & 512 & 44100 & 3.3192e-5 & -0.296473 & 16845.8 & -105.383 & (3.1743936870460894e-05-9.696994557918992e-06j) & $\\dots$ \\\\\n",
       "\t22 & 0 & 512 & 44100 & 3.3192e-5 & 0.296473 & -16845.8 & -105.383 & (3.1743936870460894e-05+9.696994557918992e-06j) & $\\dots$ \\\\\n",
       "\t23 & 0 & 512 & 44100 & 4.99603e-6 & 0.663148 & 16633.5 & -2.63969 & (3.93716176604483e-06+3.0755571140082182e-06j) & $\\dots$ \\\\\n",
       "\t24 & 0 & 512 & 44100 & 4.99603e-6 & -0.663148 & -16633.5 & -2.63969 & (3.93716176604483e-06-3.0755571140082182e-06j) & $\\dots$ \\\\\n",
       "\t$\\dots$ & $\\dots$ & $\\dots$ & $\\dots$ & $\\dots$ & $\\dots$ & $\\dots$ & $\\dots$ & $\\dots$ &  \\\\\n",
       "\\end{tabular}\n"
      ],
      "text/plain": [
       "\u001b[1m256×11 DataFrame\u001b[0m\n",
       "\u001b[1m Row \u001b[0m│\u001b[1m onset \u001b[0m\u001b[1m duration \u001b[0m\u001b[1m sample_rate \u001b[0m\u001b[1m amplitude   \u001b[0m\u001b[1m phase     \u001b[0m\u001b[1m frequency  \u001b[0m\u001b[1m decay\u001b[0m ⋯\n",
       "\u001b[1m     \u001b[0m│\u001b[90m Int64 \u001b[0m\u001b[90m Int64    \u001b[0m\u001b[90m Int64       \u001b[0m\u001b[90m Float64     \u001b[0m\u001b[90m Float64   \u001b[0m\u001b[90m Float64    \u001b[0m\u001b[90m Float\u001b[0m ⋯\n",
       "─────┼──────────────────────────────────────────────────────────────────────────\n",
       "   1 │     0       512        44100  1.44979e-5    0.744313   20853.1      -5. ⋯\n",
       "   2 │     0       512        44100  1.44979e-5   -0.744313  -20853.1      -5.\n",
       "   3 │     0       512        44100  6.32332e-5   -1.76691    20999.7     -67.\n",
       "   4 │     0       512        44100  6.32332e-5    1.76691   -20999.7     -67.\n",
       "   5 │     0       512        44100  1.66388e-5   -1.839      20408.3     -28. ⋯\n",
       "   6 │     0       512        44100  1.66388e-5    1.839     -20408.3     -28.\n",
       "   7 │     0       512        44100  5.207e-5     -0.452759   20667.0     -88.\n",
       "   8 │     0       512        44100  5.207e-5      0.452759  -20667.0     -88.\n",
       "  ⋮  │   ⋮       ⋮           ⋮            ⋮           ⋮          ⋮           ⋮ ⋱\n",
       " 250 │     0       512        44100  4.37306e-6    0.958034    1568.26     35. ⋯\n",
       " 251 │     0       512        44100  2.70589e-6    2.14342     -835.245    48.\n",
       " 252 │     0       512        44100  2.70589e-6   -2.14342      835.245    48.\n",
       " 253 │     0       512        44100  8.02537e-7    0.699938    -424.191    80.\n",
       " 254 │     0       512        44100  8.02537e-7   -0.699938     424.191    80. ⋯\n",
       " 255 │     0       512        44100  0.000757498   1.3842      -442.579     9.\n",
       " 256 │     0       512        44100  0.000757498  -1.3842       442.579     9.\n",
       "\u001b[36m                                                  5 columns and 241 rows omitted\u001b[0m"
      ]
     },
     "metadata": {},
     "output_type": "display_data"
    }
   ],
   "source": [
    "filter(:onset => o->o==0, Flute.__data__.data)"
   ]
  },
  {
   "cell_type": "code",
   "execution_count": 7,
   "metadata": {},
   "outputs": [],
   "source": []
  },
  {
   "cell_type": "code",
   "execution_count": 8,
   "id": "d4b8dd8b",
   "metadata": {},
   "outputs": [],
   "source": []
  },
  {
   "cell_type": "code",
   "execution_count": 9,
   "id": "3be56a55",
   "metadata": {},
   "outputs": [],
   "source": []
  },
  {
   "cell_type": "code",
   "execution_count": 10,
   "id": "82816014",
   "metadata": {},
   "outputs": [],
   "source": []
  },
  {
   "cell_type": "code",
   "execution_count": 11,
   "id": "02b00ab7",
   "metadata": {},
   "outputs": [],
   "source": [
    "using DataFrames\n",
    "using CSV "
   ]
  },
  {
   "cell_type": "code",
   "execution_count": 12,
   "id": "be8dd95f",
   "metadata": {},
   "outputs": [
    {
     "data": {
      "text/html": [
       "<table class=\"data-frame\"><thead><tr><th></th><th>onset</th><th>duration</th><th>sample_rate</th><th>amplitude</th><th>phase</th><th>frequency</th><th>decay</th><th>d</th></tr><tr><th></th><th>Int64</th><th>Int64</th><th>Int64</th><th>Float64</th><th>Float64</th><th>Float64</th><th>Float64</th><th>String</th></tr></thead><tbody><p>5 rows × 10 columns (omitted printing of 2 columns)</p><tr><th>1</th><td>0</td><td>512</td><td>44100</td><td>1.44979e-5</td><td>0.744313</td><td>20853.1</td><td>-5.42827</td><td>(1.066396509533436e-05+9.821831181398802e-06j)</td></tr><tr><th>2</th><td>0</td><td>512</td><td>44100</td><td>1.44979e-5</td><td>-0.744313</td><td>-20853.1</td><td>-5.42827</td><td>(1.066396509533436e-05-9.821831181398802e-06j)</td></tr><tr><th>3</th><td>0</td><td>512</td><td>44100</td><td>6.32332e-5</td><td>-1.76691</td><td>20999.7</td><td>-67.7452</td><td>(-1.2321381458592376e-05-6.202117273955251e-05j)</td></tr><tr><th>4</th><td>0</td><td>512</td><td>44100</td><td>6.32332e-5</td><td>1.76691</td><td>-20999.7</td><td>-67.7452</td><td>(-1.2321381458592376e-05+6.202117273955251e-05j)</td></tr><tr><th>5</th><td>0</td><td>512</td><td>44100</td><td>1.66388e-5</td><td>-1.839</td><td>20408.3</td><td>-28.1234</td><td>(-4.409232008996862e-06-1.6043939281226276e-05j)</td></tr></tbody></table>"
      ],
      "text/latex": [
       "\\begin{tabular}{r|ccccccccc}\n",
       "\t& onset & duration & sample\\_rate & amplitude & phase & frequency & decay & d & \\\\\n",
       "\t\\hline\n",
       "\t& Int64 & Int64 & Int64 & Float64 & Float64 & Float64 & Float64 & String & \\\\\n",
       "\t\\hline\n",
       "\t1 & 0 & 512 & 44100 & 1.44979e-5 & 0.744313 & 20853.1 & -5.42827 & (1.066396509533436e-05+9.821831181398802e-06j) & $\\dots$ \\\\\n",
       "\t2 & 0 & 512 & 44100 & 1.44979e-5 & -0.744313 & -20853.1 & -5.42827 & (1.066396509533436e-05-9.821831181398802e-06j) & $\\dots$ \\\\\n",
       "\t3 & 0 & 512 & 44100 & 6.32332e-5 & -1.76691 & 20999.7 & -67.7452 & (-1.2321381458592376e-05-6.202117273955251e-05j) & $\\dots$ \\\\\n",
       "\t4 & 0 & 512 & 44100 & 6.32332e-5 & 1.76691 & -20999.7 & -67.7452 & (-1.2321381458592376e-05+6.202117273955251e-05j) & $\\dots$ \\\\\n",
       "\t5 & 0 & 512 & 44100 & 1.66388e-5 & -1.839 & 20408.3 & -28.1234 & (-4.409232008996862e-06-1.6043939281226276e-05j) & $\\dots$ \\\\\n",
       "\\end{tabular}\n"
      ],
      "text/plain": [
       "\u001b[1m5×10 DataFrame\u001b[0m\n",
       "\u001b[1m Row \u001b[0m│\u001b[1m onset \u001b[0m\u001b[1m duration \u001b[0m\u001b[1m sample_rate \u001b[0m\u001b[1m amplitude  \u001b[0m\u001b[1m phase     \u001b[0m\u001b[1m frequency \u001b[0m\u001b[1m decay  \u001b[0m ⋯\n",
       "\u001b[1m     \u001b[0m│\u001b[90m Int64 \u001b[0m\u001b[90m Int64    \u001b[0m\u001b[90m Int64       \u001b[0m\u001b[90m Float64    \u001b[0m\u001b[90m Float64   \u001b[0m\u001b[90m Float64   \u001b[0m\u001b[90m Float64\u001b[0m ⋯\n",
       "─────┼──────────────────────────────────────────────────────────────────────────\n",
       "   1 │     0       512        44100  1.44979e-5   0.744313    20853.1   -5.428 ⋯\n",
       "   2 │     0       512        44100  1.44979e-5  -0.744313   -20853.1   -5.428\n",
       "   3 │     0       512        44100  6.32332e-5  -1.76691     20999.7  -67.745\n",
       "   4 │     0       512        44100  6.32332e-5   1.76691    -20999.7  -67.745\n",
       "   5 │     0       512        44100  1.66388e-5  -1.839       20408.3  -28.123 ⋯\n",
       "\u001b[36m                                                               4 columns omitted\u001b[0m"
      ]
     },
     "metadata": {},
     "output_type": "display_data"
    }
   ],
   "source": [
    "df = DataFrame(CSV.File(\"./flute_a4.csv\"))\n",
    "first(df, 5)"
   ]
  },
  {
   "cell_type": "code",
   "execution_count": 13,
   "id": "355287fc",
   "metadata": {},
   "outputs": [],
   "source": [
    "struct Id <: Chakra.Id\n",
    "    value::Int\n",
    "end\n",
    "\n",
    "struct Constituent <: Chakra.Constituent\n",
    "    value::DataFrameRow\n",
    "end\n",
    "\n",
    "struct Hierarchy <: Chakra.Hierarchy\n",
    "    value::DataFrame\n",
    "end"
   ]
  },
  {
   "cell_type": "code",
   "execution_count": 14,
   "id": "7dbee019",
   "metadata": {},
   "outputs": [
    {
     "data": {
      "text/plain": [
       "DataFrame"
      ]
     },
     "metadata": {},
     "output_type": "display_data"
    }
   ],
   "source": [
    "typeof(df)"
   ]
  },
  {
   "cell_type": "code",
   "execution_count": 15,
   "id": "7e1c28db",
   "metadata": {},
   "outputs": [
    {
     "data": {
      "text/plain": [
       "Hierarchy(\u001b[1m47419×10 DataFrame\u001b[0m\n",
       "\u001b[1m   Row \u001b[0m│\u001b[1m onset \u001b[0m\u001b[1m duration \u001b[0m\u001b[1m sample_rate \u001b[0m\u001b[1m amplitude  \u001b[0m\u001b[1m phase     \u001b[0m\u001b[1m frequency \u001b[0m\u001b[1m decay\u001b[0m ⋯\n",
       "\u001b[1m       \u001b[0m│\u001b[90m Int64 \u001b[0m\u001b[90m Int64    \u001b[0m\u001b[90m Int64       \u001b[0m\u001b[90m Float64    \u001b[0m\u001b[90m Float64   \u001b[0m\u001b[90m Float64   \u001b[0m\u001b[90m Float\u001b[0m ⋯\n",
       "───────┼────────────────────────────────────────────────────────────────────────\n",
       "     1 │     0       512        44100  1.44979e-5   0.744313   20853.1     -5. ⋯\n",
       "     2 │     0       512        44100  1.44979e-5  -0.744313  -20853.1     -5.\n",
       "     3 │     0       512        44100  6.32332e-5  -1.76691    20999.7    -67.\n",
       "     4 │     0       512        44100  6.32332e-5   1.76691   -20999.7    -67.\n",
       "     5 │     0       512        44100  1.66388e-5  -1.839      20408.3    -28. ⋯\n",
       "     6 │     0       512        44100  1.66388e-5   1.839     -20408.3    -28.\n",
       "     7 │     0       512        44100  5.207e-5    -0.452759   20667.0    -88.\n",
       "     8 │     0       512        44100  5.207e-5     0.452759  -20667.0    -88.\n",
       "   ⋮   │   ⋮       ⋮           ⋮           ⋮           ⋮          ⋮          ⋮ ⋱\n",
       " 47413 │ 94720        83        44100  1.17763     -1.08306     1788.73  -898. ⋯\n",
       " 47414 │ 94720        83        44100  1.17763      1.08306    -1788.73  -898.\n",
       " 47415 │ 94720        83        44100  1.39008      0.275239    1314.72  -925.\n",
       " 47416 │ 94720        83        44100  1.39008     -0.275239   -1314.72  -925.\n",
       " 47417 │ 94720        83        44100  0.969085     1.97884      859.36  -945. ⋯\n",
       " 47418 │ 94720        83        44100  0.969085    -1.97884     -859.36  -945.\n",
       " 47419 │ 94720        83        44100  0.466578    -3.14159       -0.0   -951.\n",
       "\u001b[36m                                                4 columns and 47404 rows omitted\u001b[0m)"
      ]
     },
     "metadata": {},
     "output_type": "display_data"
    }
   ],
   "source": [
    "Hierarchy(df)"
   ]
  },
  {
   "cell_type": "code",
   "execution_count": 16,
   "id": "0b6f4cf0",
   "metadata": {},
   "outputs": [
    {
     "data": {
      "text/plain": [
       "Hierarchy"
      ]
     },
     "metadata": {},
     "output_type": "display_data"
    }
   ],
   "source": [
    "typeof(Hierarchy(df))"
   ]
  },
  {
   "cell_type": "code",
   "execution_count": 17,
   "id": "0f1fd91b",
   "metadata": {},
   "outputs": [
    {
     "data": {
      "text/plain": [
       "Id"
      ]
     },
     "metadata": {},
     "output_type": "display_data"
    }
   ],
   "source": [
    "typeof(Id(1))"
   ]
  },
  {
   "cell_type": "code",
   "execution_count": 18,
   "id": "1a41a4d8",
   "metadata": {},
   "outputs": [
    {
     "ename": "MethodError",
     "evalue": "MethodError: objects of type DataFrame are not callable",
     "output_type": "error",
     "traceback": [
      "MethodError: objects of type DataFrame are not callable\n",
      "\n",
      "Stacktrace:\n",
      " [1] fnd(x::Id, m::Hierarchy)\n",
      "   @ Main ~/Mirror/_MULTIMEDIA/THESIS/thesis/knowledgeRepresentation/Resonance-main/Resonance.ipynb:4\n",
      " [2] top-level scope\n",
      "   @ ~/Mirror/_MULTIMEDIA/THESIS/thesis/knowledgeRepresentation/Resonance-main/Resonance.ipynb:6"
     ]
    }
   ],
   "source": [
    "# Chakra.fnd(x::Id, h::Hierarchy)::Constituent = Constituent(h.value(x.value,:))\n",
    "# fnd(Id(1), Hierarchy(df))\n",
    "\n",
    "Chakra.fnd(x::Id,m::Hierarchy)::Constituent = fnd(m.value(x.value),:)\n",
    "\n",
    "fnd(Id(1), Hierarchy(df))"
   ]
  },
  {
   "cell_type": "code",
   "execution_count": 19,
   "id": "dfdd36cf",
   "metadata": {},
   "outputs": [
    {
     "ename": "UndefVarError",
     "evalue": "UndefVarError: Charm not defined",
     "output_type": "error",
     "traceback": [
      "UndefVarError: Charm not defined\n",
      "\n",
      "Stacktrace:\n",
      " [1] top-level scope\n",
      "   @ ~/Mirror/_MULTIMEDIA/THESIS/thesis/knowledgeRepresentation/Resonance-main/Resonance.ipynb:2"
     ]
    }
   ],
   "source": [
    "# Add df to hierarchy?\n",
    "__data__ = Charm.Resonance.DataSet\n",
    "\n",
    "peek(m::Module) = peek(m.__data__)\n"
   ]
  },
  {
   "cell_type": "code",
   "execution_count": 20,
   "id": "fc1b05a1",
   "metadata": {},
   "outputs": [],
   "source": [
    "\n",
    "\n",
    "#Charm.getpitch()\n",
    "# resonance <: chakra.constituent\n",
    "\n",
    "\n",
    "\n",
    "# FREQ\n",
    "# struct FRQ <:Chakra.attribute(:req, Float64) end\n",
    "# Chakra.geta(:FREQ, c;;Constituent)::Float64 = c.value[\"<field in table\"]\n",
    "# Check\n",
    "# geta(FREQ(), fnd(Id(1), Hierarchy(df))))"
   ]
  },
  {
   "cell_type": "code",
   "execution_count": 21,
   "id": "cfdc2513",
   "metadata": {},
   "outputs": [
    {
     "data": {
      "text/plain": [
       "true"
      ]
     },
     "metadata": {},
     "output_type": "display_data"
    }
   ],
   "source": [
    "Chakra.isdatasource(Flute)  # moet true zijn!"
   ]
  },
  {
   "cell_type": "code",
   "execution_count": 22,
   "id": "aa766415",
   "metadata": {},
   "outputs": [
    {
     "ename": "UndefVarError",
     "evalue": "UndefVarError: Charm not defined",
     "output_type": "error",
     "traceback": [
      "UndefVarError: Charm not defined\n",
      "\n",
      "Stacktrace:\n",
      " [1] top-level scope\n",
      "   @ ~/Mirror/_MULTIMEDIA/THESIS/thesis/knowledgeRepresentation/Resonance-main/Resonance.ipynb:1"
     ]
    }
   ],
   "source": [
    "x = Charm.Resonance.id(\"flute_a4.csv\")"
   ]
  },
  {
   "cell_type": "code",
   "execution_count": null,
   "id": "1a1a9e09",
   "metadata": {},
   "outputs": [],
   "source": []
  },
  {
   "cell_type": "code",
   "execution_count": 28,
   "id": "c713a7b0",
   "metadata": {},
   "outputs": [
    {
     "ename": "UndefVarError",
     "evalue": "UndefVarError: Charm not defined",
     "output_type": "error",
     "traceback": [
      "UndefVarError: Charm not defined\n",
      "\n",
      "Stacktrace:\n",
      " [1] top-level scope\n",
      "   @ ~/Mirror/_MULTIMEDIA/THESIS/thesis/knowledgeRepresentation/Resonance-main/Resonance.ipynb:1"
     ]
    }
   ],
   "source": [
    "x = Charm.Midi.id(\"syrinx.mid\")"
   ]
  },
  {
   "cell_type": "code",
   "execution_count": 29,
   "id": "8aeb98c4",
   "metadata": {},
   "outputs": [
    {
     "ename": "UndefVarError",
     "evalue": "UndefVarError: Syrinx not defined",
     "output_type": "error",
     "traceback": [
      "UndefVarError: Syrinx not defined\n",
      "\n",
      "Stacktrace:\n",
      " [1] top-level scope\n",
      "   @ ~/Mirror/_MULTIMEDIA/THESIS/thesis/knowledgeRepresentation/Resonance-main/Resonance.ipynb:1"
     ]
    }
   ],
   "source": [
    "syrinx = fnd(x,Syrinx)"
   ]
  },
  {
   "cell_type": "code",
   "execution_count": 30,
   "id": "27bededf",
   "metadata": {},
   "outputs": [
    {
     "ename": "UndefVarError",
     "evalue": "UndefVarError: syrinx not defined",
     "output_type": "error",
     "traceback": [
      "UndefVarError: syrinx not defined\n",
      "\n",
      "Stacktrace:\n",
      " [1] top-level scope\n",
      "   @ ~/Mirror/_MULTIMEDIA/THESIS/thesis/knowledgeRepresentation/Resonance-main/Resonance.ipynb:1"
     ]
    }
   ],
   "source": [
    "typeof(syrinx)"
   ]
  },
  {
   "cell_type": "code",
   "execution_count": 31,
   "id": "2283d0b0",
   "metadata": {},
   "outputs": [
    {
     "ename": "UndefVarError",
     "evalue": "UndefVarError: syrinx not defined",
     "output_type": "error",
     "traceback": [
      "UndefVarError: syrinx not defined\n",
      "\n",
      "Stacktrace:\n",
      " [1] top-level scope\n",
      "   @ ~/Mirror/_MULTIMEDIA/THESIS/thesis/knowledgeRepresentation/Resonance-main/Resonance.ipynb:1"
     ]
    }
   ],
   "source": [
    "tracks = pts(syrinx)"
   ]
  },
  {
   "cell_type": "code",
   "execution_count": 32,
   "id": "5f098334",
   "metadata": {},
   "outputs": [
    {
     "ename": "UndefVarError",
     "evalue": "UndefVarError: tracks not defined",
     "output_type": "error",
     "traceback": [
      "UndefVarError: tracks not defined\n",
      "\n",
      "Stacktrace:\n",
      " [1] top-level scope\n",
      "   @ ~/Mirror/_MULTIMEDIA/THESIS/thesis/knowledgeRepresentation/Resonance-main/Resonance.ipynb:1"
     ]
    }
   ],
   "source": [
    "track1 = tracks[1]"
   ]
  },
  {
   "cell_type": "code",
   "execution_count": 33,
   "id": "b826bba3",
   "metadata": {},
   "outputs": [
    {
     "ename": "UndefVarError",
     "evalue": "UndefVarError: track1 not defined",
     "output_type": "error",
     "traceback": [
      "UndefVarError: track1 not defined\n",
      "\n",
      "Stacktrace:\n",
      " [1] top-level scope\n",
      "   @ ~/Mirror/_MULTIMEDIA/THESIS/thesis/knowledgeRepresentation/Resonance-main/Resonance.ipynb:1"
     ]
    }
   ],
   "source": [
    "track1 = fnd(track1,Syrinx)"
   ]
  },
  {
   "cell_type": "code",
   "execution_count": 34,
   "id": "2bf9bb18",
   "metadata": {},
   "outputs": [
    {
     "ename": "UndefVarError",
     "evalue": "UndefVarError: track1 not defined",
     "output_type": "error",
     "traceback": [
      "UndefVarError: track1 not defined\n",
      "\n",
      "Stacktrace:\n",
      " [1] top-level scope\n",
      "   @ ~/Mirror/_MULTIMEDIA/THESIS/thesis/knowledgeRepresentation/Resonance-main/Resonance.ipynb:1"
     ]
    }
   ],
   "source": [
    "notes = pts(track1)"
   ]
  },
  {
   "cell_type": "code",
   "execution_count": 35,
   "id": "76ffa51f",
   "metadata": {},
   "outputs": [
    {
     "ename": "UndefVarError",
     "evalue": "UndefVarError: Charm not defined",
     "output_type": "error",
     "traceback": [
      "UndefVarError: Charm not defined\n",
      "\n",
      "Stacktrace:\n",
      " [1] top-level scope\n",
      "   @ ~/Mirror/_MULTIMEDIA/THESIS/thesis/knowledgeRepresentation/Resonance-main/Resonance.ipynb:1"
     ]
    }
   ],
   "source": [
    "note1 = fnd(Charm.Midi.id(\"syrinx.mid\",1,1),Syrinx)"
   ]
  },
  {
   "cell_type": "code",
   "execution_count": 36,
   "id": "375e40d9",
   "metadata": {},
   "outputs": [
    {
     "ename": "UndefVarError",
     "evalue": "UndefVarError: getpitch not defined",
     "output_type": "error",
     "traceback": [
      "UndefVarError: getpitch not defined\n",
      "\n",
      "Stacktrace:\n",
      " [1] top-level scope\n",
      "   @ ~/Mirror/_MULTIMEDIA/THESIS/thesis/knowledgeRepresentation/Resonance-main/Resonance.ipynb:1"
     ]
    }
   ],
   "source": [
    "getpitch(note1)"
   ]
  },
  {
   "cell_type": "code",
   "execution_count": 37,
   "id": "472cc9ed",
   "metadata": {},
   "outputs": [
    {
     "ename": "UndefVarError",
     "evalue": "UndefVarError: getonset not defined",
     "output_type": "error",
     "traceback": [
      "UndefVarError: getonset not defined\n",
      "\n",
      "Stacktrace:\n",
      " [1] top-level scope\n",
      "   @ ~/Mirror/_MULTIMEDIA/THESIS/thesis/knowledgeRepresentation/Resonance-main/Resonance.ipynb:1"
     ]
    }
   ],
   "source": [
    "getonset(note1)"
   ]
  },
  {
   "cell_type": "code",
   "execution_count": 38,
   "id": "b55181f6",
   "metadata": {},
   "outputs": [
    {
     "ename": "UndefVarError",
     "evalue": "UndefVarError: getduration not defined",
     "output_type": "error",
     "traceback": [
      "UndefVarError: getduration not defined\n",
      "\n",
      "Stacktrace:\n",
      " [1] top-level scope\n",
      "   @ ~/Mirror/_MULTIMEDIA/THESIS/thesis/knowledgeRepresentation/Resonance-main/Resonance.ipynb:1"
     ]
    }
   ],
   "source": [
    "getduration(note1)"
   ]
  },
  {
   "cell_type": "code",
   "execution_count": 39,
   "id": "80864dac",
   "metadata": {},
   "outputs": [
    {
     "ename": "UndefVarError",
     "evalue": "UndefVarError: Charm not defined",
     "output_type": "error",
     "traceback": [
      "UndefVarError: Charm not defined\n",
      "\n",
      "Stacktrace:\n",
      " [1] top-level scope\n",
      "   @ ~/Mirror/_MULTIMEDIA/THESIS/thesis/knowledgeRepresentation/Resonance-main/Resonance.ipynb:1"
     ]
    }
   ],
   "source": [
    "fnd(Charm.Midi.id(\"syrinx.mid\",2,1),Syrinx)"
   ]
  },
  {
   "cell_type": "code",
   "execution_count": 40,
   "id": "4d0bb2f6",
   "metadata": {},
   "outputs": [
    {
     "ename": "UndefVarError",
     "evalue": "UndefVarError: notes not defined",
     "output_type": "error",
     "traceback": [
      "UndefVarError: notes not defined\n",
      "\n",
      "Stacktrace:\n",
      " [1] top-level scope\n",
      "   @ ./timing.jl:262 [inlined]\n",
      " [2] top-level scope\n",
      "   @ ~/Mirror/_MULTIMEDIA/THESIS/thesis/knowledgeRepresentation/Resonance-main/Resonance.ipynb:0"
     ]
    }
   ],
   "source": [
    "@time notes = sequence(notes,Syrinx) #question"
   ]
  },
  {
   "cell_type": "code",
   "execution_count": 41,
   "id": "d022407c",
   "metadata": {},
   "outputs": [
    {
     "ename": "UndefVarError",
     "evalue": "UndefVarError: Charm not defined",
     "output_type": "error",
     "traceback": [
      "UndefVarError: Charm not defined\n",
      "\n",
      "Stacktrace:\n",
      " [1] top-level scope\n",
      "   @ ~/Mirror/_MULTIMEDIA/THESIS/thesis/knowledgeRepresentation/Resonance-main/Resonance.ipynb:1"
     ]
    }
   ],
   "source": [
    "pitchvp = vp(Charm.Attribute(:pitch))\n",
    "onsetvp = vp(Charm.Attribute(:onset))\n",
    "X = link(pitchvp,onsetvp)"
   ]
  },
  {
   "cell_type": "code",
   "execution_count": 42,
   "id": "b53cd515",
   "metadata": {},
   "outputs": [
    {
     "ename": "UndefVarError",
     "evalue": "UndefVarError: pitchvp not defined",
     "output_type": "error",
     "traceback": [
      "UndefVarError: pitchvp not defined\n",
      "\n",
      "Stacktrace:\n",
      " [1] top-level scope\n",
      "   @ ~/Mirror/_MULTIMEDIA/THESIS/thesis/knowledgeRepresentation/Resonance-main/Resonance.ipynb:1"
     ]
    }
   ],
   "source": [
    "typeof(pitchvp)"
   ]
  },
  {
   "cell_type": "code",
   "execution_count": 43,
   "id": "f3d8cc2f",
   "metadata": {},
   "outputs": [
    {
     "ename": "UndefVarError",
     "evalue": "UndefVarError: X not defined",
     "output_type": "error",
     "traceback": [
      "UndefVarError: X not defined\n",
      "\n",
      "Stacktrace:\n",
      " [1] top-level scope\n",
      "   @ ~/Mirror/_MULTIMEDIA/THESIS/thesis/knowledgeRepresentation/Resonance-main/Resonance.ipynb:1"
     ]
    }
   ],
   "source": [
    "vp_map(X,notes)"
   ]
  },
  {
   "cell_type": "code",
   "execution_count": 44,
   "id": "933f2294",
   "metadata": {},
   "outputs": [
    {
     "ename": "UndefVarError",
     "evalue": "UndefVarError: note1 not defined",
     "output_type": "error",
     "traceback": [
      "UndefVarError: note1 not defined\n",
      "\n",
      "Stacktrace:\n",
      " [1] top-level scope\n",
      "   @ ~/Mirror/_MULTIMEDIA/THESIS/thesis/knowledgeRepresentation/Resonance-main/Resonance.ipynb:1"
     ]
    }
   ],
   "source": [
    "p1 = geta(\"Charm.pitch\",note1)"
   ]
  },
  {
   "cell_type": "code",
   "execution_count": 45,
   "id": "b5d24a03",
   "metadata": {},
   "outputs": [
    {
     "ename": "UndefVarError",
     "evalue": "UndefVarError: Syrinx not defined",
     "output_type": "error",
     "traceback": [
      "UndefVarError: Syrinx not defined\n",
      "\n",
      "Stacktrace:\n",
      " [1] top-level scope\n",
      "   @ ~/Mirror/_MULTIMEDIA/THESIS/thesis/knowledgeRepresentation/Resonance-main/Resonance.ipynb:1"
     ]
    }
   ],
   "source": [
    "p2 = geta(\"Charm.pitch\",fnd(Syrinx.id(1,2),Syrinx))"
   ]
  },
  {
   "cell_type": "code",
   "execution_count": 46,
   "id": "d114ca60",
   "metadata": {},
   "outputs": [
    {
     "ename": "UndefVarError",
     "evalue": "UndefVarError: Charm not defined",
     "output_type": "error",
     "traceback": [
      "UndefVarError: Charm not defined\n",
      "\n",
      "Stacktrace:\n",
      " [1] top-level scope\n",
      "   @ ~/Mirror/_MULTIMEDIA/THESIS/thesis/knowledgeRepresentation/Resonance-main/Resonance.ipynb:1"
     ]
    }
   ],
   "source": [
    "Charm.diff(p1,p2)    # dit is interval"
   ]
  },
  {
   "cell_type": "code",
   "execution_count": 47,
   "id": "b94fcbbc",
   "metadata": {},
   "outputs": [
    {
     "ename": "UndefVarError",
     "evalue": "UndefVarError: p2 not defined",
     "output_type": "error",
     "traceback": [
      "UndefVarError: p2 not defined\n",
      "\n",
      "Stacktrace:\n",
      " [1] top-level scope\n",
      "   @ ~/Mirror/_MULTIMEDIA/THESIS/thesis/knowledgeRepresentation/Resonance-main/Resonance.ipynb:1"
     ]
    }
   ],
   "source": [
    "p2 <= p1"
   ]
  },
  {
   "cell_type": "code",
   "execution_count": 48,
   "id": "905906d6",
   "metadata": {},
   "outputs": [
    {
     "ename": "UndefVarError",
     "evalue": "UndefVarError: Charm not defined",
     "output_type": "error",
     "traceback": [
      "UndefVarError: Charm not defined\n",
      "\n",
      "Stacktrace:\n",
      " [1] top-level scope\n",
      "   @ ~/Mirror/_MULTIMEDIA/THESIS/thesis/knowledgeRepresentation/Resonance-main/Resonance.ipynb:3"
     ]
    }
   ],
   "source": [
    "# Charm.Midi.Pitch vervangen\n",
    "\n",
    "Base.:<=(x::Charm.Pitch,y::Charm.Pitch)::Bool = x.value <= y.value "
   ]
  },
  {
   "cell_type": "code",
   "execution_count": 49,
   "id": "56ba1722",
   "metadata": {},
   "outputs": [
    {
     "ename": "UndefVarError",
     "evalue": "UndefVarError: p1 not defined",
     "output_type": "error",
     "traceback": [
      "UndefVarError: p1 not defined\n",
      "\n",
      "Stacktrace:\n",
      " [1] top-level scope\n",
      "   @ ~/Mirror/_MULTIMEDIA/THESIS/thesis/knowledgeRepresentation/Resonance-main/Resonance.ipynb:1"
     ]
    }
   ],
   "source": [
    "p1 <= p2"
   ]
  }
 ],
 "metadata": {
  "kernelspec": {
   "display_name": "Julia 1.8.5",
   "language": "julia",
   "name": "julia-1.8"
  },
  "language_info": {
   "file_extension": ".jl",
   "mimetype": "application/julia",
   "name": "julia",
   "version": "1.8.5"
  }
 },
 "nbformat": 4,
 "nbformat_minor": 5
}
