{
 "cells": [
  {
   "cell_type": "code",
   "execution_count": 7,
   "metadata": {},
   "outputs": [],
   "source": [
    "# Python code 3.9\n",
    "import os\n",
    "import sys\n",
    "\n",
    "__file__ = \"utilities_store.py\"\n",
    "\n",
    "path = os.path.abspath(os.path.join(os.path.dirname(__file__), './fpt/'))\n",
    "if not path in sys.path:\n",
    "    sys.path.insert(1, path)\n",
    "\n",
    "import utilities_store as us"
   ]
  },
  {
   "cell_type": "code",
   "execution_count": 12,
   "metadata": {},
   "outputs": [
    {
     "name": "stderr",
     "output_type": "stream",
     "text": [
      "/Users/nastysushi/Mirror/_MULTIMEDIA/THESIS/thesis/github/fpt/fpt.py:224: RuntimeWarning: overflow encountered in power\n",
      "  Z = np.power(self.zs.reshape(-1, 1), exponent)\n",
      "/Users/nastysushi/Mirror/_MULTIMEDIA/THESIS/thesis/github/fpt/fpt.py:234: RuntimeWarning: invalid value encountered in matmul\n",
      "  d = np.divide(Z @ ps[1:].reshape(-1, 1),\n",
      "/Users/nastysushi/Mirror/_MULTIMEDIA/THESIS/thesis/github/fpt/fpt.py:235: RuntimeWarning: overflow encountered in matmul\n",
      "  Z @ (qs[1:] * i).reshape(-1, 1))\n",
      "/Users/nastysushi/Mirror/_MULTIMEDIA/THESIS/thesis/github/fpt/fpt.py:235: RuntimeWarning: invalid value encountered in matmul\n",
      "  Z @ (qs[1:] * i).reshape(-1, 1))\n",
      "/Users/nastysushi/Mirror/_MULTIMEDIA/THESIS/thesis/github/fpt/fpt.py:234: RuntimeWarning: invalid value encountered in divide\n",
      "  d = np.divide(Z @ ps[1:].reshape(-1, 1),\n",
      "/Users/nastysushi/Mirror/_MULTIMEDIA/THESIS/thesis/github/fpt/resonance.py:216: RuntimeWarning: overflow encountered in cdouble_scalars\n",
      "  d_ = self.d * self.z ** (self.N - 1)\n"
     ]
    },
    {
     "name": "stdout",
     "output_type": "stream",
     "text": [
      "Progress: 0.00%\n",
      "Progress: 0.19%\n",
      "Progress: 0.38%\n",
      "Progress: 0.57%\n",
      "Progress: 0.76%\n",
      "Progress: 0.94%\n"
     ]
    },
    {
     "name": "stderr",
     "output_type": "stream",
     "text": [
      "/Users/nastysushi/Mirror/_MULTIMEDIA/THESIS/thesis/github/fpt/resonance.py:216: RuntimeWarning: invalid value encountered in cdouble_scalars\n",
      "  d_ = self.d * self.z ** (self.N - 1)\n"
     ]
    },
    {
     "name": "stdout",
     "output_type": "stream",
     "text": [
      "Progress: 1.13%\n",
      "Progress: 1.32%\n"
     ]
    },
    {
     "name": "stderr",
     "output_type": "stream",
     "text": [
      "/Users/nastysushi/Mirror/_MULTIMEDIA/THESIS/thesis/github/fpt/resonance.py:266: RuntimeWarning: invalid value encountered in cdouble_scalars\n",
      "  return replace(self, d=self.d * self.z ** offset)\n"
     ]
    },
    {
     "name": "stdout",
     "output_type": "stream",
     "text": [
      "Progress: 1.51%\n",
      "Progress: 1.70%\n",
      "Progress: 1.89%\n",
      "Progress: 2.08%\n",
      "Progress: 2.27%\n",
      "Progress: 2.46%\n",
      "Progress: 2.65%\n",
      "Progress: 2.83%\n",
      "Progress: 3.02%\n",
      "Progress: 3.21%\n",
      "Progress: 3.40%\n",
      "Progress: 3.59%\n",
      "Progress: 3.78%\n",
      "Progress: 3.97%\n",
      "Progress: 4.16%\n",
      "Progress: 4.35%\n",
      "Progress: 4.54%\n",
      "Progress: 4.72%\n",
      "Progress: 4.91%\n",
      "Progress: 5.10%\n",
      "Progress: 5.29%\n",
      "Progress: 5.48%\n",
      "Progress: 5.67%\n",
      "Progress: 5.86%\n",
      "Progress: 6.05%\n",
      "Progress: 6.24%\n",
      "Progress: 6.42%\n",
      "Progress: 6.61%\n",
      "Progress: 6.80%\n",
      "Progress: 6.99%\n",
      "Progress: 7.18%\n",
      "Progress: 7.37%\n",
      "Progress: 7.56%\n",
      "Progress: 7.75%\n",
      "Progress: 7.94%\n",
      "Progress: 8.13%\n",
      "Progress: 8.31%\n",
      "Progress: 8.50%\n",
      "Progress: 8.69%\n"
     ]
    },
    {
     "name": "stderr",
     "output_type": "stream",
     "text": [
      "/Users/nastysushi/Mirror/_MULTIMEDIA/THESIS/thesis/github/fpt/resonance.py:266: RuntimeWarning: overflow encountered in cdouble_scalars\n",
      "  return replace(self, d=self.d * self.z ** offset)\n"
     ]
    },
    {
     "name": "stdout",
     "output_type": "stream",
     "text": [
      "Progress: 8.88%\n",
      "Progress: 9.07%\n",
      "Progress: 9.26%\n",
      "Progress: 9.45%\n",
      "Progress: 9.64%\n",
      "Progress: 9.83%\n"
     ]
    }
   ],
   "source": [
    "spectrogram, signal = us.get_spectrogram('A_maj_4_0.wav', N = 800, step_size = 250, \n",
    "                                          power_threshold = 1e-9, amp_threshold = 1e-8)"
   ]
  },
  {
   "cell_type": "code",
   "execution_count": 11,
   "metadata": {},
   "outputs": [
    {
     "data": {
      "image/png": "[encoded data removed]",
      "text/plain": [
       "<Figure size 1080x576 with 1 Axes>"
      ]
     },
     "metadata": {
      "needs_background": "light"
     },
     "output_type": "display_data"
    }
   ],
   "source": [
    "us.plot_spectrogram(spectrogram, max_freq = 2000, scale=100)"
   ]
  }
 ],
 "metadata": {
  "kernelspec": {
   "display_name": "base",
   "language": "python",
   "name": "python3"
  },
  "language_info": {
   "codemirror_mode": {
    "name": "ipython",
    "version": 3
   },
   "file_extension": ".py",
   "mimetype": "text/x-python",
   "name": "python",
   "nbconvert_exporter": "python",
   "pygments_lexer": "ipython3",
   "version": "3.9.12"
  },
  "orig_nbformat": 4
 },
 "nbformat": 4,
 "nbformat_minor": 2
}
