{
 "cells": [
  {
   "cell_type": "code",
   "execution_count": 2,
   "metadata": {},
   "outputs": [
    {
     "data": {
      "text/plain": [
       "PyObject <module 'extractFrequencies' from '/Users/nastysushi/Mirror/_MULTIMEDIA/THESIS/thesis/github/./feature-extraction/extractFrequencies.py'>"
      ]
     },
     "metadata": {},
     "output_type": "display_data"
    }
   ],
   "source": [
    "# Code written in Julia\n",
    "\n",
    "using PyCall # call python functions in julia\n",
    "using PyPlot\n",
    "using Conda\n",
    "\n",
    "pushfirst!(PyVector(pyimport(\"sys\").\"path\"), \"./fpt/\")\n",
    "pushfirst!(PyVector(pyimport(\"sys\").\"path\"), \"./feature-extraction/\")\n",
    "\n",
    "prop = pyimport(\"cached_property\")\n",
    "res = pyimport(\"resonance\")\n",
    "us = pyimport(\"utilities_store\")\n",
    "frequencies = pyimport(\"extractFrequencies\")"
   ]
  },
  {
   "cell_type": "code",
   "execution_count": 3,
   "metadata": {},
   "outputs": [
    {
     "data": {
      "text/plain": [
       "440"
      ]
     },
     "metadata": {},
     "output_type": "display_data"
    }
   ],
   "source": [
    "frequencies.extractFrequencies()"
   ]
  }
 ],
 "metadata": {
  "kernelspec": {
   "display_name": "Julia 1.8.5",
   "language": "julia",
   "name": "julia-1.8"
  },
  "language_info": {
   "file_extension": ".jl",
   "mimetype": "application/julia",
   "name": "julia",
   "version": "1.8.5"
  },
  "orig_nbformat": 4
 },
 "nbformat": 4,
 "nbformat_minor": 2
}
